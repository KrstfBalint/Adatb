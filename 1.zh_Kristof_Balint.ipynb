{
    "metadata": {
        "kernelspec": {
            "name": "SQL",
            "display_name": "SQL",
            "language": "sql"
        },
        "language_info": {
            "name": "sql",
            "version": ""
        }
    },
    "nbformat_minor": 2,
    "nbformat": 4,
    "cells": [
        {
            "cell_type": "code",
            "source": [
                "--Feladat 1\r\n",
                "\r\n",
                "Select tipus, ROUND(AVG (CSILLAGOK_SZAMA),0)\r\n",
                "From szallashely\r\n",
                "Where tipus!='panzió' \r\n",
                "Group by TIPUS\r\n",
                "Having Round(Avg(Csillagok_szama),0)>=3\r\n",
                ""
            ],
            "metadata": {
                "azdata_cell_guid": "ed632661-3f8e-4f27-984e-a636d9fed70b",
                "language": "sql"
            },
            "outputs": [
                {
                    "output_type": "display_data",
                    "data": {
                        "text/html": "(1 row affected)"
                    },
                    "metadata": {}
                },
                {
                    "output_type": "display_data",
                    "data": {
                        "text/html": "Total execution time: 00:00:00.010"
                    },
                    "metadata": {}
                },
                {
                    "output_type": "execute_result",
                    "metadata": {},
                    "execution_count": 10,
                    "data": {
                        "application/vnd.dataresource+json": {
                            "schema": {
                                "fields": [
                                    {
                                        "name": "tipus"
                                    },
                                    {
                                        "name": "(No column name)"
                                    }
                                ]
                            },
                            "data": [
                                {
                                    "tipus": "Hotel",
                                    "(No column name)": "3"
                                }
                            ]
                        },
                        "text/html": [
                            "<table>",
                            "<tr><th>tipus</th><th>(No column name)</th></tr>",
                            "<tr><td>Hotel</td><td>3</td></tr>",
                            "</table>"
                        ]
                    }
                }
            ],
            "execution_count": 10
        },
        {
            "cell_type": "code",
            "source": [
                "--Feladat 2\r\n",
                "Select  CASE WHEN Year(v.SZUL_DAT)>=1985 THEN 'fiatal'\r\n",
                "WHEN Year(v.Szul_dat)<1970 THEN 'idős' ELSE 'középkorú' END, Count(f.FOGLALAS_PK)\r\n",
                "From vendeg v JOIN Foglalas f ON v.USERNEV=f.UGYFEL_FK\r\n",
                "Where f.FELNOTT_SZAM>=2\r\n",
                "Group by CASE WHEN Year(v.SZUL_DAT)>=1985 THEN 'fiatal'\r\n",
                "WHEN Year(v.Szul_dat)<1970 THEN 'idős' ELSE 'középkorú' END"
            ],
            "metadata": {
                "azdata_cell_guid": "7e1fb0a5-7759-425a-886b-55ae6d85696f",
                "language": "sql"
            },
            "outputs": [
                {
                    "output_type": "display_data",
                    "data": {
                        "text/html": "(3 rows affected)"
                    },
                    "metadata": {}
                },
                {
                    "output_type": "display_data",
                    "data": {
                        "text/html": "Total execution time: 00:00:00.017"
                    },
                    "metadata": {}
                },
                {
                    "output_type": "execute_result",
                    "metadata": {},
                    "execution_count": 12,
                    "data": {
                        "application/vnd.dataresource+json": {
                            "schema": {
                                "fields": [
                                    {
                                        "name": "(No column name)"
                                    },
                                    {
                                        "name": "(No column name)"
                                    }
                                ]
                            },
                            "data": [
                                {
                                    "(No column name)": "228"
                                },
                                {
                                    "(No column name)": "65"
                                },
                                {
                                    "(No column name)": "267"
                                }
                            ]
                        },
                        "text/html": [
                            "<table>",
                            "<tr><th>(No column name)</th><th>(No column name)</th></tr>",
                            "<tr><td>fiatal</td><td>228</td></tr>",
                            "<tr><td>idős</td><td>65</td></tr>",
                            "<tr><td>középkorú</td><td>267</td></tr>",
                            "</table>"
                        ]
                    }
                }
            ],
            "execution_count": 12
        }
    ]
}