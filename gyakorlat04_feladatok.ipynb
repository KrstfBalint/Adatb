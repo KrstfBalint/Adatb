{
    "metadata": {
        "kernelspec": {
            "name": "SQL",
            "display_name": "SQL",
            "language": "sql"
        },
        "language_info": {
            "name": "sql",
            "version": ""
        }
    },
    "nbformat_minor": 2,
    "nbformat": 4,
    "cells": [
        {
            "cell_type": "markdown",
            "source": [
                "1. <span style=\"background-color: rgb(255, 255, 255); color: rgb(0, 0, 0); font-family: &quot;Open Sans&quot;, sans-serif; font-size: 14.44px;\">Készítsünk listát arról, hogy ügyfelenként (LOGIN), azon belül szállítási módonként hány megrendelés történt!&nbsp;</span> \n",
                "\n",
                "a. A lista tartalmazza a részösszegeket és a végösszeget is!  \n",
                "b. Használjuk a ROLLUP záradékot!"
            ],
            "metadata": {
                "azdata_cell_guid": "363cd270-6577-449b-9c89-d4b7c7972d52"
            },
            "attachments": {}
        },
        {
            "cell_type": "code",
            "source": [
                "SELECT [login],szall_mod, Count(sorszam)\r\n",
                "From Rendeles \r\n",
                "Group by CUBE([login],SZALL_MOD)\r\n",
                "--CUBE és ROLLUP rollupnál csak a bal oszlop szerint összegez(jobbról balra haladva képez részösszegeket), cubebal mindkettő szerint(balról jobbra is)\r\n",
                "\r\n",
                "\r\n",
                ""
            ],
            "metadata": {
                "azdata_cell_guid": "6ab9f633-a3b5-48c9-a1dc-4fb8235ae85b",
                "language": "sql"
            },
            "outputs": [
                {
                    "output_type": "display_data",
                    "data": {
                        "text/html": "(766 rows affected)"
                    },
                    "metadata": {}
                },
                {
                    "output_type": "display_data",
                    "data": {
                        "text/html": "Total execution time: 00:00:00.038"
                    },
                    "metadata": {}
                },
                {
                    "output_type": "execute_result",
                    "metadata": {},
                    "execution_count": 6,
                    "data": {
                        "application/vnd.dataresource+json": {
                            "schema": {
                                "fields": [
                                    {
                                        "name": "login"
                                    },
                                    {
                                        "name": "szall_mod"
                                    },
                                    {
                                        "name": "(No column name)"
                                    }
                                ]
                            },
                            "data": [
                                {
                                    "login": "adam1",
                                    "szall_mod": "GLS",
                                    "(No column name)": "129"
                                },
                                {
                                    "login": "adam3",
                                    "szall_mod": "GLS",
                                    "(No column name)": "10"
                                },
                                {
                                    "login": "adam4",
                                    "szall_mod": "GLS",
                                    "(No column name)": "12"
                                },
                                {
                                    "login": "agnes",
                                    "szall_mod": "GLS",
                                    "(No column name)": "144"
                                },
                                {
                                    "login": "agnes3",
                                    "szall_mod": "GLS",
                                    "(No column name)": "148"
                                },
                                {
                                    "login": "AGNESH",
                                    "szall_mod": "GLS",
                                    "(No column name)": "2"
                                },
                                {
                                    "login": "AGNESK",
                                    "szall_mod": "GLS",
                                    "(No column name)": "1"
                                },
                                {
                                    "login": "akos",
                                    "szall_mod": "GLS",
                                    "(No column name)": "146"
                                },
                                {
                                    "login": "aladar",
                                    "szall_mod": "GLS",
                                    "(No column name)": "156"
                                },
                                {
                                    "login": "alexandra",
                                    "szall_mod": "GLS",
                                    "(No column name)": "5"
                                },
                                {
                                    "login": "andi",
                                    "szall_mod": "GLS",
                                    "(No column name)": "7"
                                },
                                {
                                    "login": "andras2",
                                    "szall_mod": "GLS",
                                    "(No column name)": "4"
                                },
                                {
                                    "login": "andras21",
                                    "szall_mod": "GLS",
                                    "(No column name)": "140"
                                },
                                {
                                    "login": "andras3",
                                    "szall_mod": "GLS",
                                    "(No column name)": "3"
                                },
                                {
                                    "login": "andras4",
                                    "szall_mod": "GLS",
                                    "(No column name)": "4"
                                },
                                {
                                    "login": "andras41",
                                    "szall_mod": "GLS",
                                    "(No column name)": "149"
                                },
                                {
                                    "login": "ANDRASE",
                                    "szall_mod": "GLS",
                                    "(No column name)": "159"
                                },
                                {
                                    "login": "ANDRASN",
                                    "szall_mod": "GLS",
                                    "(No column name)": "10"
                                },
                                {
                                    "login": "andrea",
                                    "szall_mod": "GLS",
                                    "(No column name)": "12"
                                },
                                {
                                    "login": "andrea3",
                                    "szall_mod": "GLS",
                                    "(No column name)": "131"
                                },
                                {
                                    "login": "andrea4",
                                    "szall_mod": "GLS",
                                    "(No column name)": "7"
                                },
                                {
                                    "login": "ANDREAT",
                                    "szall_mod": "GLS",
                                    "(No column name)": "3"
                                },
                                {
                                    "login": "anett3",
                                    "szall_mod": "GLS",
                                    "(No column name)": "3"
                                },
                                {
                                    "login": "aniko",
                                    "szall_mod": "GLS",
                                    "(No column name)": "128"
                                },
                                {
                                    "login": "aniko4",
                                    "szall_mod": "GLS",
                                    "(No column name)": "6"
                                },
                                {
                                    "login": "ANIKOS",
                                    "szall_mod": "GLS",
                                    "(No column name)": "128"
                                },
                                {
                                    "login": "anita",
                                    "szall_mod": "GLS",
                                    "(No column name)": "5"
                                },
                                {
                                    "login": "annamaria1",
                                    "szall_mod": "GLS",
                                    "(No column name)": "5"
                                },
                                {
                                    "login": "ANNAMARIAR",
                                    "szall_mod": "GLS",
                                    "(No column name)": "8"
                                },
                                {
                                    "login": "aron2",
                                    "szall_mod": "GLS",
                                    "(No column name)": "132"
                                },
                                {
                                    "login": "ARONK",
                                    "szall_mod": "GLS",
                                    "(No column name)": "155"
                                },
                                {
                                    "login": "arpad2",
                                    "szall_mod": "GLS",
                                    "(No column name)": "6"
                                },
                                {
                                    "login": "ARPADH",
                                    "szall_mod": "GLS",
                                    "(No column name)": "6"
                                },
                                {
                                    "login": "ARPADM",
                                    "szall_mod": "GLS",
                                    "(No column name)": "6"
                                },
                                {
                                    "login": "attila1",
                                    "szall_mod": "GLS",
                                    "(No column name)": "5"
                                },
                                {
                                    "login": "attila4",
                                    "szall_mod": "GLS",
                                    "(No column name)": "135"
                                },
                                {
                                    "login": "ATTILAO",
                                    "szall_mod": "GLS",
                                    "(No column name)": "4"
                                },
                                {
                                    "login": "balazs1",
                                    "szall_mod": "GLS",
                                    "(No column name)": "128"
                                },
                                {
                                    "login": "balazs2",
                                    "szall_mod": "GLS",
                                    "(No column name)": "5"
                                },
                                {
                                    "login": "balazs3",
                                    "szall_mod": "GLS",
                                    "(No column name)": "6"
                                },
                                {
                                    "login": "balint",
                                    "szall_mod": "GLS",
                                    "(No column name)": "10"
                                },
                                {
                                    "login": "balint1",
                                    "szall_mod": "GLS",
                                    "(No column name)": "158"
                                },
                                {
                                    "login": "balint2",
                                    "szall_mod": "GLS",
                                    "(No column name)": "8"
                                },
                                {
                                    "login": "balu",
                                    "szall_mod": "GLS",
                                    "(No column name)": "127"
                                },
                                {
                                    "login": "BEATRIXK",
                                    "szall_mod": "GLS",
                                    "(No column name)": "135"
                                },
                                {
                                    "login": "BEATRIXS",
                                    "szall_mod": "GLS",
                                    "(No column name)": "146"
                                },
                                {
                                    "login": "BELAF",
                                    "szall_mod": "GLS",
                                    "(No column name)": "11"
                                },
                                {
                                    "login": "bence",
                                    "szall_mod": "GLS",
                                    "(No column name)": "4"
                                },
                                {
                                    "login": "BENCEB",
                                    "szall_mod": "GLS",
                                    "(No column name)": "5"
                                },
                                {
                                    "login": "bernadett1",
                                    "szall_mod": "GLS",
                                    "(No column name)": "10"
                                },
                                {
                                    "login": "bernadett2",
                                    "szall_mod": "GLS",
                                    "(No column name)": "6"
                                },
                                {
                                    "login": "BERNADETTO",
                                    "szall_mod": "GLS",
                                    "(No column name)": "7"
                                },
                                {
                                    "login": "bertalan",
                                    "szall_mod": "GLS",
                                    "(No column name)": "128"
                                },
                                {
                                    "login": "brigitta",
                                    "szall_mod": "GLS",
                                    "(No column name)": "137"
                                },
                                {
                                    "login": "brigitta3",
                                    "szall_mod": "GLS",
                                    "(No column name)": "144"
                                },
                                {
                                    "login": "csongor3",
                                    "szall_mod": "GLS",
                                    "(No column name)": "5"
                                },
                                {
                                    "login": "dani",
                                    "szall_mod": "GLS",
                                    "(No column name)": "5"
                                },
                                {
                                    "login": "daniel",
                                    "szall_mod": "GLS",
                                    "(No column name)": "7"
                                },
                                {
                                    "login": "daniel1",
                                    "szall_mod": "GLS",
                                    "(No column name)": "156"
                                },
                                {
                                    "login": "david",
                                    "szall_mod": "GLS",
                                    "(No column name)": "161"
                                },
                                {
                                    "login": "david1",
                                    "szall_mod": "GLS",
                                    "(No column name)": "8"
                                },
                                {
                                    "login": "david4",
                                    "szall_mod": "GLS",
                                    "(No column name)": "3"
                                },
                                {
                                    "login": "debora",
                                    "szall_mod": "GLS",
                                    "(No column name)": "7"
                                },
                                {
                                    "login": "denes",
                                    "szall_mod": "GLS",
                                    "(No column name)": "3"
                                },
                                {
                                    "login": "dora3",
                                    "szall_mod": "GLS",
                                    "(No column name)": "144"
                                },
                                {
                                    "login": "edit",
                                    "szall_mod": "GLS",
                                    "(No column name)": "7"
                                },
                                {
                                    "login": "emese",
                                    "szall_mod": "GLS",
                                    "(No column name)": "128"
                                },
                                {
                                    "login": "eszter2",
                                    "szall_mod": "GLS",
                                    "(No column name)": "127"
                                },
                                {
                                    "login": "eszter4",
                                    "szall_mod": "GLS",
                                    "(No column name)": "141"
                                },
                                {
                                    "login": "ESZTERE",
                                    "szall_mod": "GLS",
                                    "(No column name)": "6"
                                },
                                {
                                    "login": "eva",
                                    "szall_mod": "GLS",
                                    "(No column name)": "125"
                                },
                                {
                                    "login": "eva2",
                                    "szall_mod": "GLS",
                                    "(No column name)": "154"
                                },
                                {
                                    "login": "EVAV",
                                    "szall_mod": "GLS",
                                    "(No column name)": "2"
                                },
                                {
                                    "login": "ferenc1",
                                    "szall_mod": "GLS",
                                    "(No column name)": "144"
                                },
                                {
                                    "login": "fruzsina4",
                                    "szall_mod": "GLS",
                                    "(No column name)": "8"
                                },
                                {
                                    "login": "gabor1",
                                    "szall_mod": "GLS",
                                    "(No column name)": "9"
                                },
                                {
                                    "login": "gabor4",
                                    "szall_mod": "GLS",
                                    "(No column name)": "7"
                                },
                                {
                                    "login": "GABORS",
                                    "szall_mod": "GLS",
                                    "(No column name)": "5"
                                },
                                {
                                    "login": "gabriella1",
                                    "szall_mod": "GLS",
                                    "(No column name)": "5"
                                },
                                {
                                    "login": "gabriella10",
                                    "szall_mod": "GLS",
                                    "(No column name)": "4"
                                },
                                {
                                    "login": "georgij",
                                    "szall_mod": "GLS",
                                    "(No column name)": "9"
                                },
                                {
                                    "login": "gusztav",
                                    "szall_mod": "GLS",
                                    "(No column name)": "5"
                                },
                                {
                                    "login": "GYONGYIK",
                                    "szall_mod": "GLS",
                                    "(No column name)": "6"
                                },
                                {
                                    "login": "GYORGYO",
                                    "szall_mod": "GLS",
                                    "(No column name)": "7"
                                },
                                {
                                    "login": "henrik3",
                                    "szall_mod": "GLS",
                                    "(No column name)": "7"
                                },
                                {
                                    "login": "IBOLYAA",
                                    "szall_mod": "GLS",
                                    "(No column name)": "140"
                                },
                                {
                                    "login": "ilona3",
                                    "szall_mod": "GLS",
                                    "(No column name)": "9"
                                },
                                {
                                    "login": "imre",
                                    "szall_mod": "GLS",
                                    "(No column name)": "5"
                                },
                                {
                                    "login": "imre1",
                                    "szall_mod": "GLS",
                                    "(No column name)": "8"
                                },
                                {
                                    "login": "istvan",
                                    "szall_mod": "GLS",
                                    "(No column name)": "3"
                                },
                                {
                                    "login": "istvan1",
                                    "szall_mod": "GLS",
                                    "(No column name)": "8"
                                },
                                {
                                    "login": "ISTVANV",
                                    "szall_mod": "GLS",
                                    "(No column name)": "4"
                                },
                                {
                                    "login": "janos3",
                                    "szall_mod": "GLS",
                                    "(No column name)": "5"
                                },
                                {
                                    "login": "JANOSG",
                                    "szall_mod": "GLS",
                                    "(No column name)": "3"
                                },
                                {
                                    "login": "JANOSP",
                                    "szall_mod": "GLS",
                                    "(No column name)": "7"
                                },
                                {
                                    "login": "jozsef",
                                    "szall_mod": "GLS",
                                    "(No column name)": "116"
                                },
                                {
                                    "login": "jozsef2",
                                    "szall_mod": "GLS",
                                    "(No column name)": "7"
                                },
                                {
                                    "login": "JOZSEFG",
                                    "szall_mod": "GLS",
                                    "(No column name)": "11"
                                },
                                {
                                    "login": "JUDITH",
                                    "szall_mod": "GLS",
                                    "(No column name)": "170"
                                },
                                {
                                    "login": "julia",
                                    "szall_mod": "GLS",
                                    "(No column name)": "137"
                                },
                                {
                                    "login": "julia4",
                                    "szall_mod": "GLS",
                                    "(No column name)": "2"
                                },
                                {
                                    "login": "julianna4",
                                    "szall_mod": "GLS",
                                    "(No column name)": "8"
                                },
                                {
                                    "login": "kata",
                                    "szall_mod": "GLS",
                                    "(No column name)": "5"
                                },
                                {
                                    "login": "katalin",
                                    "szall_mod": "GLS",
                                    "(No column name)": "7"
                                },
                                {
                                    "login": "katalin4",
                                    "szall_mod": "GLS",
                                    "(No column name)": "7"
                                },
                                {
                                    "login": "kati",
                                    "szall_mod": "GLS",
                                    "(No column name)": "4"
                                },
                                {
                                    "login": "katka",
                                    "szall_mod": "GLS",
                                    "(No column name)": "6"
                                },
                                {
                                    "login": "klaudia2",
                                    "szall_mod": "GLS",
                                    "(No column name)": "3"
                                },
                                {
                                    "login": "kornel4",
                                    "szall_mod": "GLS",
                                    "(No column name)": "3"
                                },
                                {
                                    "login": "kristof4",
                                    "szall_mod": "GLS",
                                    "(No column name)": "9"
                                },
                                {
                                    "login": "kriszti",
                                    "szall_mod": "GLS",
                                    "(No column name)": "3"
                                },
                                {
                                    "login": "krisztian4",
                                    "szall_mod": "GLS",
                                    "(No column name)": "5"
                                },
                                {
                                    "login": "KRISZTIANM",
                                    "szall_mod": "GLS",
                                    "(No column name)": "118"
                                },
                                {
                                    "login": "krisztina",
                                    "szall_mod": "GLS",
                                    "(No column name)": "149"
                                },
                                {
                                    "login": "krisztina1",
                                    "szall_mod": "GLS",
                                    "(No column name)": "10"
                                },
                                {
                                    "login": "KRISZTINAG",
                                    "szall_mod": "GLS",
                                    "(No column name)": "6"
                                },
                                {
                                    "login": "lajos",
                                    "szall_mod": "GLS",
                                    "(No column name)": "5"
                                },
                                {
                                    "login": "lala",
                                    "szall_mod": "GLS",
                                    "(No column name)": "5"
                                },
                                {
                                    "login": "laszlo1",
                                    "szall_mod": "GLS",
                                    "(No column name)": "130"
                                },
                                {
                                    "login": "laszlo2",
                                    "szall_mod": "GLS",
                                    "(No column name)": "12"
                                },
                                {
                                    "login": "LASZLOA",
                                    "szall_mod": "GLS",
                                    "(No column name)": "156"
                                },
                                {
                                    "login": "LASZLON",
                                    "szall_mod": "GLS",
                                    "(No column name)": "126"
                                },
                                {
                                    "login": "maria1",
                                    "szall_mod": "GLS",
                                    "(No column name)": "4"
                                },
                                {
                                    "login": "MARKH",
                                    "szall_mod": "GLS",
                                    "(No column name)": "128"
                                },
                                {
                                    "login": "marton",
                                    "szall_mod": "GLS",
                                    "(No column name)": "5"
                                },
                                {
                                    "login": "MATEK",
                                    "szall_mod": "GLS",
                                    "(No column name)": "6"
                                },
                                {
                                    "login": "matyas2",
                                    "szall_mod": "GLS",
                                    "(No column name)": "138"
                                },
                                {
                                    "login": "MATYASS",
                                    "szall_mod": "GLS",
                                    "(No column name)": "4"
                                },
                                {
                                    "login": "MIHALYJ",
                                    "szall_mod": "GLS",
                                    "(No column name)": "3"
                                },
                                {
                                    "login": "miklos2",
                                    "szall_mod": "GLS",
                                    "(No column name)": "7"
                                },
                                {
                                    "login": "MIKLOSB",
                                    "szall_mod": "GLS",
                                    "(No column name)": "6"
                                },
                                {
                                    "login": "MONIKAM",
                                    "szall_mod": "GLS",
                                    "(No column name)": "133"
                                },
                                {
                                    "login": "NANDORF",
                                    "szall_mod": "GLS",
                                    "(No column name)": "147"
                                },
                                {
                                    "login": "nikolett3",
                                    "szall_mod": "GLS",
                                    "(No column name)": "4"
                                },
                                {
                                    "login": "nikoletta4",
                                    "szall_mod": "GLS",
                                    "(No column name)": "137"
                                },
                                {
                                    "login": "NIKOLETTAT",
                                    "szall_mod": "GLS",
                                    "(No column name)": "13"
                                },
                                {
                                    "login": "norbert2",
                                    "szall_mod": "GLS",
                                    "(No column name)": "7"
                                },
                                {
                                    "login": "norbert4",
                                    "szall_mod": "GLS",
                                    "(No column name)": "1"
                                },
                                {
                                    "login": "norbert5",
                                    "szall_mod": "GLS",
                                    "(No column name)": "1"
                                },
                                {
                                    "login": "pal",
                                    "szall_mod": "GLS",
                                    "(No column name)": "152"
                                },
                                {
                                    "login": "peter1",
                                    "szall_mod": "GLS",
                                    "(No column name)": "151"
                                },
                                {
                                    "login": "peter2",
                                    "szall_mod": "GLS",
                                    "(No column name)": "7"
                                },
                                {
                                    "login": "peter3",
                                    "szall_mod": "GLS",
                                    "(No column name)": "8"
                                },
                                {
                                    "login": "peter4",
                                    "szall_mod": "GLS",
                                    "(No column name)": "266"
                                },
                                {
                                    "login": "PETERB",
                                    "szall_mod": "GLS",
                                    "(No column name)": "2"
                                },
                                {
                                    "login": "polla",
                                    "szall_mod": "GLS",
                                    "(No column name)": "9"
                                },
                                {
                                    "login": "rajmond4",
                                    "szall_mod": "GLS",
                                    "(No column name)": "6"
                                },
                                {
                                    "login": "reka4",
                                    "szall_mod": "GLS",
                                    "(No column name)": "5"
                                },
                                {
                                    "login": "RENATAK",
                                    "szall_mod": "GLS",
                                    "(No column name)": "135"
                                },
                                {
                                    "login": "RENATAS",
                                    "szall_mod": "GLS",
                                    "(No column name)": "6"
                                },
                                {
                                    "login": "robert2",
                                    "szall_mod": "GLS",
                                    "(No column name)": "5"
                                },
                                {
                                    "login": "ROBERTI",
                                    "szall_mod": "GLS",
                                    "(No column name)": "5"
                                },
                                {
                                    "login": "ROBERTP",
                                    "szall_mod": "GLS",
                                    "(No column name)": "8"
                                },
                                {
                                    "login": "roland",
                                    "szall_mod": "GLS",
                                    "(No column name)": "132"
                                },
                                {
                                    "login": "roland1",
                                    "szall_mod": "GLS",
                                    "(No column name)": "142"
                                },
                                {
                                    "login": "roza2",
                                    "szall_mod": "GLS",
                                    "(No column name)": "3"
                                },
                                {
                                    "login": "sandor",
                                    "szall_mod": "GLS",
                                    "(No column name)": "4"
                                },
                                {
                                    "login": "sandor3",
                                    "szall_mod": "GLS",
                                    "(No column name)": "4"
                                },
                                {
                                    "login": "sandor4",
                                    "szall_mod": "GLS",
                                    "(No column name)": "4"
                                },
                                {
                                    "login": "sara",
                                    "szall_mod": "GLS",
                                    "(No column name)": "4"
                                },
                                {
                                    "login": "SEBASTIANF",
                                    "szall_mod": "GLS",
                                    "(No column name)": "6"
                                },
                                {
                                    "login": "sebestyen",
                                    "szall_mod": "GLS",
                                    "(No column name)": "4"
                                },
                                {
                                    "login": "szabolcs",
                                    "szall_mod": "GLS",
                                    "(No column name)": "145"
                                },
                                {
                                    "login": "SZABOLCSM",
                                    "szall_mod": "GLS",
                                    "(No column name)": "126"
                                },
                                {
                                    "login": "SZILARDS",
                                    "szall_mod": "GLS",
                                    "(No column name)": "144"
                                },
                                {
                                    "login": "szilvia1",
                                    "szall_mod": "GLS",
                                    "(No column name)": "156"
                                },
                                {
                                    "login": "tamara2",
                                    "szall_mod": "GLS",
                                    "(No column name)": "6"
                                },
                                {
                                    "login": "tamas",
                                    "szall_mod": "GLS",
                                    "(No column name)": "143"
                                },
                                {
                                    "login": "TAMASF",
                                    "szall_mod": "GLS",
                                    "(No column name)": "159"
                                },
                                {
                                    "login": "tibor",
                                    "szall_mod": "GLS",
                                    "(No column name)": "115"
                                },
                                {
                                    "login": "tibor2",
                                    "szall_mod": "GLS",
                                    "(No column name)": "7"
                                },
                                {
                                    "login": "tihamer",
                                    "szall_mod": "GLS",
                                    "(No column name)": "9"
                                },
                                {
                                    "login": "timea",
                                    "szall_mod": "GLS",
                                    "(No column name)": "14"
                                },
                                {
                                    "login": "timea2",
                                    "szall_mod": "GLS",
                                    "(No column name)": "1"
                                },
                                {
                                    "login": "tunde",
                                    "szall_mod": "GLS",
                                    "(No column name)": "6"
                                },
                                {
                                    "login": "valentin",
                                    "szall_mod": "GLS",
                                    "(No column name)": "5"
                                },
                                {
                                    "login": "veronika4",
                                    "szall_mod": "GLS",
                                    "(No column name)": "5"
                                },
                                {
                                    "login": "VIKTORIAU",
                                    "szall_mod": "GLS",
                                    "(No column name)": "5"
                                },
                                {
                                    "login": "VIKTORK",
                                    "szall_mod": "GLS",
                                    "(No column name)": "8"
                                },
                                {
                                    "login": "vivien3",
                                    "szall_mod": "GLS",
                                    "(No column name)": "9"
                                },
                                {
                                    "login": "zoltan",
                                    "szall_mod": "GLS",
                                    "(No column name)": "5"
                                },
                                {
                                    "login": "zoltan4",
                                    "szall_mod": "GLS",
                                    "(No column name)": "129"
                                },
                                {
                                    "login": "ZOLTANP",
                                    "szall_mod": "GLS",
                                    "(No column name)": "6"
                                },
                                {
                                    "login": "ZOLTANT",
                                    "szall_mod": "GLS",
                                    "(No column name)": "127"
                                },
                                {
                                    "login": "zsofi1",
                                    "szall_mod": "GLS",
                                    "(No column name)": "7"
                                },
                                {
                                    "login": "zsolt1",
                                    "szall_mod": "GLS",
                                    "(No column name)": "11"
                                },
                                {
                                    "login": "ZSOLTJ",
                                    "szall_mod": "GLS",
                                    "(No column name)": "1"
                                },
                                {
                                    "login": "zsuzsa",
                                    "szall_mod": "GLS",
                                    "(No column name)": "8"
                                },
                                {
                                    "login": "zsuzsa3",
                                    "szall_mod": "GLS",
                                    "(No column name)": "5"
                                },
                                {
                                    "login": "zsuzsanna",
                                    "szall_mod": "GLS",
                                    "(No column name)": "7"
                                },
                                {
                                    "login": "ZSUZSAV",
                                    "szall_mod": "GLS",
                                    "(No column name)": "139"
                                },
                                {
                                    "login": "NULL",
                                    "szall_mod": "GLS",
                                    "(No column name)": "9426"
                                },
                                {
                                    "login": "adam1",
                                    "szall_mod": "Posta",
                                    "(No column name)": "132"
                                },
                                {
                                    "login": "adam3",
                                    "szall_mod": "Posta",
                                    "(No column name)": "3"
                                },
                                {
                                    "login": "adam4",
                                    "szall_mod": "Posta",
                                    "(No column name)": "6"
                                },
                                {
                                    "login": "agnes",
                                    "szall_mod": "Posta",
                                    "(No column name)": "130"
                                },
                                {
                                    "login": "agnes3",
                                    "szall_mod": "Posta",
                                    "(No column name)": "146"
                                },
                                {
                                    "login": "AGNESH",
                                    "szall_mod": "Posta",
                                    "(No column name)": "3"
                                },
                                {
                                    "login": "AGNESK",
                                    "szall_mod": "Posta",
                                    "(No column name)": "7"
                                },
                                {
                                    "login": "akos",
                                    "szall_mod": "Posta",
                                    "(No column name)": "143"
                                },
                                {
                                    "login": "aladar",
                                    "szall_mod": "Posta",
                                    "(No column name)": "134"
                                },
                                {
                                    "login": "alexandra",
                                    "szall_mod": "Posta",
                                    "(No column name)": "9"
                                },
                                {
                                    "login": "andi",
                                    "szall_mod": "Posta",
                                    "(No column name)": "4"
                                },
                                {
                                    "login": "andras2",
                                    "szall_mod": "Posta",
                                    "(No column name)": "7"
                                },
                                {
                                    "login": "andras21",
                                    "szall_mod": "Posta",
                                    "(No column name)": "124"
                                },
                                {
                                    "login": "andras3",
                                    "szall_mod": "Posta",
                                    "(No column name)": "1"
                                },
                                {
                                    "login": "andras4",
                                    "szall_mod": "Posta",
                                    "(No column name)": "4"
                                },
                                {
                                    "login": "andras41",
                                    "szall_mod": "Posta",
                                    "(No column name)": "137"
                                },
                                {
                                    "login": "ANDRASE",
                                    "szall_mod": "Posta",
                                    "(No column name)": "141"
                                },
                                {
                                    "login": "ANDRASN",
                                    "szall_mod": "Posta",
                                    "(No column name)": "9"
                                },
                                {
                                    "login": "andrea",
                                    "szall_mod": "Posta",
                                    "(No column name)": "4"
                                },
                                {
                                    "login": "andrea3",
                                    "szall_mod": "Posta",
                                    "(No column name)": "136"
                                },
                                {
                                    "login": "andrea4",
                                    "szall_mod": "Posta",
                                    "(No column name)": "4"
                                },
                                {
                                    "login": "ANDREAT",
                                    "szall_mod": "Posta",
                                    "(No column name)": "6"
                                },
                                {
                                    "login": "anett3",
                                    "szall_mod": "Posta",
                                    "(No column name)": "6"
                                },
                                {
                                    "login": "aniko",
                                    "szall_mod": "Posta",
                                    "(No column name)": "137"
                                },
                                {
                                    "login": "aniko4",
                                    "szall_mod": "Posta",
                                    "(No column name)": "6"
                                },
                                {
                                    "login": "ANIKOS",
                                    "szall_mod": "Posta",
                                    "(No column name)": "126"
                                },
                                {
                                    "login": "anita",
                                    "szall_mod": "Posta",
                                    "(No column name)": "2"
                                },
                                {
                                    "login": "annamaria1",
                                    "szall_mod": "Posta",
                                    "(No column name)": "4"
                                },
                                {
                                    "login": "ANNAMARIAR",
                                    "szall_mod": "Posta",
                                    "(No column name)": "2"
                                },
                                {
                                    "login": "aron2",
                                    "szall_mod": "Posta",
                                    "(No column name)": "133"
                                },
                                {
                                    "login": "ARONK",
                                    "szall_mod": "Posta",
                                    "(No column name)": "120"
                                },
                                {
                                    "login": "arpad2",
                                    "szall_mod": "Posta",
                                    "(No column name)": "1"
                                },
                                {
                                    "login": "ARPADH",
                                    "szall_mod": "Posta",
                                    "(No column name)": "3"
                                },
                                {
                                    "login": "ARPADM",
                                    "szall_mod": "Posta",
                                    "(No column name)": "3"
                                },
                                {
                                    "login": "attila1",
                                    "szall_mod": "Posta",
                                    "(No column name)": "7"
                                },
                                {
                                    "login": "attila4",
                                    "szall_mod": "Posta",
                                    "(No column name)": "125"
                                },
                                {
                                    "login": "ATTILAO",
                                    "szall_mod": "Posta",
                                    "(No column name)": "4"
                                },
                                {
                                    "login": "balazs1",
                                    "szall_mod": "Posta",
                                    "(No column name)": "136"
                                },
                                {
                                    "login": "balazs2",
                                    "szall_mod": "Posta",
                                    "(No column name)": "7"
                                },
                                {
                                    "login": "balazs3",
                                    "szall_mod": "Posta",
                                    "(No column name)": "6"
                                },
                                {
                                    "login": "balint",
                                    "szall_mod": "Posta",
                                    "(No column name)": "4"
                                },
                                {
                                    "login": "balint1",
                                    "szall_mod": "Posta",
                                    "(No column name)": "152"
                                },
                                {
                                    "login": "balint2",
                                    "szall_mod": "Posta",
                                    "(No column name)": "6"
                                },
                                {
                                    "login": "balu",
                                    "szall_mod": "Posta",
                                    "(No column name)": "137"
                                },
                                {
                                    "login": "BEATRIXK",
                                    "szall_mod": "Posta",
                                    "(No column name)": "155"
                                },
                                {
                                    "login": "BEATRIXS",
                                    "szall_mod": "Posta",
                                    "(No column name)": "141"
                                },
                                {
                                    "login": "BELAF",
                                    "szall_mod": "Posta",
                                    "(No column name)": "2"
                                },
                                {
                                    "login": "bence",
                                    "szall_mod": "Posta",
                                    "(No column name)": "6"
                                },
                                {
                                    "login": "BENCEB",
                                    "szall_mod": "Posta",
                                    "(No column name)": "7"
                                },
                                {
                                    "login": "bernadett1",
                                    "szall_mod": "Posta",
                                    "(No column name)": "5"
                                },
                                {
                                    "login": "bernadett2",
                                    "szall_mod": "Posta",
                                    "(No column name)": "2"
                                },
                                {
                                    "login": "BERNADETTO",
                                    "szall_mod": "Posta",
                                    "(No column name)": "2"
                                },
                                {
                                    "login": "bertalan",
                                    "szall_mod": "Posta",
                                    "(No column name)": "124"
                                },
                                {
                                    "login": "brigitta",
                                    "szall_mod": "Posta",
                                    "(No column name)": "137"
                                },
                                {
                                    "login": "brigitta3",
                                    "szall_mod": "Posta",
                                    "(No column name)": "130"
                                },
                                {
                                    "login": "csongor3",
                                    "szall_mod": "Posta",
                                    "(No column name)": "2"
                                },
                                {
                                    "login": "daniel",
                                    "szall_mod": "Posta",
                                    "(No column name)": "2"
                                },
                                {
                                    "login": "daniel1",
                                    "szall_mod": "Posta",
                                    "(No column name)": "131"
                                },
                                {
                                    "login": "david",
                                    "szall_mod": "Posta",
                                    "(No column name)": "144"
                                },
                                {
                                    "login": "david1",
                                    "szall_mod": "Posta",
                                    "(No column name)": "1"
                                },
                                {
                                    "login": "david4",
                                    "szall_mod": "Posta",
                                    "(No column name)": "8"
                                },
                                {
                                    "login": "debora",
                                    "szall_mod": "Posta",
                                    "(No column name)": "6"
                                },
                                {
                                    "login": "denes",
                                    "szall_mod": "Posta",
                                    "(No column name)": "2"
                                },
                                {
                                    "login": "dora3",
                                    "szall_mod": "Posta",
                                    "(No column name)": "124"
                                },
                                {
                                    "login": "edit",
                                    "szall_mod": "Posta",
                                    "(No column name)": "2"
                                },
                                {
                                    "login": "emese",
                                    "szall_mod": "Posta",
                                    "(No column name)": "136"
                                },
                                {
                                    "login": "eszter2",
                                    "szall_mod": "Posta",
                                    "(No column name)": "136"
                                },
                                {
                                    "login": "eszter4",
                                    "szall_mod": "Posta",
                                    "(No column name)": "134"
                                },
                                {
                                    "login": "ESZTERE",
                                    "szall_mod": "Posta",
                                    "(No column name)": "9"
                                },
                                {
                                    "login": "eva",
                                    "szall_mod": "Posta",
                                    "(No column name)": "140"
                                },
                                {
                                    "login": "eva2",
                                    "szall_mod": "Posta",
                                    "(No column name)": "138"
                                },
                                {
                                    "login": "EVAV",
                                    "szall_mod": "Posta",
                                    "(No column name)": "1"
                                },
                                {
                                    "login": "ferenc1",
                                    "szall_mod": "Posta",
                                    "(No column name)": "158"
                                },
                                {
                                    "login": "fruzsina4",
                                    "szall_mod": "Posta",
                                    "(No column name)": "3"
                                },
                                {
                                    "login": "gabor1",
                                    "szall_mod": "Posta",
                                    "(No column name)": "5"
                                },
                                {
                                    "login": "gabor4",
                                    "szall_mod": "Posta",
                                    "(No column name)": "9"
                                },
                                {
                                    "login": "GABORS",
                                    "szall_mod": "Posta",
                                    "(No column name)": "6"
                                },
                                {
                                    "login": "gabriella1",
                                    "szall_mod": "Posta",
                                    "(No column name)": "4"
                                },
                                {
                                    "login": "gabriella10",
                                    "szall_mod": "Posta",
                                    "(No column name)": "5"
                                },
                                {
                                    "login": "georgij",
                                    "szall_mod": "Posta",
                                    "(No column name)": "2"
                                },
                                {
                                    "login": "gusztav",
                                    "szall_mod": "Posta",
                                    "(No column name)": "4"
                                },
                                {
                                    "login": "GYONGYIK",
                                    "szall_mod": "Posta",
                                    "(No column name)": "6"
                                },
                                {
                                    "login": "GYORGYO",
                                    "szall_mod": "Posta",
                                    "(No column name)": "4"
                                },
                                {
                                    "login": "henrik3",
                                    "szall_mod": "Posta",
                                    "(No column name)": "4"
                                },
                                {
                                    "login": "IBOLYAA",
                                    "szall_mod": "Posta",
                                    "(No column name)": "125"
                                },
                                {
                                    "login": "ilona3",
                                    "szall_mod": "Posta",
                                    "(No column name)": "2"
                                },
                                {
                                    "login": "imre",
                                    "szall_mod": "Posta",
                                    "(No column name)": "4"
                                },
                                {
                                    "login": "imre1",
                                    "szall_mod": "Posta",
                                    "(No column name)": "4"
                                },
                                {
                                    "login": "istvan",
                                    "szall_mod": "Posta",
                                    "(No column name)": "4"
                                },
                                {
                                    "login": "istvan1",
                                    "szall_mod": "Posta",
                                    "(No column name)": "4"
                                },
                                {
                                    "login": "ISTVANV",
                                    "szall_mod": "Posta",
                                    "(No column name)": "9"
                                },
                                {
                                    "login": "janos3",
                                    "szall_mod": "Posta",
                                    "(No column name)": "2"
                                },
                                {
                                    "login": "JANOSG",
                                    "szall_mod": "Posta",
                                    "(No column name)": "3"
                                },
                                {
                                    "login": "JANOSP",
                                    "szall_mod": "Posta",
                                    "(No column name)": "7"
                                },
                                {
                                    "login": "jozsef",
                                    "szall_mod": "Posta",
                                    "(No column name)": "132"
                                },
                                {
                                    "login": "jozsef2",
                                    "szall_mod": "Posta",
                                    "(No column name)": "2"
                                },
                                {
                                    "login": "JOZSEFG",
                                    "szall_mod": "Posta",
                                    "(No column name)": "1"
                                },
                                {
                                    "login": "JUDITH",
                                    "szall_mod": "Posta",
                                    "(No column name)": "130"
                                },
                                {
                                    "login": "julia",
                                    "szall_mod": "Posta",
                                    "(No column name)": "160"
                                },
                                {
                                    "login": "julia4",
                                    "szall_mod": "Posta",
                                    "(No column name)": "4"
                                },
                                {
                                    "login": "julianna4",
                                    "szall_mod": "Posta",
                                    "(No column name)": "12"
                                },
                                {
                                    "login": "kata",
                                    "szall_mod": "Posta",
                                    "(No column name)": "4"
                                },
                                {
                                    "login": "katalin",
                                    "szall_mod": "Posta",
                                    "(No column name)": "7"
                                },
                                {
                                    "login": "katalin4",
                                    "szall_mod": "Posta",
                                    "(No column name)": "5"
                                },
                                {
                                    "login": "kati",
                                    "szall_mod": "Posta",
                                    "(No column name)": "5"
                                },
                                {
                                    "login": "katka",
                                    "szall_mod": "Posta",
                                    "(No column name)": "6"
                                },
                                {
                                    "login": "klaudia2",
                                    "szall_mod": "Posta",
                                    "(No column name)": "9"
                                },
                                {
                                    "login": "kornel4",
                                    "szall_mod": "Posta",
                                    "(No column name)": "1"
                                },
                                {
                                    "login": "kristof4",
                                    "szall_mod": "Posta",
                                    "(No column name)": "4"
                                },
                                {
                                    "login": "kriszti",
                                    "szall_mod": "Posta",
                                    "(No column name)": "5"
                                },
                                {
                                    "login": "krisztian4",
                                    "szall_mod": "Posta",
                                    "(No column name)": "6"
                                },
                                {
                                    "login": "KRISZTIANM",
                                    "szall_mod": "Posta",
                                    "(No column name)": "136"
                                },
                                {
                                    "login": "krisztina",
                                    "szall_mod": "Posta",
                                    "(No column name)": "150"
                                },
                                {
                                    "login": "krisztina1",
                                    "szall_mod": "Posta",
                                    "(No column name)": "4"
                                },
                                {
                                    "login": "KRISZTINAG",
                                    "szall_mod": "Posta",
                                    "(No column name)": "6"
                                },
                                {
                                    "login": "lajos",
                                    "szall_mod": "Posta",
                                    "(No column name)": "2"
                                },
                                {
                                    "login": "lala",
                                    "szall_mod": "Posta",
                                    "(No column name)": "3"
                                },
                                {
                                    "login": "laszlo1",
                                    "szall_mod": "Posta",
                                    "(No column name)": "129"
                                },
                                {
                                    "login": "laszlo2",
                                    "szall_mod": "Posta",
                                    "(No column name)": "6"
                                },
                                {
                                    "login": "LASZLOA",
                                    "szall_mod": "Posta",
                                    "(No column name)": "136"
                                },
                                {
                                    "login": "LASZLON",
                                    "szall_mod": "Posta",
                                    "(No column name)": "131"
                                },
                                {
                                    "login": "maria1",
                                    "szall_mod": "Posta",
                                    "(No column name)": "5"
                                },
                                {
                                    "login": "MARKH",
                                    "szall_mod": "Posta",
                                    "(No column name)": "142"
                                },
                                {
                                    "login": "marton",
                                    "szall_mod": "Posta",
                                    "(No column name)": "4"
                                },
                                {
                                    "login": "MATEK",
                                    "szall_mod": "Posta",
                                    "(No column name)": "10"
                                },
                                {
                                    "login": "matyas2",
                                    "szall_mod": "Posta",
                                    "(No column name)": "131"
                                },
                                {
                                    "login": "MATYASS",
                                    "szall_mod": "Posta",
                                    "(No column name)": "5"
                                },
                                {
                                    "login": "MIHALYJ",
                                    "szall_mod": "Posta",
                                    "(No column name)": "4"
                                },
                                {
                                    "login": "miklos2",
                                    "szall_mod": "Posta",
                                    "(No column name)": "4"
                                },
                                {
                                    "login": "MIKLOSB",
                                    "szall_mod": "Posta",
                                    "(No column name)": "1"
                                },
                                {
                                    "login": "MONIKAM",
                                    "szall_mod": "Posta",
                                    "(No column name)": "151"
                                },
                                {
                                    "login": "NANDORF",
                                    "szall_mod": "Posta",
                                    "(No column name)": "139"
                                },
                                {
                                    "login": "nikolett3",
                                    "szall_mod": "Posta",
                                    "(No column name)": "3"
                                },
                                {
                                    "login": "nikoletta4",
                                    "szall_mod": "Posta",
                                    "(No column name)": "158"
                                },
                                {
                                    "login": "NIKOLETTAT",
                                    "szall_mod": "Posta",
                                    "(No column name)": "7"
                                },
                                {
                                    "login": "norbert2",
                                    "szall_mod": "Posta",
                                    "(No column name)": "4"
                                },
                                {
                                    "login": "norbert4",
                                    "szall_mod": "Posta",
                                    "(No column name)": "3"
                                },
                                {
                                    "login": "norbert5",
                                    "szall_mod": "Posta",
                                    "(No column name)": "6"
                                },
                                {
                                    "login": "pal",
                                    "szall_mod": "Posta",
                                    "(No column name)": "132"
                                },
                                {
                                    "login": "peter1",
                                    "szall_mod": "Posta",
                                    "(No column name)": "135"
                                },
                                {
                                    "login": "peter2",
                                    "szall_mod": "Posta",
                                    "(No column name)": "4"
                                },
                                {
                                    "login": "peter3",
                                    "szall_mod": "Posta",
                                    "(No column name)": "7"
                                },
                                {
                                    "login": "peter4",
                                    "szall_mod": "Posta",
                                    "(No column name)": "293"
                                },
                                {
                                    "login": "PETERB",
                                    "szall_mod": "Posta",
                                    "(No column name)": "4"
                                },
                                {
                                    "login": "polla",
                                    "szall_mod": "Posta",
                                    "(No column name)": "6"
                                },
                                {
                                    "login": "rajmond4",
                                    "szall_mod": "Posta",
                                    "(No column name)": "5"
                                },
                                {
                                    "login": "reka4",
                                    "szall_mod": "Posta",
                                    "(No column name)": "4"
                                },
                                {
                                    "login": "RENATAK",
                                    "szall_mod": "Posta",
                                    "(No column name)": "140"
                                },
                                {
                                    "login": "RENATAS",
                                    "szall_mod": "Posta",
                                    "(No column name)": "5"
                                },
                                {
                                    "login": "robert2",
                                    "szall_mod": "Posta",
                                    "(No column name)": "1"
                                },
                                {
                                    "login": "ROBERTI",
                                    "szall_mod": "Posta",
                                    "(No column name)": "3"
                                },
                                {
                                    "login": "ROBERTP",
                                    "szall_mod": "Posta",
                                    "(No column name)": "8"
                                },
                                {
                                    "login": "roland",
                                    "szall_mod": "Posta",
                                    "(No column name)": "157"
                                },
                                {
                                    "login": "roland1",
                                    "szall_mod": "Posta",
                                    "(No column name)": "155"
                                },
                                {
                                    "login": "roza2",
                                    "szall_mod": "Posta",
                                    "(No column name)": "2"
                                },
                                {
                                    "login": "sandor",
                                    "szall_mod": "Posta",
                                    "(No column name)": "6"
                                },
                                {
                                    "login": "sandor3",
                                    "szall_mod": "Posta",
                                    "(No column name)": "4"
                                },
                                {
                                    "login": "sandor4",
                                    "szall_mod": "Posta",
                                    "(No column name)": "2"
                                },
                                {
                                    "login": "sara",
                                    "szall_mod": "Posta",
                                    "(No column name)": "7"
                                },
                                {
                                    "login": "SEBASTIANF",
                                    "szall_mod": "Posta",
                                    "(No column name)": "3"
                                },
                                {
                                    "login": "sebestyen",
                                    "szall_mod": "Posta",
                                    "(No column name)": "6"
                                },
                                {
                                    "login": "szabolcs",
                                    "szall_mod": "Posta",
                                    "(No column name)": "157"
                                },
                                {
                                    "login": "SZABOLCSM",
                                    "szall_mod": "Posta",
                                    "(No column name)": "153"
                                },
                                {
                                    "login": "SZILARDS",
                                    "szall_mod": "Posta",
                                    "(No column name)": "131"
                                },
                                {
                                    "login": "szilvia1",
                                    "szall_mod": "Posta",
                                    "(No column name)": "151"
                                },
                                {
                                    "login": "tamara2",
                                    "szall_mod": "Posta",
                                    "(No column name)": "4"
                                },
                                {
                                    "login": "tamas",
                                    "szall_mod": "Posta",
                                    "(No column name)": "156"
                                },
                                {
                                    "login": "TAMASF",
                                    "szall_mod": "Posta",
                                    "(No column name)": "145"
                                },
                                {
                                    "login": "tibor",
                                    "szall_mod": "Posta",
                                    "(No column name)": "129"
                                },
                                {
                                    "login": "tibor2",
                                    "szall_mod": "Posta",
                                    "(No column name)": "7"
                                },
                                {
                                    "login": "tihamer",
                                    "szall_mod": "Posta",
                                    "(No column name)": "6"
                                },
                                {
                                    "login": "timea",
                                    "szall_mod": "Posta",
                                    "(No column name)": "23"
                                },
                                {
                                    "login": "timea2",
                                    "szall_mod": "Posta",
                                    "(No column name)": "5"
                                },
                                {
                                    "login": "tunde",
                                    "szall_mod": "Posta",
                                    "(No column name)": "6"
                                },
                                {
                                    "login": "valentin",
                                    "szall_mod": "Posta",
                                    "(No column name)": "5"
                                },
                                {
                                    "login": "veronika4",
                                    "szall_mod": "Posta",
                                    "(No column name)": "6"
                                },
                                {
                                    "login": "VIKTORIAU",
                                    "szall_mod": "Posta",
                                    "(No column name)": "4"
                                },
                                {
                                    "login": "VIKTORK",
                                    "szall_mod": "Posta",
                                    "(No column name)": "6"
                                },
                                {
                                    "login": "vivien3",
                                    "szall_mod": "Posta",
                                    "(No column name)": "6"
                                },
                                {
                                    "login": "zoltan",
                                    "szall_mod": "Posta",
                                    "(No column name)": "3"
                                },
                                {
                                    "login": "zoltan4",
                                    "szall_mod": "Posta",
                                    "(No column name)": "124"
                                },
                                {
                                    "login": "ZOLTANP",
                                    "szall_mod": "Posta",
                                    "(No column name)": "3"
                                },
                                {
                                    "login": "ZOLTANT",
                                    "szall_mod": "Posta",
                                    "(No column name)": "107"
                                },
                                {
                                    "login": "zsofi1",
                                    "szall_mod": "Posta",
                                    "(No column name)": "6"
                                },
                                {
                                    "login": "zsolt1",
                                    "szall_mod": "Posta",
                                    "(No column name)": "6"
                                },
                                {
                                    "login": "ZSOLTJ",
                                    "szall_mod": "Posta",
                                    "(No column name)": "8"
                                },
                                {
                                    "login": "zsuzsa",
                                    "szall_mod": "Posta",
                                    "(No column name)": "5"
                                },
                                {
                                    "login": "zsuzsa3",
                                    "szall_mod": "Posta",
                                    "(No column name)": "5"
                                },
                                {
                                    "login": "zsuzsanna",
                                    "szall_mod": "Posta",
                                    "(No column name)": "5"
                                },
                                {
                                    "login": "ZSUZSAV",
                                    "szall_mod": "Posta",
                                    "(No column name)": "139"
                                },
                                {
                                    "login": "NULL",
                                    "szall_mod": "Posta",
                                    "(No column name)": "9191"
                                },
                                {
                                    "login": "adam1",
                                    "szall_mod": "Személyes átvétel",
                                    "(No column name)": "131"
                                },
                                {
                                    "login": "adam3",
                                    "szall_mod": "Személyes átvétel",
                                    "(No column name)": "2"
                                },
                                {
                                    "login": "adam4",
                                    "szall_mod": "Személyes átvétel",
                                    "(No column name)": "11"
                                },
                                {
                                    "login": "agnes",
                                    "szall_mod": "Személyes átvétel",
                                    "(No column name)": "144"
                                },
                                {
                                    "login": "agnes3",
                                    "szall_mod": "Személyes átvétel",
                                    "(No column name)": "136"
                                },
                                {
                                    "login": "AGNESH",
                                    "szall_mod": "Személyes átvétel",
                                    "(No column name)": "6"
                                },
                                {
                                    "login": "AGNESK",
                                    "szall_mod": "Személyes átvétel",
                                    "(No column name)": "7"
                                },
                                {
                                    "login": "akos",
                                    "szall_mod": "Személyes átvétel",
                                    "(No column name)": "140"
                                },
                                {
                                    "login": "aladar",
                                    "szall_mod": "Személyes átvétel",
                                    "(No column name)": "118"
                                },
                                {
                                    "login": "alexandra",
                                    "szall_mod": "Személyes átvétel",
                                    "(No column name)": "5"
                                },
                                {
                                    "login": "andi",
                                    "szall_mod": "Személyes átvétel",
                                    "(No column name)": "7"
                                },
                                {
                                    "login": "andras2",
                                    "szall_mod": "Személyes átvétel",
                                    "(No column name)": "11"
                                },
                                {
                                    "login": "andras21",
                                    "szall_mod": "Személyes átvétel",
                                    "(No column name)": "126"
                                },
                                {
                                    "login": "andras3",
                                    "szall_mod": "Személyes átvétel",
                                    "(No column name)": "5"
                                },
                                {
                                    "login": "andras4",
                                    "szall_mod": "Személyes átvétel",
                                    "(No column name)": "4"
                                },
                                {
                                    "login": "andras41",
                                    "szall_mod": "Személyes átvétel",
                                    "(No column name)": "133"
                                },
                                {
                                    "login": "ANDRASE",
                                    "szall_mod": "Személyes átvétel",
                                    "(No column name)": "136"
                                },
                                {
                                    "login": "ANDRASN",
                                    "szall_mod": "Személyes átvétel",
                                    "(No column name)": "5"
                                },
                                {
                                    "login": "andrea",
                                    "szall_mod": "Személyes átvétel",
                                    "(No column name)": "8"
                                },
                                {
                                    "login": "andrea3",
                                    "szall_mod": "Személyes átvétel",
                                    "(No column name)": "146"
                                },
                                {
                                    "login": "andrea4",
                                    "szall_mod": "Személyes átvétel",
                                    "(No column name)": "7"
                                },
                                {
                                    "login": "ANDREAT",
                                    "szall_mod": "Személyes átvétel",
                                    "(No column name)": "12"
                                },
                                {
                                    "login": "anett3",
                                    "szall_mod": "Személyes átvétel",
                                    "(No column name)": "9"
                                },
                                {
                                    "login": "aniko",
                                    "szall_mod": "Személyes átvétel",
                                    "(No column name)": "138"
                                },
                                {
                                    "login": "aniko4",
                                    "szall_mod": "Személyes átvétel",
                                    "(No column name)": "3"
                                },
                                {
                                    "login": "ANIKOS",
                                    "szall_mod": "Személyes átvétel",
                                    "(No column name)": "150"
                                },
                                {
                                    "login": "anita",
                                    "szall_mod": "Személyes átvétel",
                                    "(No column name)": "5"
                                },
                                {
                                    "login": "annamaria1",
                                    "szall_mod": "Személyes átvétel",
                                    "(No column name)": "7"
                                },
                                {
                                    "login": "ANNAMARIAR",
                                    "szall_mod": "Személyes átvétel",
                                    "(No column name)": "3"
                                },
                                {
                                    "login": "aron2",
                                    "szall_mod": "Személyes átvétel",
                                    "(No column name)": "144"
                                },
                                {
                                    "login": "ARONK",
                                    "szall_mod": "Személyes átvétel",
                                    "(No column name)": "155"
                                },
                                {
                                    "login": "arpad2",
                                    "szall_mod": "Személyes átvétel",
                                    "(No column name)": "10"
                                },
                                {
                                    "login": "ARPADH",
                                    "szall_mod": "Személyes átvétel",
                                    "(No column name)": "5"
                                },
                                {
                                    "login": "ARPADM",
                                    "szall_mod": "Személyes átvétel",
                                    "(No column name)": "7"
                                },
                                {
                                    "login": "attila1",
                                    "szall_mod": "Személyes átvétel",
                                    "(No column name)": "6"
                                },
                                {
                                    "login": "attila4",
                                    "szall_mod": "Személyes átvétel",
                                    "(No column name)": "141"
                                },
                                {
                                    "login": "ATTILAO",
                                    "szall_mod": "Személyes átvétel",
                                    "(No column name)": "6"
                                },
                                {
                                    "login": "balazs1",
                                    "szall_mod": "Személyes átvétel",
                                    "(No column name)": "155"
                                },
                                {
                                    "login": "balazs2",
                                    "szall_mod": "Személyes átvétel",
                                    "(No column name)": "5"
                                },
                                {
                                    "login": "balazs3",
                                    "szall_mod": "Személyes átvétel",
                                    "(No column name)": "3"
                                },
                                {
                                    "login": "balint",
                                    "szall_mod": "Személyes átvétel",
                                    "(No column name)": "2"
                                },
                                {
                                    "login": "balint1",
                                    "szall_mod": "Személyes átvétel",
                                    "(No column name)": "152"
                                },
                                {
                                    "login": "balint2",
                                    "szall_mod": "Személyes átvétel",
                                    "(No column name)": "3"
                                },
                                {
                                    "login": "balu",
                                    "szall_mod": "Személyes átvétel",
                                    "(No column name)": "123"
                                },
                                {
                                    "login": "BEATRIXK",
                                    "szall_mod": "Személyes átvétel",
                                    "(No column name)": "145"
                                },
                                {
                                    "login": "BEATRIXS",
                                    "szall_mod": "Személyes átvétel",
                                    "(No column name)": "133"
                                },
                                {
                                    "login": "BELAF",
                                    "szall_mod": "Személyes átvétel",
                                    "(No column name)": "5"
                                },
                                {
                                    "login": "bence",
                                    "szall_mod": "Személyes átvétel",
                                    "(No column name)": "8"
                                },
                                {
                                    "login": "BENCEB",
                                    "szall_mod": "Személyes átvétel",
                                    "(No column name)": "5"
                                },
                                {
                                    "login": "bernadett1",
                                    "szall_mod": "Személyes átvétel",
                                    "(No column name)": "5"
                                },
                                {
                                    "login": "bernadett2",
                                    "szall_mod": "Személyes átvétel",
                                    "(No column name)": "7"
                                },
                                {
                                    "login": "BERNADETTO",
                                    "szall_mod": "Személyes átvétel",
                                    "(No column name)": "7"
                                },
                                {
                                    "login": "bertalan",
                                    "szall_mod": "Személyes átvétel",
                                    "(No column name)": "101"
                                },
                                {
                                    "login": "brigitta",
                                    "szall_mod": "Személyes átvétel",
                                    "(No column name)": "119"
                                },
                                {
                                    "login": "brigitta3",
                                    "szall_mod": "Személyes átvétel",
                                    "(No column name)": "139"
                                },
                                {
                                    "login": "csongor3",
                                    "szall_mod": "Személyes átvétel",
                                    "(No column name)": "8"
                                },
                                {
                                    "login": "dani",
                                    "szall_mod": "Személyes átvétel",
                                    "(No column name)": "8"
                                },
                                {
                                    "login": "daniel",
                                    "szall_mod": "Személyes átvétel",
                                    "(No column name)": "4"
                                },
                                {
                                    "login": "daniel1",
                                    "szall_mod": "Személyes átvétel",
                                    "(No column name)": "132"
                                },
                                {
                                    "login": "david",
                                    "szall_mod": "Személyes átvétel",
                                    "(No column name)": "146"
                                },
                                {
                                    "login": "david1",
                                    "szall_mod": "Személyes átvétel",
                                    "(No column name)": "8"
                                },
                                {
                                    "login": "david4",
                                    "szall_mod": "Személyes átvétel",
                                    "(No column name)": "10"
                                },
                                {
                                    "login": "debora",
                                    "szall_mod": "Személyes átvétel",
                                    "(No column name)": "3"
                                },
                                {
                                    "login": "denes",
                                    "szall_mod": "Személyes átvétel",
                                    "(No column name)": "4"
                                },
                                {
                                    "login": "dora3",
                                    "szall_mod": "Személyes átvétel",
                                    "(No column name)": "164"
                                },
                                {
                                    "login": "edit",
                                    "szall_mod": "Személyes átvétel",
                                    "(No column name)": "4"
                                },
                                {
                                    "login": "emese",
                                    "szall_mod": "Személyes átvétel",
                                    "(No column name)": "142"
                                },
                                {
                                    "login": "eszter2",
                                    "szall_mod": "Személyes átvétel",
                                    "(No column name)": "152"
                                },
                                {
                                    "login": "eszter4",
                                    "szall_mod": "Személyes átvétel",
                                    "(No column name)": "149"
                                },
                                {
                                    "login": "ESZTERE",
                                    "szall_mod": "Személyes átvétel",
                                    "(No column name)": "7"
                                },
                                {
                                    "login": "eva",
                                    "szall_mod": "Személyes átvétel",
                                    "(No column name)": "139"
                                },
                                {
                                    "login": "eva2",
                                    "szall_mod": "Személyes átvétel",
                                    "(No column name)": "170"
                                },
                                {
                                    "login": "EVAV",
                                    "szall_mod": "Személyes átvétel",
                                    "(No column name)": "4"
                                },
                                {
                                    "login": "ferenc1",
                                    "szall_mod": "Személyes átvétel",
                                    "(No column name)": "135"
                                },
                                {
                                    "login": "fruzsina4",
                                    "szall_mod": "Személyes átvétel",
                                    "(No column name)": "7"
                                },
                                {
                                    "login": "gabor1",
                                    "szall_mod": "Személyes átvétel",
                                    "(No column name)": "5"
                                },
                                {
                                    "login": "gabor4",
                                    "szall_mod": "Személyes átvétel",
                                    "(No column name)": "4"
                                },
                                {
                                    "login": "GABORS",
                                    "szall_mod": "Személyes átvétel",
                                    "(No column name)": "4"
                                },
                                {
                                    "login": "gabriella1",
                                    "szall_mod": "Személyes átvétel",
                                    "(No column name)": "5"
                                },
                                {
                                    "login": "gabriella10",
                                    "szall_mod": "Személyes átvétel",
                                    "(No column name)": "7"
                                },
                                {
                                    "login": "georgij",
                                    "szall_mod": "Személyes átvétel",
                                    "(No column name)": "10"
                                },
                                {
                                    "login": "gusztav",
                                    "szall_mod": "Személyes átvétel",
                                    "(No column name)": "5"
                                },
                                {
                                    "login": "GYONGYIK",
                                    "szall_mod": "Személyes átvétel",
                                    "(No column name)": "3"
                                },
                                {
                                    "login": "GYORGYO",
                                    "szall_mod": "Személyes átvétel",
                                    "(No column name)": "5"
                                },
                                {
                                    "login": "henrik3",
                                    "szall_mod": "Személyes átvétel",
                                    "(No column name)": "5"
                                },
                                {
                                    "login": "IBOLYAA",
                                    "szall_mod": "Személyes átvétel",
                                    "(No column name)": "157"
                                },
                                {
                                    "login": "ilona3",
                                    "szall_mod": "Személyes átvétel",
                                    "(No column name)": "7"
                                },
                                {
                                    "login": "imre",
                                    "szall_mod": "Személyes átvétel",
                                    "(No column name)": "6"
                                },
                                {
                                    "login": "imre1",
                                    "szall_mod": "Személyes átvétel",
                                    "(No column name)": "3"
                                },
                                {
                                    "login": "istvan",
                                    "szall_mod": "Személyes átvétel",
                                    "(No column name)": "4"
                                },
                                {
                                    "login": "istvan1",
                                    "szall_mod": "Személyes átvétel",
                                    "(No column name)": "7"
                                },
                                {
                                    "login": "ISTVANV",
                                    "szall_mod": "Személyes átvétel",
                                    "(No column name)": "8"
                                },
                                {
                                    "login": "janos3",
                                    "szall_mod": "Személyes átvétel",
                                    "(No column name)": "6"
                                },
                                {
                                    "login": "JANOSG",
                                    "szall_mod": "Személyes átvétel",
                                    "(No column name)": "4"
                                },
                                {
                                    "login": "JANOSP",
                                    "szall_mod": "Személyes átvétel",
                                    "(No column name)": "3"
                                },
                                {
                                    "login": "jozsef",
                                    "szall_mod": "Személyes átvétel",
                                    "(No column name)": "134"
                                },
                                {
                                    "login": "jozsef2",
                                    "szall_mod": "Személyes átvétel",
                                    "(No column name)": "4"
                                },
                                {
                                    "login": "JOZSEFG",
                                    "szall_mod": "Személyes átvétel",
                                    "(No column name)": "9"
                                },
                                {
                                    "login": "JUDITH",
                                    "szall_mod": "Személyes átvétel",
                                    "(No column name)": "150"
                                },
                                {
                                    "login": "julia",
                                    "szall_mod": "Személyes átvétel",
                                    "(No column name)": "138"
                                },
                                {
                                    "login": "julia4",
                                    "szall_mod": "Személyes átvétel",
                                    "(No column name)": "8"
                                },
                                {
                                    "login": "julianna4",
                                    "szall_mod": "Személyes átvétel",
                                    "(No column name)": "7"
                                },
                                {
                                    "login": "kata",
                                    "szall_mod": "Személyes átvétel",
                                    "(No column name)": "3"
                                },
                                {
                                    "login": "katalin",
                                    "szall_mod": "Személyes átvétel",
                                    "(No column name)": "5"
                                },
                                {
                                    "login": "katalin4",
                                    "szall_mod": "Személyes átvétel",
                                    "(No column name)": "11"
                                },
                                {
                                    "login": "kati",
                                    "szall_mod": "Személyes átvétel",
                                    "(No column name)": "4"
                                },
                                {
                                    "login": "katka",
                                    "szall_mod": "Személyes átvétel",
                                    "(No column name)": "10"
                                },
                                {
                                    "login": "klaudia2",
                                    "szall_mod": "Személyes átvétel",
                                    "(No column name)": "5"
                                },
                                {
                                    "login": "kornel4",
                                    "szall_mod": "Személyes átvétel",
                                    "(No column name)": "7"
                                },
                                {
                                    "login": "kristof4",
                                    "szall_mod": "Személyes átvétel",
                                    "(No column name)": "8"
                                },
                                {
                                    "login": "kriszti",
                                    "szall_mod": "Személyes átvétel",
                                    "(No column name)": "5"
                                },
                                {
                                    "login": "krisztian4",
                                    "szall_mod": "Személyes átvétel",
                                    "(No column name)": "6"
                                },
                                {
                                    "login": "KRISZTIANM",
                                    "szall_mod": "Személyes átvétel",
                                    "(No column name)": "130"
                                },
                                {
                                    "login": "krisztina",
                                    "szall_mod": "Személyes átvétel",
                                    "(No column name)": "157"
                                },
                                {
                                    "login": "krisztina1",
                                    "szall_mod": "Személyes átvétel",
                                    "(No column name)": "8"
                                },
                                {
                                    "login": "KRISZTINAG",
                                    "szall_mod": "Személyes átvétel",
                                    "(No column name)": "10"
                                },
                                {
                                    "login": "lajos",
                                    "szall_mod": "Személyes átvétel",
                                    "(No column name)": "9"
                                },
                                {
                                    "login": "lala",
                                    "szall_mod": "Személyes átvétel",
                                    "(No column name)": "9"
                                },
                                {
                                    "login": "laszlo1",
                                    "szall_mod": "Személyes átvétel",
                                    "(No column name)": "135"
                                },
                                {
                                    "login": "laszlo2",
                                    "szall_mod": "Személyes átvétel",
                                    "(No column name)": "7"
                                },
                                {
                                    "login": "LASZLOA",
                                    "szall_mod": "Személyes átvétel",
                                    "(No column name)": "154"
                                },
                                {
                                    "login": "LASZLON",
                                    "szall_mod": "Személyes átvétel",
                                    "(No column name)": "143"
                                },
                                {
                                    "login": "maria1",
                                    "szall_mod": "Személyes átvétel",
                                    "(No column name)": "1"
                                },
                                {
                                    "login": "MARKH",
                                    "szall_mod": "Személyes átvétel",
                                    "(No column name)": "142"
                                },
                                {
                                    "login": "marton",
                                    "szall_mod": "Személyes átvétel",
                                    "(No column name)": "5"
                                },
                                {
                                    "login": "MATEK",
                                    "szall_mod": "Személyes átvétel",
                                    "(No column name)": "9"
                                },
                                {
                                    "login": "matyas2",
                                    "szall_mod": "Személyes átvétel",
                                    "(No column name)": "164"
                                },
                                {
                                    "login": "MATYASS",
                                    "szall_mod": "Személyes átvétel",
                                    "(No column name)": "3"
                                },
                                {
                                    "login": "MIHALYJ",
                                    "szall_mod": "Személyes átvétel",
                                    "(No column name)": "6"
                                },
                                {
                                    "login": "miklos2",
                                    "szall_mod": "Személyes átvétel",
                                    "(No column name)": "2"
                                },
                                {
                                    "login": "MIKLOSB",
                                    "szall_mod": "Személyes átvétel",
                                    "(No column name)": "8"
                                },
                                {
                                    "login": "MONIKAM",
                                    "szall_mod": "Személyes átvétel",
                                    "(No column name)": "123"
                                },
                                {
                                    "login": "NANDORF",
                                    "szall_mod": "Személyes átvétel",
                                    "(No column name)": "134"
                                },
                                {
                                    "login": "nikolett3",
                                    "szall_mod": "Személyes átvétel",
                                    "(No column name)": "10"
                                },
                                {
                                    "login": "nikoletta4",
                                    "szall_mod": "Személyes átvétel",
                                    "(No column name)": "119"
                                },
                                {
                                    "login": "NIKOLETTAT",
                                    "szall_mod": "Személyes átvétel",
                                    "(No column name)": "5"
                                },
                                {
                                    "login": "norbert4",
                                    "szall_mod": "Személyes átvétel",
                                    "(No column name)": "9"
                                },
                                {
                                    "login": "norbert5",
                                    "szall_mod": "Személyes átvétel",
                                    "(No column name)": "9"
                                },
                                {
                                    "login": "pal",
                                    "szall_mod": "Személyes átvétel",
                                    "(No column name)": "154"
                                },
                                {
                                    "login": "peter1",
                                    "szall_mod": "Személyes átvétel",
                                    "(No column name)": "126"
                                },
                                {
                                    "login": "peter2",
                                    "szall_mod": "Személyes átvétel",
                                    "(No column name)": "7"
                                },
                                {
                                    "login": "peter3",
                                    "szall_mod": "Személyes átvétel",
                                    "(No column name)": "10"
                                },
                                {
                                    "login": "peter4",
                                    "szall_mod": "Személyes átvétel",
                                    "(No column name)": "293"
                                },
                                {
                                    "login": "PETERB",
                                    "szall_mod": "Személyes átvétel",
                                    "(No column name)": "9"
                                },
                                {
                                    "login": "polla",
                                    "szall_mod": "Személyes átvétel",
                                    "(No column name)": "7"
                                },
                                {
                                    "login": "rajmond4",
                                    "szall_mod": "Személyes átvétel",
                                    "(No column name)": "6"
                                },
                                {
                                    "login": "reka4",
                                    "szall_mod": "Személyes átvétel",
                                    "(No column name)": "11"
                                },
                                {
                                    "login": "RENATAK",
                                    "szall_mod": "Személyes átvétel",
                                    "(No column name)": "147"
                                },
                                {
                                    "login": "RENATAS",
                                    "szall_mod": "Személyes átvétel",
                                    "(No column name)": "5"
                                },
                                {
                                    "login": "robert2",
                                    "szall_mod": "Személyes átvétel",
                                    "(No column name)": "7"
                                },
                                {
                                    "login": "ROBERTI",
                                    "szall_mod": "Személyes átvétel",
                                    "(No column name)": "5"
                                },
                                {
                                    "login": "ROBERTP",
                                    "szall_mod": "Személyes átvétel",
                                    "(No column name)": "10"
                                },
                                {
                                    "login": "roland",
                                    "szall_mod": "Személyes átvétel",
                                    "(No column name)": "125"
                                },
                                {
                                    "login": "roland1",
                                    "szall_mod": "Személyes átvétel",
                                    "(No column name)": "135"
                                },
                                {
                                    "login": "roza2",
                                    "szall_mod": "Személyes átvétel",
                                    "(No column name)": "3"
                                },
                                {
                                    "login": "sandor",
                                    "szall_mod": "Személyes átvétel",
                                    "(No column name)": "7"
                                },
                                {
                                    "login": "sandor3",
                                    "szall_mod": "Személyes átvétel",
                                    "(No column name)": "6"
                                },
                                {
                                    "login": "sandor4",
                                    "szall_mod": "Személyes átvétel",
                                    "(No column name)": "5"
                                },
                                {
                                    "login": "sara",
                                    "szall_mod": "Személyes átvétel",
                                    "(No column name)": "9"
                                },
                                {
                                    "login": "SEBASTIANF",
                                    "szall_mod": "Személyes átvétel",
                                    "(No column name)": "6"
                                },
                                {
                                    "login": "sebestyen",
                                    "szall_mod": "Személyes átvétel",
                                    "(No column name)": "6"
                                },
                                {
                                    "login": "szabolcs",
                                    "szall_mod": "Személyes átvétel",
                                    "(No column name)": "169"
                                },
                                {
                                    "login": "SZABOLCSM",
                                    "szall_mod": "Személyes átvétel",
                                    "(No column name)": "129"
                                },
                                {
                                    "login": "SZILARDS",
                                    "szall_mod": "Személyes átvétel",
                                    "(No column name)": "111"
                                },
                                {
                                    "login": "szilvia1",
                                    "szall_mod": "Személyes átvétel",
                                    "(No column name)": "138"
                                },
                                {
                                    "login": "tamara2",
                                    "szall_mod": "Személyes átvétel",
                                    "(No column name)": "3"
                                },
                                {
                                    "login": "tamas",
                                    "szall_mod": "Személyes átvétel",
                                    "(No column name)": "122"
                                },
                                {
                                    "login": "TAMASF",
                                    "szall_mod": "Személyes átvétel",
                                    "(No column name)": "129"
                                },
                                {
                                    "login": "tibor",
                                    "szall_mod": "Személyes átvétel",
                                    "(No column name)": "130"
                                },
                                {
                                    "login": "tibor2",
                                    "szall_mod": "Személyes átvétel",
                                    "(No column name)": "11"
                                },
                                {
                                    "login": "tihamer",
                                    "szall_mod": "Személyes átvétel",
                                    "(No column name)": "5"
                                },
                                {
                                    "login": "timea",
                                    "szall_mod": "Személyes átvétel",
                                    "(No column name)": "18"
                                },
                                {
                                    "login": "timea2",
                                    "szall_mod": "Személyes átvétel",
                                    "(No column name)": "10"
                                },
                                {
                                    "login": "tunde",
                                    "szall_mod": "Személyes átvétel",
                                    "(No column name)": "4"
                                },
                                {
                                    "login": "valentin",
                                    "szall_mod": "Személyes átvétel",
                                    "(No column name)": "3"
                                },
                                {
                                    "login": "veronika4",
                                    "szall_mod": "Személyes átvétel",
                                    "(No column name)": "7"
                                },
                                {
                                    "login": "VIKTORIAU",
                                    "szall_mod": "Személyes átvétel",
                                    "(No column name)": "5"
                                },
                                {
                                    "login": "VIKTORK",
                                    "szall_mod": "Személyes átvétel",
                                    "(No column name)": "6"
                                },
                                {
                                    "login": "vivien3",
                                    "szall_mod": "Személyes átvétel",
                                    "(No column name)": "7"
                                },
                                {
                                    "login": "zoltan",
                                    "szall_mod": "Személyes átvétel",
                                    "(No column name)": "7"
                                },
                                {
                                    "login": "zoltan4",
                                    "szall_mod": "Személyes átvétel",
                                    "(No column name)": "171"
                                },
                                {
                                    "login": "ZOLTANP",
                                    "szall_mod": "Személyes átvétel",
                                    "(No column name)": "4"
                                },
                                {
                                    "login": "ZOLTANT",
                                    "szall_mod": "Személyes átvétel",
                                    "(No column name)": "123"
                                },
                                {
                                    "login": "zsofi1",
                                    "szall_mod": "Személyes átvétel",
                                    "(No column name)": "6"
                                },
                                {
                                    "login": "zsolt1",
                                    "szall_mod": "Személyes átvétel",
                                    "(No column name)": "3"
                                },
                                {
                                    "login": "ZSOLTJ",
                                    "szall_mod": "Személyes átvétel",
                                    "(No column name)": "9"
                                },
                                {
                                    "login": "zsuzsa",
                                    "szall_mod": "Személyes átvétel",
                                    "(No column name)": "3"
                                },
                                {
                                    "login": "zsuzsa3",
                                    "szall_mod": "Személyes átvétel",
                                    "(No column name)": "6"
                                },
                                {
                                    "login": "zsuzsanna",
                                    "szall_mod": "Személyes átvétel",
                                    "(No column name)": "3"
                                },
                                {
                                    "login": "ZSUZSAV",
                                    "szall_mod": "Személyes átvétel",
                                    "(No column name)": "142"
                                },
                                {
                                    "login": "NULL",
                                    "szall_mod": "Személyes átvétel",
                                    "(No column name)": "9468"
                                },
                                {
                                    "login": "NULL",
                                    "szall_mod": "NULL",
                                    "(No column name)": "28085"
                                },
                                {
                                    "login": "adam1",
                                    "szall_mod": "NULL",
                                    "(No column name)": "392"
                                },
                                {
                                    "login": "adam3",
                                    "szall_mod": "NULL",
                                    "(No column name)": "15"
                                },
                                {
                                    "login": "adam4",
                                    "szall_mod": "NULL",
                                    "(No column name)": "29"
                                },
                                {
                                    "login": "agnes",
                                    "szall_mod": "NULL",
                                    "(No column name)": "418"
                                },
                                {
                                    "login": "agnes3",
                                    "szall_mod": "NULL",
                                    "(No column name)": "430"
                                },
                                {
                                    "login": "AGNESH",
                                    "szall_mod": "NULL",
                                    "(No column name)": "11"
                                },
                                {
                                    "login": "AGNESK",
                                    "szall_mod": "NULL",
                                    "(No column name)": "15"
                                },
                                {
                                    "login": "akos",
                                    "szall_mod": "NULL",
                                    "(No column name)": "429"
                                },
                                {
                                    "login": "aladar",
                                    "szall_mod": "NULL",
                                    "(No column name)": "408"
                                },
                                {
                                    "login": "alexandra",
                                    "szall_mod": "NULL",
                                    "(No column name)": "19"
                                },
                                {
                                    "login": "andi",
                                    "szall_mod": "NULL",
                                    "(No column name)": "18"
                                },
                                {
                                    "login": "andras2",
                                    "szall_mod": "NULL",
                                    "(No column name)": "22"
                                },
                                {
                                    "login": "andras21",
                                    "szall_mod": "NULL",
                                    "(No column name)": "390"
                                },
                                {
                                    "login": "andras3",
                                    "szall_mod": "NULL",
                                    "(No column name)": "9"
                                },
                                {
                                    "login": "andras4",
                                    "szall_mod": "NULL",
                                    "(No column name)": "12"
                                },
                                {
                                    "login": "andras41",
                                    "szall_mod": "NULL",
                                    "(No column name)": "419"
                                },
                                {
                                    "login": "ANDRASE",
                                    "szall_mod": "NULL",
                                    "(No column name)": "436"
                                },
                                {
                                    "login": "ANDRASN",
                                    "szall_mod": "NULL",
                                    "(No column name)": "24"
                                },
                                {
                                    "login": "andrea",
                                    "szall_mod": "NULL",
                                    "(No column name)": "24"
                                },
                                {
                                    "login": "andrea3",
                                    "szall_mod": "NULL",
                                    "(No column name)": "413"
                                },
                                {
                                    "login": "andrea4",
                                    "szall_mod": "NULL",
                                    "(No column name)": "18"
                                },
                                {
                                    "login": "ANDREAT",
                                    "szall_mod": "NULL",
                                    "(No column name)": "21"
                                },
                                {
                                    "login": "anett3",
                                    "szall_mod": "NULL",
                                    "(No column name)": "18"
                                },
                                {
                                    "login": "aniko",
                                    "szall_mod": "NULL",
                                    "(No column name)": "403"
                                },
                                {
                                    "login": "aniko4",
                                    "szall_mod": "NULL",
                                    "(No column name)": "15"
                                },
                                {
                                    "login": "ANIKOS",
                                    "szall_mod": "NULL",
                                    "(No column name)": "404"
                                },
                                {
                                    "login": "anita",
                                    "szall_mod": "NULL",
                                    "(No column name)": "12"
                                },
                                {
                                    "login": "annamaria1",
                                    "szall_mod": "NULL",
                                    "(No column name)": "16"
                                },
                                {
                                    "login": "ANNAMARIAR",
                                    "szall_mod": "NULL",
                                    "(No column name)": "13"
                                },
                                {
                                    "login": "aron2",
                                    "szall_mod": "NULL",
                                    "(No column name)": "409"
                                },
                                {
                                    "login": "ARONK",
                                    "szall_mod": "NULL",
                                    "(No column name)": "430"
                                },
                                {
                                    "login": "arpad2",
                                    "szall_mod": "NULL",
                                    "(No column name)": "17"
                                },
                                {
                                    "login": "ARPADH",
                                    "szall_mod": "NULL",
                                    "(No column name)": "14"
                                },
                                {
                                    "login": "ARPADM",
                                    "szall_mod": "NULL",
                                    "(No column name)": "16"
                                },
                                {
                                    "login": "attila1",
                                    "szall_mod": "NULL",
                                    "(No column name)": "18"
                                },
                                {
                                    "login": "attila4",
                                    "szall_mod": "NULL",
                                    "(No column name)": "401"
                                },
                                {
                                    "login": "ATTILAO",
                                    "szall_mod": "NULL",
                                    "(No column name)": "14"
                                },
                                {
                                    "login": "balazs1",
                                    "szall_mod": "NULL",
                                    "(No column name)": "419"
                                },
                                {
                                    "login": "balazs2",
                                    "szall_mod": "NULL",
                                    "(No column name)": "17"
                                },
                                {
                                    "login": "balazs3",
                                    "szall_mod": "NULL",
                                    "(No column name)": "15"
                                },
                                {
                                    "login": "balint",
                                    "szall_mod": "NULL",
                                    "(No column name)": "16"
                                },
                                {
                                    "login": "balint1",
                                    "szall_mod": "NULL",
                                    "(No column name)": "462"
                                },
                                {
                                    "login": "balint2",
                                    "szall_mod": "NULL",
                                    "(No column name)": "17"
                                },
                                {
                                    "login": "balu",
                                    "szall_mod": "NULL",
                                    "(No column name)": "387"
                                },
                                {
                                    "login": "BEATRIXK",
                                    "szall_mod": "NULL",
                                    "(No column name)": "435"
                                },
                                {
                                    "login": "BEATRIXS",
                                    "szall_mod": "NULL",
                                    "(No column name)": "420"
                                },
                                {
                                    "login": "BELAF",
                                    "szall_mod": "NULL",
                                    "(No column name)": "18"
                                },
                                {
                                    "login": "bence",
                                    "szall_mod": "NULL",
                                    "(No column name)": "18"
                                },
                                {
                                    "login": "BENCEB",
                                    "szall_mod": "NULL",
                                    "(No column name)": "17"
                                },
                                {
                                    "login": "bernadett1",
                                    "szall_mod": "NULL",
                                    "(No column name)": "20"
                                },
                                {
                                    "login": "bernadett2",
                                    "szall_mod": "NULL",
                                    "(No column name)": "15"
                                },
                                {
                                    "login": "BERNADETTO",
                                    "szall_mod": "NULL",
                                    "(No column name)": "16"
                                },
                                {
                                    "login": "bertalan",
                                    "szall_mod": "NULL",
                                    "(No column name)": "353"
                                },
                                {
                                    "login": "brigitta",
                                    "szall_mod": "NULL",
                                    "(No column name)": "393"
                                },
                                {
                                    "login": "brigitta3",
                                    "szall_mod": "NULL",
                                    "(No column name)": "413"
                                },
                                {
                                    "login": "csongor3",
                                    "szall_mod": "NULL",
                                    "(No column name)": "15"
                                },
                                {
                                    "login": "dani",
                                    "szall_mod": "NULL",
                                    "(No column name)": "13"
                                },
                                {
                                    "login": "daniel",
                                    "szall_mod": "NULL",
                                    "(No column name)": "13"
                                },
                                {
                                    "login": "daniel1",
                                    "szall_mod": "NULL",
                                    "(No column name)": "419"
                                },
                                {
                                    "login": "david",
                                    "szall_mod": "NULL",
                                    "(No column name)": "451"
                                },
                                {
                                    "login": "david1",
                                    "szall_mod": "NULL",
                                    "(No column name)": "17"
                                },
                                {
                                    "login": "david4",
                                    "szall_mod": "NULL",
                                    "(No column name)": "21"
                                },
                                {
                                    "login": "debora",
                                    "szall_mod": "NULL",
                                    "(No column name)": "16"
                                },
                                {
                                    "login": "denes",
                                    "szall_mod": "NULL",
                                    "(No column name)": "9"
                                },
                                {
                                    "login": "dora3",
                                    "szall_mod": "NULL",
                                    "(No column name)": "432"
                                },
                                {
                                    "login": "edit",
                                    "szall_mod": "NULL",
                                    "(No column name)": "13"
                                },
                                {
                                    "login": "emese",
                                    "szall_mod": "NULL",
                                    "(No column name)": "406"
                                },
                                {
                                    "login": "eszter2",
                                    "szall_mod": "NULL",
                                    "(No column name)": "415"
                                },
                                {
                                    "login": "eszter4",
                                    "szall_mod": "NULL",
                                    "(No column name)": "424"
                                },
                                {
                                    "login": "ESZTERE",
                                    "szall_mod": "NULL",
                                    "(No column name)": "22"
                                },
                                {
                                    "login": "eva",
                                    "szall_mod": "NULL",
                                    "(No column name)": "404"
                                },
                                {
                                    "login": "eva2",
                                    "szall_mod": "NULL",
                                    "(No column name)": "462"
                                },
                                {
                                    "login": "EVAV",
                                    "szall_mod": "NULL",
                                    "(No column name)": "7"
                                },
                                {
                                    "login": "ferenc1",
                                    "szall_mod": "NULL",
                                    "(No column name)": "437"
                                },
                                {
                                    "login": "fruzsina4",
                                    "szall_mod": "NULL",
                                    "(No column name)": "18"
                                },
                                {
                                    "login": "gabor1",
                                    "szall_mod": "NULL",
                                    "(No column name)": "19"
                                },
                                {
                                    "login": "gabor4",
                                    "szall_mod": "NULL",
                                    "(No column name)": "20"
                                },
                                {
                                    "login": "GABORS",
                                    "szall_mod": "NULL",
                                    "(No column name)": "15"
                                },
                                {
                                    "login": "gabriella1",
                                    "szall_mod": "NULL",
                                    "(No column name)": "14"
                                },
                                {
                                    "login": "gabriella10",
                                    "szall_mod": "NULL",
                                    "(No column name)": "16"
                                },
                                {
                                    "login": "georgij",
                                    "szall_mod": "NULL",
                                    "(No column name)": "21"
                                },
                                {
                                    "login": "gusztav",
                                    "szall_mod": "NULL",
                                    "(No column name)": "14"
                                },
                                {
                                    "login": "GYONGYIK",
                                    "szall_mod": "NULL",
                                    "(No column name)": "15"
                                },
                                {
                                    "login": "GYORGYO",
                                    "szall_mod": "NULL",
                                    "(No column name)": "16"
                                },
                                {
                                    "login": "henrik3",
                                    "szall_mod": "NULL",
                                    "(No column name)": "16"
                                },
                                {
                                    "login": "IBOLYAA",
                                    "szall_mod": "NULL",
                                    "(No column name)": "422"
                                },
                                {
                                    "login": "ilona3",
                                    "szall_mod": "NULL",
                                    "(No column name)": "18"
                                },
                                {
                                    "login": "imre",
                                    "szall_mod": "NULL",
                                    "(No column name)": "15"
                                },
                                {
                                    "login": "imre1",
                                    "szall_mod": "NULL",
                                    "(No column name)": "15"
                                },
                                {
                                    "login": "istvan",
                                    "szall_mod": "NULL",
                                    "(No column name)": "11"
                                },
                                {
                                    "login": "istvan1",
                                    "szall_mod": "NULL",
                                    "(No column name)": "19"
                                },
                                {
                                    "login": "ISTVANV",
                                    "szall_mod": "NULL",
                                    "(No column name)": "21"
                                },
                                {
                                    "login": "janos3",
                                    "szall_mod": "NULL",
                                    "(No column name)": "13"
                                },
                                {
                                    "login": "JANOSG",
                                    "szall_mod": "NULL",
                                    "(No column name)": "10"
                                },
                                {
                                    "login": "JANOSP",
                                    "szall_mod": "NULL",
                                    "(No column name)": "17"
                                },
                                {
                                    "login": "jozsef",
                                    "szall_mod": "NULL",
                                    "(No column name)": "382"
                                },
                                {
                                    "login": "jozsef2",
                                    "szall_mod": "NULL",
                                    "(No column name)": "13"
                                },
                                {
                                    "login": "JOZSEFG",
                                    "szall_mod": "NULL",
                                    "(No column name)": "21"
                                },
                                {
                                    "login": "JUDITH",
                                    "szall_mod": "NULL",
                                    "(No column name)": "450"
                                },
                                {
                                    "login": "julia",
                                    "szall_mod": "NULL",
                                    "(No column name)": "435"
                                },
                                {
                                    "login": "julia4",
                                    "szall_mod": "NULL",
                                    "(No column name)": "14"
                                },
                                {
                                    "login": "julianna4",
                                    "szall_mod": "NULL",
                                    "(No column name)": "27"
                                },
                                {
                                    "login": "kata",
                                    "szall_mod": "NULL",
                                    "(No column name)": "12"
                                },
                                {
                                    "login": "katalin",
                                    "szall_mod": "NULL",
                                    "(No column name)": "19"
                                },
                                {
                                    "login": "katalin4",
                                    "szall_mod": "NULL",
                                    "(No column name)": "23"
                                },
                                {
                                    "login": "kati",
                                    "szall_mod": "NULL",
                                    "(No column name)": "13"
                                },
                                {
                                    "login": "katka",
                                    "szall_mod": "NULL",
                                    "(No column name)": "22"
                                },
                                {
                                    "login": "klaudia2",
                                    "szall_mod": "NULL",
                                    "(No column name)": "17"
                                },
                                {
                                    "login": "kornel4",
                                    "szall_mod": "NULL",
                                    "(No column name)": "11"
                                },
                                {
                                    "login": "kristof4",
                                    "szall_mod": "NULL",
                                    "(No column name)": "21"
                                },
                                {
                                    "login": "kriszti",
                                    "szall_mod": "NULL",
                                    "(No column name)": "13"
                                },
                                {
                                    "login": "krisztian4",
                                    "szall_mod": "NULL",
                                    "(No column name)": "17"
                                },
                                {
                                    "login": "KRISZTIANM",
                                    "szall_mod": "NULL",
                                    "(No column name)": "384"
                                },
                                {
                                    "login": "krisztina",
                                    "szall_mod": "NULL",
                                    "(No column name)": "456"
                                },
                                {
                                    "login": "krisztina1",
                                    "szall_mod": "NULL",
                                    "(No column name)": "22"
                                },
                                {
                                    "login": "KRISZTINAG",
                                    "szall_mod": "NULL",
                                    "(No column name)": "22"
                                },
                                {
                                    "login": "lajos",
                                    "szall_mod": "NULL",
                                    "(No column name)": "16"
                                },
                                {
                                    "login": "lala",
                                    "szall_mod": "NULL",
                                    "(No column name)": "17"
                                },
                                {
                                    "login": "laszlo1",
                                    "szall_mod": "NULL",
                                    "(No column name)": "394"
                                },
                                {
                                    "login": "laszlo2",
                                    "szall_mod": "NULL",
                                    "(No column name)": "25"
                                },
                                {
                                    "login": "LASZLOA",
                                    "szall_mod": "NULL",
                                    "(No column name)": "446"
                                },
                                {
                                    "login": "LASZLON",
                                    "szall_mod": "NULL",
                                    "(No column name)": "400"
                                },
                                {
                                    "login": "maria1",
                                    "szall_mod": "NULL",
                                    "(No column name)": "10"
                                },
                                {
                                    "login": "MARKH",
                                    "szall_mod": "NULL",
                                    "(No column name)": "412"
                                },
                                {
                                    "login": "marton",
                                    "szall_mod": "NULL",
                                    "(No column name)": "14"
                                },
                                {
                                    "login": "MATEK",
                                    "szall_mod": "NULL",
                                    "(No column name)": "25"
                                },
                                {
                                    "login": "matyas2",
                                    "szall_mod": "NULL",
                                    "(No column name)": "433"
                                },
                                {
                                    "login": "MATYASS",
                                    "szall_mod": "NULL",
                                    "(No column name)": "12"
                                },
                                {
                                    "login": "MIHALYJ",
                                    "szall_mod": "NULL",
                                    "(No column name)": "13"
                                },
                                {
                                    "login": "miklos2",
                                    "szall_mod": "NULL",
                                    "(No column name)": "13"
                                },
                                {
                                    "login": "MIKLOSB",
                                    "szall_mod": "NULL",
                                    "(No column name)": "15"
                                },
                                {
                                    "login": "MONIKAM",
                                    "szall_mod": "NULL",
                                    "(No column name)": "407"
                                },
                                {
                                    "login": "NANDORF",
                                    "szall_mod": "NULL",
                                    "(No column name)": "420"
                                },
                                {
                                    "login": "nikolett3",
                                    "szall_mod": "NULL",
                                    "(No column name)": "17"
                                },
                                {
                                    "login": "nikoletta4",
                                    "szall_mod": "NULL",
                                    "(No column name)": "414"
                                },
                                {
                                    "login": "NIKOLETTAT",
                                    "szall_mod": "NULL",
                                    "(No column name)": "25"
                                },
                                {
                                    "login": "norbert2",
                                    "szall_mod": "NULL",
                                    "(No column name)": "11"
                                },
                                {
                                    "login": "norbert4",
                                    "szall_mod": "NULL",
                                    "(No column name)": "13"
                                },
                                {
                                    "login": "norbert5",
                                    "szall_mod": "NULL",
                                    "(No column name)": "16"
                                },
                                {
                                    "login": "pal",
                                    "szall_mod": "NULL",
                                    "(No column name)": "438"
                                },
                                {
                                    "login": "peter1",
                                    "szall_mod": "NULL",
                                    "(No column name)": "412"
                                },
                                {
                                    "login": "peter2",
                                    "szall_mod": "NULL",
                                    "(No column name)": "18"
                                },
                                {
                                    "login": "peter3",
                                    "szall_mod": "NULL",
                                    "(No column name)": "25"
                                },
                                {
                                    "login": "peter4",
                                    "szall_mod": "NULL",
                                    "(No column name)": "852"
                                },
                                {
                                    "login": "PETERB",
                                    "szall_mod": "NULL",
                                    "(No column name)": "15"
                                },
                                {
                                    "login": "polla",
                                    "szall_mod": "NULL",
                                    "(No column name)": "22"
                                },
                                {
                                    "login": "rajmond4",
                                    "szall_mod": "NULL",
                                    "(No column name)": "17"
                                },
                                {
                                    "login": "reka4",
                                    "szall_mod": "NULL",
                                    "(No column name)": "20"
                                },
                                {
                                    "login": "RENATAK",
                                    "szall_mod": "NULL",
                                    "(No column name)": "422"
                                },
                                {
                                    "login": "RENATAS",
                                    "szall_mod": "NULL",
                                    "(No column name)": "16"
                                },
                                {
                                    "login": "robert2",
                                    "szall_mod": "NULL",
                                    "(No column name)": "13"
                                },
                                {
                                    "login": "ROBERTI",
                                    "szall_mod": "NULL",
                                    "(No column name)": "13"
                                },
                                {
                                    "login": "ROBERTP",
                                    "szall_mod": "NULL",
                                    "(No column name)": "26"
                                },
                                {
                                    "login": "roland",
                                    "szall_mod": "NULL",
                                    "(No column name)": "414"
                                },
                                {
                                    "login": "roland1",
                                    "szall_mod": "NULL",
                                    "(No column name)": "432"
                                },
                                {
                                    "login": "roza2",
                                    "szall_mod": "NULL",
                                    "(No column name)": "8"
                                },
                                {
                                    "login": "sandor",
                                    "szall_mod": "NULL",
                                    "(No column name)": "17"
                                },
                                {
                                    "login": "sandor3",
                                    "szall_mod": "NULL",
                                    "(No column name)": "14"
                                },
                                {
                                    "login": "sandor4",
                                    "szall_mod": "NULL",
                                    "(No column name)": "11"
                                },
                                {
                                    "login": "sara",
                                    "szall_mod": "NULL",
                                    "(No column name)": "20"
                                },
                                {
                                    "login": "SEBASTIANF",
                                    "szall_mod": "NULL",
                                    "(No column name)": "15"
                                },
                                {
                                    "login": "sebestyen",
                                    "szall_mod": "NULL",
                                    "(No column name)": "16"
                                },
                                {
                                    "login": "szabolcs",
                                    "szall_mod": "NULL",
                                    "(No column name)": "471"
                                },
                                {
                                    "login": "SZABOLCSM",
                                    "szall_mod": "NULL",
                                    "(No column name)": "408"
                                },
                                {
                                    "login": "SZILARDS",
                                    "szall_mod": "NULL",
                                    "(No column name)": "386"
                                },
                                {
                                    "login": "szilvia1",
                                    "szall_mod": "NULL",
                                    "(No column name)": "445"
                                },
                                {
                                    "login": "tamara2",
                                    "szall_mod": "NULL",
                                    "(No column name)": "13"
                                },
                                {
                                    "login": "tamas",
                                    "szall_mod": "NULL",
                                    "(No column name)": "421"
                                },
                                {
                                    "login": "TAMASF",
                                    "szall_mod": "NULL",
                                    "(No column name)": "433"
                                },
                                {
                                    "login": "tibor",
                                    "szall_mod": "NULL",
                                    "(No column name)": "374"
                                },
                                {
                                    "login": "tibor2",
                                    "szall_mod": "NULL",
                                    "(No column name)": "25"
                                },
                                {
                                    "login": "tihamer",
                                    "szall_mod": "NULL",
                                    "(No column name)": "20"
                                },
                                {
                                    "login": "timea",
                                    "szall_mod": "NULL",
                                    "(No column name)": "55"
                                },
                                {
                                    "login": "timea2",
                                    "szall_mod": "NULL",
                                    "(No column name)": "16"
                                },
                                {
                                    "login": "tunde",
                                    "szall_mod": "NULL",
                                    "(No column name)": "16"
                                },
                                {
                                    "login": "valentin",
                                    "szall_mod": "NULL",
                                    "(No column name)": "13"
                                },
                                {
                                    "login": "veronika4",
                                    "szall_mod": "NULL",
                                    "(No column name)": "18"
                                },
                                {
                                    "login": "VIKTORIAU",
                                    "szall_mod": "NULL",
                                    "(No column name)": "14"
                                },
                                {
                                    "login": "VIKTORK",
                                    "szall_mod": "NULL",
                                    "(No column name)": "20"
                                },
                                {
                                    "login": "vivien3",
                                    "szall_mod": "NULL",
                                    "(No column name)": "22"
                                },
                                {
                                    "login": "zoltan",
                                    "szall_mod": "NULL",
                                    "(No column name)": "15"
                                },
                                {
                                    "login": "zoltan4",
                                    "szall_mod": "NULL",
                                    "(No column name)": "424"
                                },
                                {
                                    "login": "ZOLTANP",
                                    "szall_mod": "NULL",
                                    "(No column name)": "13"
                                },
                                {
                                    "login": "ZOLTANT",
                                    "szall_mod": "NULL",
                                    "(No column name)": "357"
                                },
                                {
                                    "login": "zsofi1",
                                    "szall_mod": "NULL",
                                    "(No column name)": "19"
                                },
                                {
                                    "login": "zsolt1",
                                    "szall_mod": "NULL",
                                    "(No column name)": "20"
                                },
                                {
                                    "login": "ZSOLTJ",
                                    "szall_mod": "NULL",
                                    "(No column name)": "18"
                                },
                                {
                                    "login": "zsuzsa",
                                    "szall_mod": "NULL",
                                    "(No column name)": "16"
                                },
                                {
                                    "login": "zsuzsa3",
                                    "szall_mod": "NULL",
                                    "(No column name)": "16"
                                },
                                {
                                    "login": "zsuzsanna",
                                    "szall_mod": "NULL",
                                    "(No column name)": "15"
                                },
                                {
                                    "login": "ZSUZSAV",
                                    "szall_mod": "NULL",
                                    "(No column name)": "420"
                                }
                            ]
                        },
                        "text/html": [
                            "<table>",
                            "<tr><th>login</th><th>szall_mod</th><th>(No column name)</th></tr>",
                            "<tr><td>adam1</td><td>GLS</td><td>129</td></tr>",
                            "<tr><td>adam3</td><td>GLS</td><td>10</td></tr>",
                            "<tr><td>adam4</td><td>GLS</td><td>12</td></tr>",
                            "<tr><td>agnes</td><td>GLS</td><td>144</td></tr>",
                            "<tr><td>agnes3</td><td>GLS</td><td>148</td></tr>",
                            "<tr><td>AGNESH</td><td>GLS</td><td>2</td></tr>",
                            "<tr><td>AGNESK</td><td>GLS</td><td>1</td></tr>",
                            "<tr><td>akos</td><td>GLS</td><td>146</td></tr>",
                            "<tr><td>aladar</td><td>GLS</td><td>156</td></tr>",
                            "<tr><td>alexandra</td><td>GLS</td><td>5</td></tr>",
                            "<tr><td>andi</td><td>GLS</td><td>7</td></tr>",
                            "<tr><td>andras2</td><td>GLS</td><td>4</td></tr>",
                            "<tr><td>andras21</td><td>GLS</td><td>140</td></tr>",
                            "<tr><td>andras3</td><td>GLS</td><td>3</td></tr>",
                            "<tr><td>andras4</td><td>GLS</td><td>4</td></tr>",
                            "<tr><td>andras41</td><td>GLS</td><td>149</td></tr>",
                            "<tr><td>ANDRASE</td><td>GLS</td><td>159</td></tr>",
                            "<tr><td>ANDRASN</td><td>GLS</td><td>10</td></tr>",
                            "<tr><td>andrea</td><td>GLS</td><td>12</td></tr>",
                            "<tr><td>andrea3</td><td>GLS</td><td>131</td></tr>",
                            "<tr><td>andrea4</td><td>GLS</td><td>7</td></tr>",
                            "<tr><td>ANDREAT</td><td>GLS</td><td>3</td></tr>",
                            "<tr><td>anett3</td><td>GLS</td><td>3</td></tr>",
                            "<tr><td>aniko</td><td>GLS</td><td>128</td></tr>",
                            "<tr><td>aniko4</td><td>GLS</td><td>6</td></tr>",
                            "<tr><td>ANIKOS</td><td>GLS</td><td>128</td></tr>",
                            "<tr><td>anita</td><td>GLS</td><td>5</td></tr>",
                            "<tr><td>annamaria1</td><td>GLS</td><td>5</td></tr>",
                            "<tr><td>ANNAMARIAR</td><td>GLS</td><td>8</td></tr>",
                            "<tr><td>aron2</td><td>GLS</td><td>132</td></tr>",
                            "<tr><td>ARONK</td><td>GLS</td><td>155</td></tr>",
                            "<tr><td>arpad2</td><td>GLS</td><td>6</td></tr>",
                            "<tr><td>ARPADH</td><td>GLS</td><td>6</td></tr>",
                            "<tr><td>ARPADM</td><td>GLS</td><td>6</td></tr>",
                            "<tr><td>attila1</td><td>GLS</td><td>5</td></tr>",
                            "<tr><td>attila4</td><td>GLS</td><td>135</td></tr>",
                            "<tr><td>ATTILAO</td><td>GLS</td><td>4</td></tr>",
                            "<tr><td>balazs1</td><td>GLS</td><td>128</td></tr>",
                            "<tr><td>balazs2</td><td>GLS</td><td>5</td></tr>",
                            "<tr><td>balazs3</td><td>GLS</td><td>6</td></tr>",
                            "<tr><td>balint</td><td>GLS</td><td>10</td></tr>",
                            "<tr><td>balint1</td><td>GLS</td><td>158</td></tr>",
                            "<tr><td>balint2</td><td>GLS</td><td>8</td></tr>",
                            "<tr><td>balu</td><td>GLS</td><td>127</td></tr>",
                            "<tr><td>BEATRIXK</td><td>GLS</td><td>135</td></tr>",
                            "<tr><td>BEATRIXS</td><td>GLS</td><td>146</td></tr>",
                            "<tr><td>BELAF</td><td>GLS</td><td>11</td></tr>",
                            "<tr><td>bence</td><td>GLS</td><td>4</td></tr>",
                            "<tr><td>BENCEB</td><td>GLS</td><td>5</td></tr>",
                            "<tr><td>bernadett1</td><td>GLS</td><td>10</td></tr>",
                            "<tr><td>bernadett2</td><td>GLS</td><td>6</td></tr>",
                            "<tr><td>BERNADETTO</td><td>GLS</td><td>7</td></tr>",
                            "<tr><td>bertalan</td><td>GLS</td><td>128</td></tr>",
                            "<tr><td>brigitta</td><td>GLS</td><td>137</td></tr>",
                            "<tr><td>brigitta3</td><td>GLS</td><td>144</td></tr>",
                            "<tr><td>csongor3</td><td>GLS</td><td>5</td></tr>",
                            "<tr><td>dani</td><td>GLS</td><td>5</td></tr>",
                            "<tr><td>daniel</td><td>GLS</td><td>7</td></tr>",
                            "<tr><td>daniel1</td><td>GLS</td><td>156</td></tr>",
                            "<tr><td>david</td><td>GLS</td><td>161</td></tr>",
                            "<tr><td>david1</td><td>GLS</td><td>8</td></tr>",
                            "<tr><td>david4</td><td>GLS</td><td>3</td></tr>",
                            "<tr><td>debora</td><td>GLS</td><td>7</td></tr>",
                            "<tr><td>denes</td><td>GLS</td><td>3</td></tr>",
                            "<tr><td>dora3</td><td>GLS</td><td>144</td></tr>",
                            "<tr><td>edit</td><td>GLS</td><td>7</td></tr>",
                            "<tr><td>emese</td><td>GLS</td><td>128</td></tr>",
                            "<tr><td>eszter2</td><td>GLS</td><td>127</td></tr>",
                            "<tr><td>eszter4</td><td>GLS</td><td>141</td></tr>",
                            "<tr><td>ESZTERE</td><td>GLS</td><td>6</td></tr>",
                            "<tr><td>eva</td><td>GLS</td><td>125</td></tr>",
                            "<tr><td>eva2</td><td>GLS</td><td>154</td></tr>",
                            "<tr><td>EVAV</td><td>GLS</td><td>2</td></tr>",
                            "<tr><td>ferenc1</td><td>GLS</td><td>144</td></tr>",
                            "<tr><td>fruzsina4</td><td>GLS</td><td>8</td></tr>",
                            "<tr><td>gabor1</td><td>GLS</td><td>9</td></tr>",
                            "<tr><td>gabor4</td><td>GLS</td><td>7</td></tr>",
                            "<tr><td>GABORS</td><td>GLS</td><td>5</td></tr>",
                            "<tr><td>gabriella1</td><td>GLS</td><td>5</td></tr>",
                            "<tr><td>gabriella10</td><td>GLS</td><td>4</td></tr>",
                            "<tr><td>georgij</td><td>GLS</td><td>9</td></tr>",
                            "<tr><td>gusztav</td><td>GLS</td><td>5</td></tr>",
                            "<tr><td>GYONGYIK</td><td>GLS</td><td>6</td></tr>",
                            "<tr><td>GYORGYO</td><td>GLS</td><td>7</td></tr>",
                            "<tr><td>henrik3</td><td>GLS</td><td>7</td></tr>",
                            "<tr><td>IBOLYAA</td><td>GLS</td><td>140</td></tr>",
                            "<tr><td>ilona3</td><td>GLS</td><td>9</td></tr>",
                            "<tr><td>imre</td><td>GLS</td><td>5</td></tr>",
                            "<tr><td>imre1</td><td>GLS</td><td>8</td></tr>",
                            "<tr><td>istvan</td><td>GLS</td><td>3</td></tr>",
                            "<tr><td>istvan1</td><td>GLS</td><td>8</td></tr>",
                            "<tr><td>ISTVANV</td><td>GLS</td><td>4</td></tr>",
                            "<tr><td>janos3</td><td>GLS</td><td>5</td></tr>",
                            "<tr><td>JANOSG</td><td>GLS</td><td>3</td></tr>",
                            "<tr><td>JANOSP</td><td>GLS</td><td>7</td></tr>",
                            "<tr><td>jozsef</td><td>GLS</td><td>116</td></tr>",
                            "<tr><td>jozsef2</td><td>GLS</td><td>7</td></tr>",
                            "<tr><td>JOZSEFG</td><td>GLS</td><td>11</td></tr>",
                            "<tr><td>JUDITH</td><td>GLS</td><td>170</td></tr>",
                            "<tr><td>julia</td><td>GLS</td><td>137</td></tr>",
                            "<tr><td>julia4</td><td>GLS</td><td>2</td></tr>",
                            "<tr><td>julianna4</td><td>GLS</td><td>8</td></tr>",
                            "<tr><td>kata</td><td>GLS</td><td>5</td></tr>",
                            "<tr><td>katalin</td><td>GLS</td><td>7</td></tr>",
                            "<tr><td>katalin4</td><td>GLS</td><td>7</td></tr>",
                            "<tr><td>kati</td><td>GLS</td><td>4</td></tr>",
                            "<tr><td>katka</td><td>GLS</td><td>6</td></tr>",
                            "<tr><td>klaudia2</td><td>GLS</td><td>3</td></tr>",
                            "<tr><td>kornel4</td><td>GLS</td><td>3</td></tr>",
                            "<tr><td>kristof4</td><td>GLS</td><td>9</td></tr>",
                            "<tr><td>kriszti</td><td>GLS</td><td>3</td></tr>",
                            "<tr><td>krisztian4</td><td>GLS</td><td>5</td></tr>",
                            "<tr><td>KRISZTIANM</td><td>GLS</td><td>118</td></tr>",
                            "<tr><td>krisztina</td><td>GLS</td><td>149</td></tr>",
                            "<tr><td>krisztina1</td><td>GLS</td><td>10</td></tr>",
                            "<tr><td>KRISZTINAG</td><td>GLS</td><td>6</td></tr>",
                            "<tr><td>lajos</td><td>GLS</td><td>5</td></tr>",
                            "<tr><td>lala</td><td>GLS</td><td>5</td></tr>",
                            "<tr><td>laszlo1</td><td>GLS</td><td>130</td></tr>",
                            "<tr><td>laszlo2</td><td>GLS</td><td>12</td></tr>",
                            "<tr><td>LASZLOA</td><td>GLS</td><td>156</td></tr>",
                            "<tr><td>LASZLON</td><td>GLS</td><td>126</td></tr>",
                            "<tr><td>maria1</td><td>GLS</td><td>4</td></tr>",
                            "<tr><td>MARKH</td><td>GLS</td><td>128</td></tr>",
                            "<tr><td>marton</td><td>GLS</td><td>5</td></tr>",
                            "<tr><td>MATEK</td><td>GLS</td><td>6</td></tr>",
                            "<tr><td>matyas2</td><td>GLS</td><td>138</td></tr>",
                            "<tr><td>MATYASS</td><td>GLS</td><td>4</td></tr>",
                            "<tr><td>MIHALYJ</td><td>GLS</td><td>3</td></tr>",
                            "<tr><td>miklos2</td><td>GLS</td><td>7</td></tr>",
                            "<tr><td>MIKLOSB</td><td>GLS</td><td>6</td></tr>",
                            "<tr><td>MONIKAM</td><td>GLS</td><td>133</td></tr>",
                            "<tr><td>NANDORF</td><td>GLS</td><td>147</td></tr>",
                            "<tr><td>nikolett3</td><td>GLS</td><td>4</td></tr>",
                            "<tr><td>nikoletta4</td><td>GLS</td><td>137</td></tr>",
                            "<tr><td>NIKOLETTAT</td><td>GLS</td><td>13</td></tr>",
                            "<tr><td>norbert2</td><td>GLS</td><td>7</td></tr>",
                            "<tr><td>norbert4</td><td>GLS</td><td>1</td></tr>",
                            "<tr><td>norbert5</td><td>GLS</td><td>1</td></tr>",
                            "<tr><td>pal</td><td>GLS</td><td>152</td></tr>",
                            "<tr><td>peter1</td><td>GLS</td><td>151</td></tr>",
                            "<tr><td>peter2</td><td>GLS</td><td>7</td></tr>",
                            "<tr><td>peter3</td><td>GLS</td><td>8</td></tr>",
                            "<tr><td>peter4</td><td>GLS</td><td>266</td></tr>",
                            "<tr><td>PETERB</td><td>GLS</td><td>2</td></tr>",
                            "<tr><td>polla</td><td>GLS</td><td>9</td></tr>",
                            "<tr><td>rajmond4</td><td>GLS</td><td>6</td></tr>",
                            "<tr><td>reka4</td><td>GLS</td><td>5</td></tr>",
                            "<tr><td>RENATAK</td><td>GLS</td><td>135</td></tr>",
                            "<tr><td>RENATAS</td><td>GLS</td><td>6</td></tr>",
                            "<tr><td>robert2</td><td>GLS</td><td>5</td></tr>",
                            "<tr><td>ROBERTI</td><td>GLS</td><td>5</td></tr>",
                            "<tr><td>ROBERTP</td><td>GLS</td><td>8</td></tr>",
                            "<tr><td>roland</td><td>GLS</td><td>132</td></tr>",
                            "<tr><td>roland1</td><td>GLS</td><td>142</td></tr>",
                            "<tr><td>roza2</td><td>GLS</td><td>3</td></tr>",
                            "<tr><td>sandor</td><td>GLS</td><td>4</td></tr>",
                            "<tr><td>sandor3</td><td>GLS</td><td>4</td></tr>",
                            "<tr><td>sandor4</td><td>GLS</td><td>4</td></tr>",
                            "<tr><td>sara</td><td>GLS</td><td>4</td></tr>",
                            "<tr><td>SEBASTIANF</td><td>GLS</td><td>6</td></tr>",
                            "<tr><td>sebestyen</td><td>GLS</td><td>4</td></tr>",
                            "<tr><td>szabolcs</td><td>GLS</td><td>145</td></tr>",
                            "<tr><td>SZABOLCSM</td><td>GLS</td><td>126</td></tr>",
                            "<tr><td>SZILARDS</td><td>GLS</td><td>144</td></tr>",
                            "<tr><td>szilvia1</td><td>GLS</td><td>156</td></tr>",
                            "<tr><td>tamara2</td><td>GLS</td><td>6</td></tr>",
                            "<tr><td>tamas</td><td>GLS</td><td>143</td></tr>",
                            "<tr><td>TAMASF</td><td>GLS</td><td>159</td></tr>",
                            "<tr><td>tibor</td><td>GLS</td><td>115</td></tr>",
                            "<tr><td>tibor2</td><td>GLS</td><td>7</td></tr>",
                            "<tr><td>tihamer</td><td>GLS</td><td>9</td></tr>",
                            "<tr><td>timea</td><td>GLS</td><td>14</td></tr>",
                            "<tr><td>timea2</td><td>GLS</td><td>1</td></tr>",
                            "<tr><td>tunde</td><td>GLS</td><td>6</td></tr>",
                            "<tr><td>valentin</td><td>GLS</td><td>5</td></tr>",
                            "<tr><td>veronika4</td><td>GLS</td><td>5</td></tr>",
                            "<tr><td>VIKTORIAU</td><td>GLS</td><td>5</td></tr>",
                            "<tr><td>VIKTORK</td><td>GLS</td><td>8</td></tr>",
                            "<tr><td>vivien3</td><td>GLS</td><td>9</td></tr>",
                            "<tr><td>zoltan</td><td>GLS</td><td>5</td></tr>",
                            "<tr><td>zoltan4</td><td>GLS</td><td>129</td></tr>",
                            "<tr><td>ZOLTANP</td><td>GLS</td><td>6</td></tr>",
                            "<tr><td>ZOLTANT</td><td>GLS</td><td>127</td></tr>",
                            "<tr><td>zsofi1</td><td>GLS</td><td>7</td></tr>",
                            "<tr><td>zsolt1</td><td>GLS</td><td>11</td></tr>",
                            "<tr><td>ZSOLTJ</td><td>GLS</td><td>1</td></tr>",
                            "<tr><td>zsuzsa</td><td>GLS</td><td>8</td></tr>",
                            "<tr><td>zsuzsa3</td><td>GLS</td><td>5</td></tr>",
                            "<tr><td>zsuzsanna</td><td>GLS</td><td>7</td></tr>",
                            "<tr><td>ZSUZSAV</td><td>GLS</td><td>139</td></tr>",
                            "<tr><td>NULL</td><td>GLS</td><td>9426</td></tr>",
                            "<tr><td>adam1</td><td>Posta</td><td>132</td></tr>",
                            "<tr><td>adam3</td><td>Posta</td><td>3</td></tr>",
                            "<tr><td>adam4</td><td>Posta</td><td>6</td></tr>",
                            "<tr><td>agnes</td><td>Posta</td><td>130</td></tr>",
                            "<tr><td>agnes3</td><td>Posta</td><td>146</td></tr>",
                            "<tr><td>AGNESH</td><td>Posta</td><td>3</td></tr>",
                            "<tr><td>AGNESK</td><td>Posta</td><td>7</td></tr>",
                            "<tr><td>akos</td><td>Posta</td><td>143</td></tr>",
                            "<tr><td>aladar</td><td>Posta</td><td>134</td></tr>",
                            "<tr><td>alexandra</td><td>Posta</td><td>9</td></tr>",
                            "<tr><td>andi</td><td>Posta</td><td>4</td></tr>",
                            "<tr><td>andras2</td><td>Posta</td><td>7</td></tr>",
                            "<tr><td>andras21</td><td>Posta</td><td>124</td></tr>",
                            "<tr><td>andras3</td><td>Posta</td><td>1</td></tr>",
                            "<tr><td>andras4</td><td>Posta</td><td>4</td></tr>",
                            "<tr><td>andras41</td><td>Posta</td><td>137</td></tr>",
                            "<tr><td>ANDRASE</td><td>Posta</td><td>141</td></tr>",
                            "<tr><td>ANDRASN</td><td>Posta</td><td>9</td></tr>",
                            "<tr><td>andrea</td><td>Posta</td><td>4</td></tr>",
                            "<tr><td>andrea3</td><td>Posta</td><td>136</td></tr>",
                            "<tr><td>andrea4</td><td>Posta</td><td>4</td></tr>",
                            "<tr><td>ANDREAT</td><td>Posta</td><td>6</td></tr>",
                            "<tr><td>anett3</td><td>Posta</td><td>6</td></tr>",
                            "<tr><td>aniko</td><td>Posta</td><td>137</td></tr>",
                            "<tr><td>aniko4</td><td>Posta</td><td>6</td></tr>",
                            "<tr><td>ANIKOS</td><td>Posta</td><td>126</td></tr>",
                            "<tr><td>anita</td><td>Posta</td><td>2</td></tr>",
                            "<tr><td>annamaria1</td><td>Posta</td><td>4</td></tr>",
                            "<tr><td>ANNAMARIAR</td><td>Posta</td><td>2</td></tr>",
                            "<tr><td>aron2</td><td>Posta</td><td>133</td></tr>",
                            "<tr><td>ARONK</td><td>Posta</td><td>120</td></tr>",
                            "<tr><td>arpad2</td><td>Posta</td><td>1</td></tr>",
                            "<tr><td>ARPADH</td><td>Posta</td><td>3</td></tr>",
                            "<tr><td>ARPADM</td><td>Posta</td><td>3</td></tr>",
                            "<tr><td>attila1</td><td>Posta</td><td>7</td></tr>",
                            "<tr><td>attila4</td><td>Posta</td><td>125</td></tr>",
                            "<tr><td>ATTILAO</td><td>Posta</td><td>4</td></tr>",
                            "<tr><td>balazs1</td><td>Posta</td><td>136</td></tr>",
                            "<tr><td>balazs2</td><td>Posta</td><td>7</td></tr>",
                            "<tr><td>balazs3</td><td>Posta</td><td>6</td></tr>",
                            "<tr><td>balint</td><td>Posta</td><td>4</td></tr>",
                            "<tr><td>balint1</td><td>Posta</td><td>152</td></tr>",
                            "<tr><td>balint2</td><td>Posta</td><td>6</td></tr>",
                            "<tr><td>balu</td><td>Posta</td><td>137</td></tr>",
                            "<tr><td>BEATRIXK</td><td>Posta</td><td>155</td></tr>",
                            "<tr><td>BEATRIXS</td><td>Posta</td><td>141</td></tr>",
                            "<tr><td>BELAF</td><td>Posta</td><td>2</td></tr>",
                            "<tr><td>bence</td><td>Posta</td><td>6</td></tr>",
                            "<tr><td>BENCEB</td><td>Posta</td><td>7</td></tr>",
                            "<tr><td>bernadett1</td><td>Posta</td><td>5</td></tr>",
                            "<tr><td>bernadett2</td><td>Posta</td><td>2</td></tr>",
                            "<tr><td>BERNADETTO</td><td>Posta</td><td>2</td></tr>",
                            "<tr><td>bertalan</td><td>Posta</td><td>124</td></tr>",
                            "<tr><td>brigitta</td><td>Posta</td><td>137</td></tr>",
                            "<tr><td>brigitta3</td><td>Posta</td><td>130</td></tr>",
                            "<tr><td>csongor3</td><td>Posta</td><td>2</td></tr>",
                            "<tr><td>daniel</td><td>Posta</td><td>2</td></tr>",
                            "<tr><td>daniel1</td><td>Posta</td><td>131</td></tr>",
                            "<tr><td>david</td><td>Posta</td><td>144</td></tr>",
                            "<tr><td>david1</td><td>Posta</td><td>1</td></tr>",
                            "<tr><td>david4</td><td>Posta</td><td>8</td></tr>",
                            "<tr><td>debora</td><td>Posta</td><td>6</td></tr>",
                            "<tr><td>denes</td><td>Posta</td><td>2</td></tr>",
                            "<tr><td>dora3</td><td>Posta</td><td>124</td></tr>",
                            "<tr><td>edit</td><td>Posta</td><td>2</td></tr>",
                            "<tr><td>emese</td><td>Posta</td><td>136</td></tr>",
                            "<tr><td>eszter2</td><td>Posta</td><td>136</td></tr>",
                            "<tr><td>eszter4</td><td>Posta</td><td>134</td></tr>",
                            "<tr><td>ESZTERE</td><td>Posta</td><td>9</td></tr>",
                            "<tr><td>eva</td><td>Posta</td><td>140</td></tr>",
                            "<tr><td>eva2</td><td>Posta</td><td>138</td></tr>",
                            "<tr><td>EVAV</td><td>Posta</td><td>1</td></tr>",
                            "<tr><td>ferenc1</td><td>Posta</td><td>158</td></tr>",
                            "<tr><td>fruzsina4</td><td>Posta</td><td>3</td></tr>",
                            "<tr><td>gabor1</td><td>Posta</td><td>5</td></tr>",
                            "<tr><td>gabor4</td><td>Posta</td><td>9</td></tr>",
                            "<tr><td>GABORS</td><td>Posta</td><td>6</td></tr>",
                            "<tr><td>gabriella1</td><td>Posta</td><td>4</td></tr>",
                            "<tr><td>gabriella10</td><td>Posta</td><td>5</td></tr>",
                            "<tr><td>georgij</td><td>Posta</td><td>2</td></tr>",
                            "<tr><td>gusztav</td><td>Posta</td><td>4</td></tr>",
                            "<tr><td>GYONGYIK</td><td>Posta</td><td>6</td></tr>",
                            "<tr><td>GYORGYO</td><td>Posta</td><td>4</td></tr>",
                            "<tr><td>henrik3</td><td>Posta</td><td>4</td></tr>",
                            "<tr><td>IBOLYAA</td><td>Posta</td><td>125</td></tr>",
                            "<tr><td>ilona3</td><td>Posta</td><td>2</td></tr>",
                            "<tr><td>imre</td><td>Posta</td><td>4</td></tr>",
                            "<tr><td>imre1</td><td>Posta</td><td>4</td></tr>",
                            "<tr><td>istvan</td><td>Posta</td><td>4</td></tr>",
                            "<tr><td>istvan1</td><td>Posta</td><td>4</td></tr>",
                            "<tr><td>ISTVANV</td><td>Posta</td><td>9</td></tr>",
                            "<tr><td>janos3</td><td>Posta</td><td>2</td></tr>",
                            "<tr><td>JANOSG</td><td>Posta</td><td>3</td></tr>",
                            "<tr><td>JANOSP</td><td>Posta</td><td>7</td></tr>",
                            "<tr><td>jozsef</td><td>Posta</td><td>132</td></tr>",
                            "<tr><td>jozsef2</td><td>Posta</td><td>2</td></tr>",
                            "<tr><td>JOZSEFG</td><td>Posta</td><td>1</td></tr>",
                            "<tr><td>JUDITH</td><td>Posta</td><td>130</td></tr>",
                            "<tr><td>julia</td><td>Posta</td><td>160</td></tr>",
                            "<tr><td>julia4</td><td>Posta</td><td>4</td></tr>",
                            "<tr><td>julianna4</td><td>Posta</td><td>12</td></tr>",
                            "<tr><td>kata</td><td>Posta</td><td>4</td></tr>",
                            "<tr><td>katalin</td><td>Posta</td><td>7</td></tr>",
                            "<tr><td>katalin4</td><td>Posta</td><td>5</td></tr>",
                            "<tr><td>kati</td><td>Posta</td><td>5</td></tr>",
                            "<tr><td>katka</td><td>Posta</td><td>6</td></tr>",
                            "<tr><td>klaudia2</td><td>Posta</td><td>9</td></tr>",
                            "<tr><td>kornel4</td><td>Posta</td><td>1</td></tr>",
                            "<tr><td>kristof4</td><td>Posta</td><td>4</td></tr>",
                            "<tr><td>kriszti</td><td>Posta</td><td>5</td></tr>",
                            "<tr><td>krisztian4</td><td>Posta</td><td>6</td></tr>",
                            "<tr><td>KRISZTIANM</td><td>Posta</td><td>136</td></tr>",
                            "<tr><td>krisztina</td><td>Posta</td><td>150</td></tr>",
                            "<tr><td>krisztina1</td><td>Posta</td><td>4</td></tr>",
                            "<tr><td>KRISZTINAG</td><td>Posta</td><td>6</td></tr>",
                            "<tr><td>lajos</td><td>Posta</td><td>2</td></tr>",
                            "<tr><td>lala</td><td>Posta</td><td>3</td></tr>",
                            "<tr><td>laszlo1</td><td>Posta</td><td>129</td></tr>",
                            "<tr><td>laszlo2</td><td>Posta</td><td>6</td></tr>",
                            "<tr><td>LASZLOA</td><td>Posta</td><td>136</td></tr>",
                            "<tr><td>LASZLON</td><td>Posta</td><td>131</td></tr>",
                            "<tr><td>maria1</td><td>Posta</td><td>5</td></tr>",
                            "<tr><td>MARKH</td><td>Posta</td><td>142</td></tr>",
                            "<tr><td>marton</td><td>Posta</td><td>4</td></tr>",
                            "<tr><td>MATEK</td><td>Posta</td><td>10</td></tr>",
                            "<tr><td>matyas2</td><td>Posta</td><td>131</td></tr>",
                            "<tr><td>MATYASS</td><td>Posta</td><td>5</td></tr>",
                            "<tr><td>MIHALYJ</td><td>Posta</td><td>4</td></tr>",
                            "<tr><td>miklos2</td><td>Posta</td><td>4</td></tr>",
                            "<tr><td>MIKLOSB</td><td>Posta</td><td>1</td></tr>",
                            "<tr><td>MONIKAM</td><td>Posta</td><td>151</td></tr>",
                            "<tr><td>NANDORF</td><td>Posta</td><td>139</td></tr>",
                            "<tr><td>nikolett3</td><td>Posta</td><td>3</td></tr>",
                            "<tr><td>nikoletta4</td><td>Posta</td><td>158</td></tr>",
                            "<tr><td>NIKOLETTAT</td><td>Posta</td><td>7</td></tr>",
                            "<tr><td>norbert2</td><td>Posta</td><td>4</td></tr>",
                            "<tr><td>norbert4</td><td>Posta</td><td>3</td></tr>",
                            "<tr><td>norbert5</td><td>Posta</td><td>6</td></tr>",
                            "<tr><td>pal</td><td>Posta</td><td>132</td></tr>",
                            "<tr><td>peter1</td><td>Posta</td><td>135</td></tr>",
                            "<tr><td>peter2</td><td>Posta</td><td>4</td></tr>",
                            "<tr><td>peter3</td><td>Posta</td><td>7</td></tr>",
                            "<tr><td>peter4</td><td>Posta</td><td>293</td></tr>",
                            "<tr><td>PETERB</td><td>Posta</td><td>4</td></tr>",
                            "<tr><td>polla</td><td>Posta</td><td>6</td></tr>",
                            "<tr><td>rajmond4</td><td>Posta</td><td>5</td></tr>",
                            "<tr><td>reka4</td><td>Posta</td><td>4</td></tr>",
                            "<tr><td>RENATAK</td><td>Posta</td><td>140</td></tr>",
                            "<tr><td>RENATAS</td><td>Posta</td><td>5</td></tr>",
                            "<tr><td>robert2</td><td>Posta</td><td>1</td></tr>",
                            "<tr><td>ROBERTI</td><td>Posta</td><td>3</td></tr>",
                            "<tr><td>ROBERTP</td><td>Posta</td><td>8</td></tr>",
                            "<tr><td>roland</td><td>Posta</td><td>157</td></tr>",
                            "<tr><td>roland1</td><td>Posta</td><td>155</td></tr>",
                            "<tr><td>roza2</td><td>Posta</td><td>2</td></tr>",
                            "<tr><td>sandor</td><td>Posta</td><td>6</td></tr>",
                            "<tr><td>sandor3</td><td>Posta</td><td>4</td></tr>",
                            "<tr><td>sandor4</td><td>Posta</td><td>2</td></tr>",
                            "<tr><td>sara</td><td>Posta</td><td>7</td></tr>",
                            "<tr><td>SEBASTIANF</td><td>Posta</td><td>3</td></tr>",
                            "<tr><td>sebestyen</td><td>Posta</td><td>6</td></tr>",
                            "<tr><td>szabolcs</td><td>Posta</td><td>157</td></tr>",
                            "<tr><td>SZABOLCSM</td><td>Posta</td><td>153</td></tr>",
                            "<tr><td>SZILARDS</td><td>Posta</td><td>131</td></tr>",
                            "<tr><td>szilvia1</td><td>Posta</td><td>151</td></tr>",
                            "<tr><td>tamara2</td><td>Posta</td><td>4</td></tr>",
                            "<tr><td>tamas</td><td>Posta</td><td>156</td></tr>",
                            "<tr><td>TAMASF</td><td>Posta</td><td>145</td></tr>",
                            "<tr><td>tibor</td><td>Posta</td><td>129</td></tr>",
                            "<tr><td>tibor2</td><td>Posta</td><td>7</td></tr>",
                            "<tr><td>tihamer</td><td>Posta</td><td>6</td></tr>",
                            "<tr><td>timea</td><td>Posta</td><td>23</td></tr>",
                            "<tr><td>timea2</td><td>Posta</td><td>5</td></tr>",
                            "<tr><td>tunde</td><td>Posta</td><td>6</td></tr>",
                            "<tr><td>valentin</td><td>Posta</td><td>5</td></tr>",
                            "<tr><td>veronika4</td><td>Posta</td><td>6</td></tr>",
                            "<tr><td>VIKTORIAU</td><td>Posta</td><td>4</td></tr>",
                            "<tr><td>VIKTORK</td><td>Posta</td><td>6</td></tr>",
                            "<tr><td>vivien3</td><td>Posta</td><td>6</td></tr>",
                            "<tr><td>zoltan</td><td>Posta</td><td>3</td></tr>",
                            "<tr><td>zoltan4</td><td>Posta</td><td>124</td></tr>",
                            "<tr><td>ZOLTANP</td><td>Posta</td><td>3</td></tr>",
                            "<tr><td>ZOLTANT</td><td>Posta</td><td>107</td></tr>",
                            "<tr><td>zsofi1</td><td>Posta</td><td>6</td></tr>",
                            "<tr><td>zsolt1</td><td>Posta</td><td>6</td></tr>",
                            "<tr><td>ZSOLTJ</td><td>Posta</td><td>8</td></tr>",
                            "<tr><td>zsuzsa</td><td>Posta</td><td>5</td></tr>",
                            "<tr><td>zsuzsa3</td><td>Posta</td><td>5</td></tr>",
                            "<tr><td>zsuzsanna</td><td>Posta</td><td>5</td></tr>",
                            "<tr><td>ZSUZSAV</td><td>Posta</td><td>139</td></tr>",
                            "<tr><td>NULL</td><td>Posta</td><td>9191</td></tr>",
                            "<tr><td>adam1</td><td>Személyes átvétel</td><td>131</td></tr>",
                            "<tr><td>adam3</td><td>Személyes átvétel</td><td>2</td></tr>",
                            "<tr><td>adam4</td><td>Személyes átvétel</td><td>11</td></tr>",
                            "<tr><td>agnes</td><td>Személyes átvétel</td><td>144</td></tr>",
                            "<tr><td>agnes3</td><td>Személyes átvétel</td><td>136</td></tr>",
                            "<tr><td>AGNESH</td><td>Személyes átvétel</td><td>6</td></tr>",
                            "<tr><td>AGNESK</td><td>Személyes átvétel</td><td>7</td></tr>",
                            "<tr><td>akos</td><td>Személyes átvétel</td><td>140</td></tr>",
                            "<tr><td>aladar</td><td>Személyes átvétel</td><td>118</td></tr>",
                            "<tr><td>alexandra</td><td>Személyes átvétel</td><td>5</td></tr>",
                            "<tr><td>andi</td><td>Személyes átvétel</td><td>7</td></tr>",
                            "<tr><td>andras2</td><td>Személyes átvétel</td><td>11</td></tr>",
                            "<tr><td>andras21</td><td>Személyes átvétel</td><td>126</td></tr>",
                            "<tr><td>andras3</td><td>Személyes átvétel</td><td>5</td></tr>",
                            "<tr><td>andras4</td><td>Személyes átvétel</td><td>4</td></tr>",
                            "<tr><td>andras41</td><td>Személyes átvétel</td><td>133</td></tr>",
                            "<tr><td>ANDRASE</td><td>Személyes átvétel</td><td>136</td></tr>",
                            "<tr><td>ANDRASN</td><td>Személyes átvétel</td><td>5</td></tr>",
                            "<tr><td>andrea</td><td>Személyes átvétel</td><td>8</td></tr>",
                            "<tr><td>andrea3</td><td>Személyes átvétel</td><td>146</td></tr>",
                            "<tr><td>andrea4</td><td>Személyes átvétel</td><td>7</td></tr>",
                            "<tr><td>ANDREAT</td><td>Személyes átvétel</td><td>12</td></tr>",
                            "<tr><td>anett3</td><td>Személyes átvétel</td><td>9</td></tr>",
                            "<tr><td>aniko</td><td>Személyes átvétel</td><td>138</td></tr>",
                            "<tr><td>aniko4</td><td>Személyes átvétel</td><td>3</td></tr>",
                            "<tr><td>ANIKOS</td><td>Személyes átvétel</td><td>150</td></tr>",
                            "<tr><td>anita</td><td>Személyes átvétel</td><td>5</td></tr>",
                            "<tr><td>annamaria1</td><td>Személyes átvétel</td><td>7</td></tr>",
                            "<tr><td>ANNAMARIAR</td><td>Személyes átvétel</td><td>3</td></tr>",
                            "<tr><td>aron2</td><td>Személyes átvétel</td><td>144</td></tr>",
                            "<tr><td>ARONK</td><td>Személyes átvétel</td><td>155</td></tr>",
                            "<tr><td>arpad2</td><td>Személyes átvétel</td><td>10</td></tr>",
                            "<tr><td>ARPADH</td><td>Személyes átvétel</td><td>5</td></tr>",
                            "<tr><td>ARPADM</td><td>Személyes átvétel</td><td>7</td></tr>",
                            "<tr><td>attila1</td><td>Személyes átvétel</td><td>6</td></tr>",
                            "<tr><td>attila4</td><td>Személyes átvétel</td><td>141</td></tr>",
                            "<tr><td>ATTILAO</td><td>Személyes átvétel</td><td>6</td></tr>",
                            "<tr><td>balazs1</td><td>Személyes átvétel</td><td>155</td></tr>",
                            "<tr><td>balazs2</td><td>Személyes átvétel</td><td>5</td></tr>",
                            "<tr><td>balazs3</td><td>Személyes átvétel</td><td>3</td></tr>",
                            "<tr><td>balint</td><td>Személyes átvétel</td><td>2</td></tr>",
                            "<tr><td>balint1</td><td>Személyes átvétel</td><td>152</td></tr>",
                            "<tr><td>balint2</td><td>Személyes átvétel</td><td>3</td></tr>",
                            "<tr><td>balu</td><td>Személyes átvétel</td><td>123</td></tr>",
                            "<tr><td>BEATRIXK</td><td>Személyes átvétel</td><td>145</td></tr>",
                            "<tr><td>BEATRIXS</td><td>Személyes átvétel</td><td>133</td></tr>",
                            "<tr><td>BELAF</td><td>Személyes átvétel</td><td>5</td></tr>",
                            "<tr><td>bence</td><td>Személyes átvétel</td><td>8</td></tr>",
                            "<tr><td>BENCEB</td><td>Személyes átvétel</td><td>5</td></tr>",
                            "<tr><td>bernadett1</td><td>Személyes átvétel</td><td>5</td></tr>",
                            "<tr><td>bernadett2</td><td>Személyes átvétel</td><td>7</td></tr>",
                            "<tr><td>BERNADETTO</td><td>Személyes átvétel</td><td>7</td></tr>",
                            "<tr><td>bertalan</td><td>Személyes átvétel</td><td>101</td></tr>",
                            "<tr><td>brigitta</td><td>Személyes átvétel</td><td>119</td></tr>",
                            "<tr><td>brigitta3</td><td>Személyes átvétel</td><td>139</td></tr>",
                            "<tr><td>csongor3</td><td>Személyes átvétel</td><td>8</td></tr>",
                            "<tr><td>dani</td><td>Személyes átvétel</td><td>8</td></tr>",
                            "<tr><td>daniel</td><td>Személyes átvétel</td><td>4</td></tr>",
                            "<tr><td>daniel1</td><td>Személyes átvétel</td><td>132</td></tr>",
                            "<tr><td>david</td><td>Személyes átvétel</td><td>146</td></tr>",
                            "<tr><td>david1</td><td>Személyes átvétel</td><td>8</td></tr>",
                            "<tr><td>david4</td><td>Személyes átvétel</td><td>10</td></tr>",
                            "<tr><td>debora</td><td>Személyes átvétel</td><td>3</td></tr>",
                            "<tr><td>denes</td><td>Személyes átvétel</td><td>4</td></tr>",
                            "<tr><td>dora3</td><td>Személyes átvétel</td><td>164</td></tr>",
                            "<tr><td>edit</td><td>Személyes átvétel</td><td>4</td></tr>",
                            "<tr><td>emese</td><td>Személyes átvétel</td><td>142</td></tr>",
                            "<tr><td>eszter2</td><td>Személyes átvétel</td><td>152</td></tr>",
                            "<tr><td>eszter4</td><td>Személyes átvétel</td><td>149</td></tr>",
                            "<tr><td>ESZTERE</td><td>Személyes átvétel</td><td>7</td></tr>",
                            "<tr><td>eva</td><td>Személyes átvétel</td><td>139</td></tr>",
                            "<tr><td>eva2</td><td>Személyes átvétel</td><td>170</td></tr>",
                            "<tr><td>EVAV</td><td>Személyes átvétel</td><td>4</td></tr>",
                            "<tr><td>ferenc1</td><td>Személyes átvétel</td><td>135</td></tr>",
                            "<tr><td>fruzsina4</td><td>Személyes átvétel</td><td>7</td></tr>",
                            "<tr><td>gabor1</td><td>Személyes átvétel</td><td>5</td></tr>",
                            "<tr><td>gabor4</td><td>Személyes átvétel</td><td>4</td></tr>",
                            "<tr><td>GABORS</td><td>Személyes átvétel</td><td>4</td></tr>",
                            "<tr><td>gabriella1</td><td>Személyes átvétel</td><td>5</td></tr>",
                            "<tr><td>gabriella10</td><td>Személyes átvétel</td><td>7</td></tr>",
                            "<tr><td>georgij</td><td>Személyes átvétel</td><td>10</td></tr>",
                            "<tr><td>gusztav</td><td>Személyes átvétel</td><td>5</td></tr>",
                            "<tr><td>GYONGYIK</td><td>Személyes átvétel</td><td>3</td></tr>",
                            "<tr><td>GYORGYO</td><td>Személyes átvétel</td><td>5</td></tr>",
                            "<tr><td>henrik3</td><td>Személyes átvétel</td><td>5</td></tr>",
                            "<tr><td>IBOLYAA</td><td>Személyes átvétel</td><td>157</td></tr>",
                            "<tr><td>ilona3</td><td>Személyes átvétel</td><td>7</td></tr>",
                            "<tr><td>imre</td><td>Személyes átvétel</td><td>6</td></tr>",
                            "<tr><td>imre1</td><td>Személyes átvétel</td><td>3</td></tr>",
                            "<tr><td>istvan</td><td>Személyes átvétel</td><td>4</td></tr>",
                            "<tr><td>istvan1</td><td>Személyes átvétel</td><td>7</td></tr>",
                            "<tr><td>ISTVANV</td><td>Személyes átvétel</td><td>8</td></tr>",
                            "<tr><td>janos3</td><td>Személyes átvétel</td><td>6</td></tr>",
                            "<tr><td>JANOSG</td><td>Személyes átvétel</td><td>4</td></tr>",
                            "<tr><td>JANOSP</td><td>Személyes átvétel</td><td>3</td></tr>",
                            "<tr><td>jozsef</td><td>Személyes átvétel</td><td>134</td></tr>",
                            "<tr><td>jozsef2</td><td>Személyes átvétel</td><td>4</td></tr>",
                            "<tr><td>JOZSEFG</td><td>Személyes átvétel</td><td>9</td></tr>",
                            "<tr><td>JUDITH</td><td>Személyes átvétel</td><td>150</td></tr>",
                            "<tr><td>julia</td><td>Személyes átvétel</td><td>138</td></tr>",
                            "<tr><td>julia4</td><td>Személyes átvétel</td><td>8</td></tr>",
                            "<tr><td>julianna4</td><td>Személyes átvétel</td><td>7</td></tr>",
                            "<tr><td>kata</td><td>Személyes átvétel</td><td>3</td></tr>",
                            "<tr><td>katalin</td><td>Személyes átvétel</td><td>5</td></tr>",
                            "<tr><td>katalin4</td><td>Személyes átvétel</td><td>11</td></tr>",
                            "<tr><td>kati</td><td>Személyes átvétel</td><td>4</td></tr>",
                            "<tr><td>katka</td><td>Személyes átvétel</td><td>10</td></tr>",
                            "<tr><td>klaudia2</td><td>Személyes átvétel</td><td>5</td></tr>",
                            "<tr><td>kornel4</td><td>Személyes átvétel</td><td>7</td></tr>",
                            "<tr><td>kristof4</td><td>Személyes átvétel</td><td>8</td></tr>",
                            "<tr><td>kriszti</td><td>Személyes átvétel</td><td>5</td></tr>",
                            "<tr><td>krisztian4</td><td>Személyes átvétel</td><td>6</td></tr>",
                            "<tr><td>KRISZTIANM</td><td>Személyes átvétel</td><td>130</td></tr>",
                            "<tr><td>krisztina</td><td>Személyes átvétel</td><td>157</td></tr>",
                            "<tr><td>krisztina1</td><td>Személyes átvétel</td><td>8</td></tr>",
                            "<tr><td>KRISZTINAG</td><td>Személyes átvétel</td><td>10</td></tr>",
                            "<tr><td>lajos</td><td>Személyes átvétel</td><td>9</td></tr>",
                            "<tr><td>lala</td><td>Személyes átvétel</td><td>9</td></tr>",
                            "<tr><td>laszlo1</td><td>Személyes átvétel</td><td>135</td></tr>",
                            "<tr><td>laszlo2</td><td>Személyes átvétel</td><td>7</td></tr>",
                            "<tr><td>LASZLOA</td><td>Személyes átvétel</td><td>154</td></tr>",
                            "<tr><td>LASZLON</td><td>Személyes átvétel</td><td>143</td></tr>",
                            "<tr><td>maria1</td><td>Személyes átvétel</td><td>1</td></tr>",
                            "<tr><td>MARKH</td><td>Személyes átvétel</td><td>142</td></tr>",
                            "<tr><td>marton</td><td>Személyes átvétel</td><td>5</td></tr>",
                            "<tr><td>MATEK</td><td>Személyes átvétel</td><td>9</td></tr>",
                            "<tr><td>matyas2</td><td>Személyes átvétel</td><td>164</td></tr>",
                            "<tr><td>MATYASS</td><td>Személyes átvétel</td><td>3</td></tr>",
                            "<tr><td>MIHALYJ</td><td>Személyes átvétel</td><td>6</td></tr>",
                            "<tr><td>miklos2</td><td>Személyes átvétel</td><td>2</td></tr>",
                            "<tr><td>MIKLOSB</td><td>Személyes átvétel</td><td>8</td></tr>",
                            "<tr><td>MONIKAM</td><td>Személyes átvétel</td><td>123</td></tr>",
                            "<tr><td>NANDORF</td><td>Személyes átvétel</td><td>134</td></tr>",
                            "<tr><td>nikolett3</td><td>Személyes átvétel</td><td>10</td></tr>",
                            "<tr><td>nikoletta4</td><td>Személyes átvétel</td><td>119</td></tr>",
                            "<tr><td>NIKOLETTAT</td><td>Személyes átvétel</td><td>5</td></tr>",
                            "<tr><td>norbert4</td><td>Személyes átvétel</td><td>9</td></tr>",
                            "<tr><td>norbert5</td><td>Személyes átvétel</td><td>9</td></tr>",
                            "<tr><td>pal</td><td>Személyes átvétel</td><td>154</td></tr>",
                            "<tr><td>peter1</td><td>Személyes átvétel</td><td>126</td></tr>",
                            "<tr><td>peter2</td><td>Személyes átvétel</td><td>7</td></tr>",
                            "<tr><td>peter3</td><td>Személyes átvétel</td><td>10</td></tr>",
                            "<tr><td>peter4</td><td>Személyes átvétel</td><td>293</td></tr>",
                            "<tr><td>PETERB</td><td>Személyes átvétel</td><td>9</td></tr>",
                            "<tr><td>polla</td><td>Személyes átvétel</td><td>7</td></tr>",
                            "<tr><td>rajmond4</td><td>Személyes átvétel</td><td>6</td></tr>",
                            "<tr><td>reka4</td><td>Személyes átvétel</td><td>11</td></tr>",
                            "<tr><td>RENATAK</td><td>Személyes átvétel</td><td>147</td></tr>",
                            "<tr><td>RENATAS</td><td>Személyes átvétel</td><td>5</td></tr>",
                            "<tr><td>robert2</td><td>Személyes átvétel</td><td>7</td></tr>",
                            "<tr><td>ROBERTI</td><td>Személyes átvétel</td><td>5</td></tr>",
                            "<tr><td>ROBERTP</td><td>Személyes átvétel</td><td>10</td></tr>",
                            "<tr><td>roland</td><td>Személyes átvétel</td><td>125</td></tr>",
                            "<tr><td>roland1</td><td>Személyes átvétel</td><td>135</td></tr>",
                            "<tr><td>roza2</td><td>Személyes átvétel</td><td>3</td></tr>",
                            "<tr><td>sandor</td><td>Személyes átvétel</td><td>7</td></tr>",
                            "<tr><td>sandor3</td><td>Személyes átvétel</td><td>6</td></tr>",
                            "<tr><td>sandor4</td><td>Személyes átvétel</td><td>5</td></tr>",
                            "<tr><td>sara</td><td>Személyes átvétel</td><td>9</td></tr>",
                            "<tr><td>SEBASTIANF</td><td>Személyes átvétel</td><td>6</td></tr>",
                            "<tr><td>sebestyen</td><td>Személyes átvétel</td><td>6</td></tr>",
                            "<tr><td>szabolcs</td><td>Személyes átvétel</td><td>169</td></tr>",
                            "<tr><td>SZABOLCSM</td><td>Személyes átvétel</td><td>129</td></tr>",
                            "<tr><td>SZILARDS</td><td>Személyes átvétel</td><td>111</td></tr>",
                            "<tr><td>szilvia1</td><td>Személyes átvétel</td><td>138</td></tr>",
                            "<tr><td>tamara2</td><td>Személyes átvétel</td><td>3</td></tr>",
                            "<tr><td>tamas</td><td>Személyes átvétel</td><td>122</td></tr>",
                            "<tr><td>TAMASF</td><td>Személyes átvétel</td><td>129</td></tr>",
                            "<tr><td>tibor</td><td>Személyes átvétel</td><td>130</td></tr>",
                            "<tr><td>tibor2</td><td>Személyes átvétel</td><td>11</td></tr>",
                            "<tr><td>tihamer</td><td>Személyes átvétel</td><td>5</td></tr>",
                            "<tr><td>timea</td><td>Személyes átvétel</td><td>18</td></tr>",
                            "<tr><td>timea2</td><td>Személyes átvétel</td><td>10</td></tr>",
                            "<tr><td>tunde</td><td>Személyes átvétel</td><td>4</td></tr>",
                            "<tr><td>valentin</td><td>Személyes átvétel</td><td>3</td></tr>",
                            "<tr><td>veronika4</td><td>Személyes átvétel</td><td>7</td></tr>",
                            "<tr><td>VIKTORIAU</td><td>Személyes átvétel</td><td>5</td></tr>",
                            "<tr><td>VIKTORK</td><td>Személyes átvétel</td><td>6</td></tr>",
                            "<tr><td>vivien3</td><td>Személyes átvétel</td><td>7</td></tr>",
                            "<tr><td>zoltan</td><td>Személyes átvétel</td><td>7</td></tr>",
                            "<tr><td>zoltan4</td><td>Személyes átvétel</td><td>171</td></tr>",
                            "<tr><td>ZOLTANP</td><td>Személyes átvétel</td><td>4</td></tr>",
                            "<tr><td>ZOLTANT</td><td>Személyes átvétel</td><td>123</td></tr>",
                            "<tr><td>zsofi1</td><td>Személyes átvétel</td><td>6</td></tr>",
                            "<tr><td>zsolt1</td><td>Személyes átvétel</td><td>3</td></tr>",
                            "<tr><td>ZSOLTJ</td><td>Személyes átvétel</td><td>9</td></tr>",
                            "<tr><td>zsuzsa</td><td>Személyes átvétel</td><td>3</td></tr>",
                            "<tr><td>zsuzsa3</td><td>Személyes átvétel</td><td>6</td></tr>",
                            "<tr><td>zsuzsanna</td><td>Személyes átvétel</td><td>3</td></tr>",
                            "<tr><td>ZSUZSAV</td><td>Személyes átvétel</td><td>142</td></tr>",
                            "<tr><td>NULL</td><td>Személyes átvétel</td><td>9468</td></tr>",
                            "<tr><td>NULL</td><td>NULL</td><td>28085</td></tr>",
                            "<tr><td>adam1</td><td>NULL</td><td>392</td></tr>",
                            "<tr><td>adam3</td><td>NULL</td><td>15</td></tr>",
                            "<tr><td>adam4</td><td>NULL</td><td>29</td></tr>",
                            "<tr><td>agnes</td><td>NULL</td><td>418</td></tr>",
                            "<tr><td>agnes3</td><td>NULL</td><td>430</td></tr>",
                            "<tr><td>AGNESH</td><td>NULL</td><td>11</td></tr>",
                            "<tr><td>AGNESK</td><td>NULL</td><td>15</td></tr>",
                            "<tr><td>akos</td><td>NULL</td><td>429</td></tr>",
                            "<tr><td>aladar</td><td>NULL</td><td>408</td></tr>",
                            "<tr><td>alexandra</td><td>NULL</td><td>19</td></tr>",
                            "<tr><td>andi</td><td>NULL</td><td>18</td></tr>",
                            "<tr><td>andras2</td><td>NULL</td><td>22</td></tr>",
                            "<tr><td>andras21</td><td>NULL</td><td>390</td></tr>",
                            "<tr><td>andras3</td><td>NULL</td><td>9</td></tr>",
                            "<tr><td>andras4</td><td>NULL</td><td>12</td></tr>",
                            "<tr><td>andras41</td><td>NULL</td><td>419</td></tr>",
                            "<tr><td>ANDRASE</td><td>NULL</td><td>436</td></tr>",
                            "<tr><td>ANDRASN</td><td>NULL</td><td>24</td></tr>",
                            "<tr><td>andrea</td><td>NULL</td><td>24</td></tr>",
                            "<tr><td>andrea3</td><td>NULL</td><td>413</td></tr>",
                            "<tr><td>andrea4</td><td>NULL</td><td>18</td></tr>",
                            "<tr><td>ANDREAT</td><td>NULL</td><td>21</td></tr>",
                            "<tr><td>anett3</td><td>NULL</td><td>18</td></tr>",
                            "<tr><td>aniko</td><td>NULL</td><td>403</td></tr>",
                            "<tr><td>aniko4</td><td>NULL</td><td>15</td></tr>",
                            "<tr><td>ANIKOS</td><td>NULL</td><td>404</td></tr>",
                            "<tr><td>anita</td><td>NULL</td><td>12</td></tr>",
                            "<tr><td>annamaria1</td><td>NULL</td><td>16</td></tr>",
                            "<tr><td>ANNAMARIAR</td><td>NULL</td><td>13</td></tr>",
                            "<tr><td>aron2</td><td>NULL</td><td>409</td></tr>",
                            "<tr><td>ARONK</td><td>NULL</td><td>430</td></tr>",
                            "<tr><td>arpad2</td><td>NULL</td><td>17</td></tr>",
                            "<tr><td>ARPADH</td><td>NULL</td><td>14</td></tr>",
                            "<tr><td>ARPADM</td><td>NULL</td><td>16</td></tr>",
                            "<tr><td>attila1</td><td>NULL</td><td>18</td></tr>",
                            "<tr><td>attila4</td><td>NULL</td><td>401</td></tr>",
                            "<tr><td>ATTILAO</td><td>NULL</td><td>14</td></tr>",
                            "<tr><td>balazs1</td><td>NULL</td><td>419</td></tr>",
                            "<tr><td>balazs2</td><td>NULL</td><td>17</td></tr>",
                            "<tr><td>balazs3</td><td>NULL</td><td>15</td></tr>",
                            "<tr><td>balint</td><td>NULL</td><td>16</td></tr>",
                            "<tr><td>balint1</td><td>NULL</td><td>462</td></tr>",
                            "<tr><td>balint2</td><td>NULL</td><td>17</td></tr>",
                            "<tr><td>balu</td><td>NULL</td><td>387</td></tr>",
                            "<tr><td>BEATRIXK</td><td>NULL</td><td>435</td></tr>",
                            "<tr><td>BEATRIXS</td><td>NULL</td><td>420</td></tr>",
                            "<tr><td>BELAF</td><td>NULL</td><td>18</td></tr>",
                            "<tr><td>bence</td><td>NULL</td><td>18</td></tr>",
                            "<tr><td>BENCEB</td><td>NULL</td><td>17</td></tr>",
                            "<tr><td>bernadett1</td><td>NULL</td><td>20</td></tr>",
                            "<tr><td>bernadett2</td><td>NULL</td><td>15</td></tr>",
                            "<tr><td>BERNADETTO</td><td>NULL</td><td>16</td></tr>",
                            "<tr><td>bertalan</td><td>NULL</td><td>353</td></tr>",
                            "<tr><td>brigitta</td><td>NULL</td><td>393</td></tr>",
                            "<tr><td>brigitta3</td><td>NULL</td><td>413</td></tr>",
                            "<tr><td>csongor3</td><td>NULL</td><td>15</td></tr>",
                            "<tr><td>dani</td><td>NULL</td><td>13</td></tr>",
                            "<tr><td>daniel</td><td>NULL</td><td>13</td></tr>",
                            "<tr><td>daniel1</td><td>NULL</td><td>419</td></tr>",
                            "<tr><td>david</td><td>NULL</td><td>451</td></tr>",
                            "<tr><td>david1</td><td>NULL</td><td>17</td></tr>",
                            "<tr><td>david4</td><td>NULL</td><td>21</td></tr>",
                            "<tr><td>debora</td><td>NULL</td><td>16</td></tr>",
                            "<tr><td>denes</td><td>NULL</td><td>9</td></tr>",
                            "<tr><td>dora3</td><td>NULL</td><td>432</td></tr>",
                            "<tr><td>edit</td><td>NULL</td><td>13</td></tr>",
                            "<tr><td>emese</td><td>NULL</td><td>406</td></tr>",
                            "<tr><td>eszter2</td><td>NULL</td><td>415</td></tr>",
                            "<tr><td>eszter4</td><td>NULL</td><td>424</td></tr>",
                            "<tr><td>ESZTERE</td><td>NULL</td><td>22</td></tr>",
                            "<tr><td>eva</td><td>NULL</td><td>404</td></tr>",
                            "<tr><td>eva2</td><td>NULL</td><td>462</td></tr>",
                            "<tr><td>EVAV</td><td>NULL</td><td>7</td></tr>",
                            "<tr><td>ferenc1</td><td>NULL</td><td>437</td></tr>",
                            "<tr><td>fruzsina4</td><td>NULL</td><td>18</td></tr>",
                            "<tr><td>gabor1</td><td>NULL</td><td>19</td></tr>",
                            "<tr><td>gabor4</td><td>NULL</td><td>20</td></tr>",
                            "<tr><td>GABORS</td><td>NULL</td><td>15</td></tr>",
                            "<tr><td>gabriella1</td><td>NULL</td><td>14</td></tr>",
                            "<tr><td>gabriella10</td><td>NULL</td><td>16</td></tr>",
                            "<tr><td>georgij</td><td>NULL</td><td>21</td></tr>",
                            "<tr><td>gusztav</td><td>NULL</td><td>14</td></tr>",
                            "<tr><td>GYONGYIK</td><td>NULL</td><td>15</td></tr>",
                            "<tr><td>GYORGYO</td><td>NULL</td><td>16</td></tr>",
                            "<tr><td>henrik3</td><td>NULL</td><td>16</td></tr>",
                            "<tr><td>IBOLYAA</td><td>NULL</td><td>422</td></tr>",
                            "<tr><td>ilona3</td><td>NULL</td><td>18</td></tr>",
                            "<tr><td>imre</td><td>NULL</td><td>15</td></tr>",
                            "<tr><td>imre1</td><td>NULL</td><td>15</td></tr>",
                            "<tr><td>istvan</td><td>NULL</td><td>11</td></tr>",
                            "<tr><td>istvan1</td><td>NULL</td><td>19</td></tr>",
                            "<tr><td>ISTVANV</td><td>NULL</td><td>21</td></tr>",
                            "<tr><td>janos3</td><td>NULL</td><td>13</td></tr>",
                            "<tr><td>JANOSG</td><td>NULL</td><td>10</td></tr>",
                            "<tr><td>JANOSP</td><td>NULL</td><td>17</td></tr>",
                            "<tr><td>jozsef</td><td>NULL</td><td>382</td></tr>",
                            "<tr><td>jozsef2</td><td>NULL</td><td>13</td></tr>",
                            "<tr><td>JOZSEFG</td><td>NULL</td><td>21</td></tr>",
                            "<tr><td>JUDITH</td><td>NULL</td><td>450</td></tr>",
                            "<tr><td>julia</td><td>NULL</td><td>435</td></tr>",
                            "<tr><td>julia4</td><td>NULL</td><td>14</td></tr>",
                            "<tr><td>julianna4</td><td>NULL</td><td>27</td></tr>",
                            "<tr><td>kata</td><td>NULL</td><td>12</td></tr>",
                            "<tr><td>katalin</td><td>NULL</td><td>19</td></tr>",
                            "<tr><td>katalin4</td><td>NULL</td><td>23</td></tr>",
                            "<tr><td>kati</td><td>NULL</td><td>13</td></tr>",
                            "<tr><td>katka</td><td>NULL</td><td>22</td></tr>",
                            "<tr><td>klaudia2</td><td>NULL</td><td>17</td></tr>",
                            "<tr><td>kornel4</td><td>NULL</td><td>11</td></tr>",
                            "<tr><td>kristof4</td><td>NULL</td><td>21</td></tr>",
                            "<tr><td>kriszti</td><td>NULL</td><td>13</td></tr>",
                            "<tr><td>krisztian4</td><td>NULL</td><td>17</td></tr>",
                            "<tr><td>KRISZTIANM</td><td>NULL</td><td>384</td></tr>",
                            "<tr><td>krisztina</td><td>NULL</td><td>456</td></tr>",
                            "<tr><td>krisztina1</td><td>NULL</td><td>22</td></tr>",
                            "<tr><td>KRISZTINAG</td><td>NULL</td><td>22</td></tr>",
                            "<tr><td>lajos</td><td>NULL</td><td>16</td></tr>",
                            "<tr><td>lala</td><td>NULL</td><td>17</td></tr>",
                            "<tr><td>laszlo1</td><td>NULL</td><td>394</td></tr>",
                            "<tr><td>laszlo2</td><td>NULL</td><td>25</td></tr>",
                            "<tr><td>LASZLOA</td><td>NULL</td><td>446</td></tr>",
                            "<tr><td>LASZLON</td><td>NULL</td><td>400</td></tr>",
                            "<tr><td>maria1</td><td>NULL</td><td>10</td></tr>",
                            "<tr><td>MARKH</td><td>NULL</td><td>412</td></tr>",
                            "<tr><td>marton</td><td>NULL</td><td>14</td></tr>",
                            "<tr><td>MATEK</td><td>NULL</td><td>25</td></tr>",
                            "<tr><td>matyas2</td><td>NULL</td><td>433</td></tr>",
                            "<tr><td>MATYASS</td><td>NULL</td><td>12</td></tr>",
                            "<tr><td>MIHALYJ</td><td>NULL</td><td>13</td></tr>",
                            "<tr><td>miklos2</td><td>NULL</td><td>13</td></tr>",
                            "<tr><td>MIKLOSB</td><td>NULL</td><td>15</td></tr>",
                            "<tr><td>MONIKAM</td><td>NULL</td><td>407</td></tr>",
                            "<tr><td>NANDORF</td><td>NULL</td><td>420</td></tr>",
                            "<tr><td>nikolett3</td><td>NULL</td><td>17</td></tr>",
                            "<tr><td>nikoletta4</td><td>NULL</td><td>414</td></tr>",
                            "<tr><td>NIKOLETTAT</td><td>NULL</td><td>25</td></tr>",
                            "<tr><td>norbert2</td><td>NULL</td><td>11</td></tr>",
                            "<tr><td>norbert4</td><td>NULL</td><td>13</td></tr>",
                            "<tr><td>norbert5</td><td>NULL</td><td>16</td></tr>",
                            "<tr><td>pal</td><td>NULL</td><td>438</td></tr>",
                            "<tr><td>peter1</td><td>NULL</td><td>412</td></tr>",
                            "<tr><td>peter2</td><td>NULL</td><td>18</td></tr>",
                            "<tr><td>peter3</td><td>NULL</td><td>25</td></tr>",
                            "<tr><td>peter4</td><td>NULL</td><td>852</td></tr>",
                            "<tr><td>PETERB</td><td>NULL</td><td>15</td></tr>",
                            "<tr><td>polla</td><td>NULL</td><td>22</td></tr>",
                            "<tr><td>rajmond4</td><td>NULL</td><td>17</td></tr>",
                            "<tr><td>reka4</td><td>NULL</td><td>20</td></tr>",
                            "<tr><td>RENATAK</td><td>NULL</td><td>422</td></tr>",
                            "<tr><td>RENATAS</td><td>NULL</td><td>16</td></tr>",
                            "<tr><td>robert2</td><td>NULL</td><td>13</td></tr>",
                            "<tr><td>ROBERTI</td><td>NULL</td><td>13</td></tr>",
                            "<tr><td>ROBERTP</td><td>NULL</td><td>26</td></tr>",
                            "<tr><td>roland</td><td>NULL</td><td>414</td></tr>",
                            "<tr><td>roland1</td><td>NULL</td><td>432</td></tr>",
                            "<tr><td>roza2</td><td>NULL</td><td>8</td></tr>",
                            "<tr><td>sandor</td><td>NULL</td><td>17</td></tr>",
                            "<tr><td>sandor3</td><td>NULL</td><td>14</td></tr>",
                            "<tr><td>sandor4</td><td>NULL</td><td>11</td></tr>",
                            "<tr><td>sara</td><td>NULL</td><td>20</td></tr>",
                            "<tr><td>SEBASTIANF</td><td>NULL</td><td>15</td></tr>",
                            "<tr><td>sebestyen</td><td>NULL</td><td>16</td></tr>",
                            "<tr><td>szabolcs</td><td>NULL</td><td>471</td></tr>",
                            "<tr><td>SZABOLCSM</td><td>NULL</td><td>408</td></tr>",
                            "<tr><td>SZILARDS</td><td>NULL</td><td>386</td></tr>",
                            "<tr><td>szilvia1</td><td>NULL</td><td>445</td></tr>",
                            "<tr><td>tamara2</td><td>NULL</td><td>13</td></tr>",
                            "<tr><td>tamas</td><td>NULL</td><td>421</td></tr>",
                            "<tr><td>TAMASF</td><td>NULL</td><td>433</td></tr>",
                            "<tr><td>tibor</td><td>NULL</td><td>374</td></tr>",
                            "<tr><td>tibor2</td><td>NULL</td><td>25</td></tr>",
                            "<tr><td>tihamer</td><td>NULL</td><td>20</td></tr>",
                            "<tr><td>timea</td><td>NULL</td><td>55</td></tr>",
                            "<tr><td>timea2</td><td>NULL</td><td>16</td></tr>",
                            "<tr><td>tunde</td><td>NULL</td><td>16</td></tr>",
                            "<tr><td>valentin</td><td>NULL</td><td>13</td></tr>",
                            "<tr><td>veronika4</td><td>NULL</td><td>18</td></tr>",
                            "<tr><td>VIKTORIAU</td><td>NULL</td><td>14</td></tr>",
                            "<tr><td>VIKTORK</td><td>NULL</td><td>20</td></tr>",
                            "<tr><td>vivien3</td><td>NULL</td><td>22</td></tr>",
                            "<tr><td>zoltan</td><td>NULL</td><td>15</td></tr>",
                            "<tr><td>zoltan4</td><td>NULL</td><td>424</td></tr>",
                            "<tr><td>ZOLTANP</td><td>NULL</td><td>13</td></tr>",
                            "<tr><td>ZOLTANT</td><td>NULL</td><td>357</td></tr>",
                            "<tr><td>zsofi1</td><td>NULL</td><td>19</td></tr>",
                            "<tr><td>zsolt1</td><td>NULL</td><td>20</td></tr>",
                            "<tr><td>ZSOLTJ</td><td>NULL</td><td>18</td></tr>",
                            "<tr><td>zsuzsa</td><td>NULL</td><td>16</td></tr>",
                            "<tr><td>zsuzsa3</td><td>NULL</td><td>16</td></tr>",
                            "<tr><td>zsuzsanna</td><td>NULL</td><td>15</td></tr>",
                            "<tr><td>ZSUZSAV</td><td>NULL</td><td>420</td></tr>",
                            "</table>"
                        ]
                    }
                }
            ],
            "execution_count": 6
        },
        {
            "cell_type": "markdown",
            "source": [
                "2. <span style=\"background-color: rgb(255, 255, 255); color: rgb(0, 0, 0); font-family: &quot;Open Sans&quot;, sans-serif; font-size: 14.44px;\">Készítsünk listát a termékek számáról a következő csoportosítási szempontok szerint:<br>kategória azonosító, raktárkód, raktárkód+mennyiségi egység!</span>\n",
                "\n",
                "a. A listát szűrjük azokra a csoportokra, ahol a termékek száma legalább 6!"
            ],
            "metadata": {
                "azdata_cell_guid": "ea75c103-911f-41a3-a32c-3d40fb3e4e4a"
            },
            "attachments": {}
        },
        {
            "cell_type": "code",
            "source": [
                "SELECT kat_id, Count(*), RAKTAR_KOD, MEGYS --meg lehet oldani 3 lekérdezés uniójával is\r\n",
                "From termek \r\n",
                "Group by Grouping sets(KAT_ID, RAKTAR_KOD,(raktar_kod, MEGYS))\r\n",
                "Having Count(*)>=6"
            ],
            "metadata": {
                "azdata_cell_guid": "222b9618-a8e8-42b4-a8e8-d002257122b7",
                "language": "sql"
            },
            "outputs": [
                {
                    "output_type": "display_data",
                    "data": {
                        "text/html": "(49 rows affected)"
                    },
                    "metadata": {}
                },
                {
                    "output_type": "display_data",
                    "data": {
                        "text/html": "Total execution time: 00:00:00.015"
                    },
                    "metadata": {}
                },
                {
                    "output_type": "execute_result",
                    "metadata": {},
                    "execution_count": 19,
                    "data": {
                        "application/vnd.dataresource+json": {
                            "schema": {
                                "fields": [
                                    {
                                        "name": "kat_id"
                                    },
                                    {
                                        "name": "(No column name)"
                                    },
                                    {
                                        "name": "RAKTAR_KOD"
                                    },
                                    {
                                        "name": "MEGYS"
                                    }
                                ]
                            },
                            "data": [
                                {
                                    "kat_id": "NULL",
                                    "(No column name)": "11",
                                    "RAKTAR_KOD": "1",
                                    "MEGYS": "db"
                                },
                                {
                                    "kat_id": "NULL",
                                    "(No column name)": "11",
                                    "RAKTAR_KOD": "1",
                                    "MEGYS": "NULL"
                                },
                                {
                                    "kat_id": "NULL",
                                    "(No column name)": "14",
                                    "RAKTAR_KOD": "3",
                                    "MEGYS": "db"
                                },
                                {
                                    "kat_id": "NULL",
                                    "(No column name)": "14",
                                    "RAKTAR_KOD": "3",
                                    "MEGYS": "NULL"
                                },
                                {
                                    "kat_id": "NULL",
                                    "(No column name)": "7",
                                    "RAKTAR_KOD": "5",
                                    "MEGYS": "csomag"
                                },
                                {
                                    "kat_id": "NULL",
                                    "(No column name)": "72",
                                    "RAKTAR_KOD": "5",
                                    "MEGYS": "db"
                                },
                                {
                                    "kat_id": "NULL",
                                    "(No column name)": "86",
                                    "RAKTAR_KOD": "5",
                                    "MEGYS": "NULL"
                                },
                                {
                                    "kat_id": "NULL",
                                    "(No column name)": "9",
                                    "RAKTAR_KOD": "6",
                                    "MEGYS": "csomag"
                                },
                                {
                                    "kat_id": "NULL",
                                    "(No column name)": "94",
                                    "RAKTAR_KOD": "6",
                                    "MEGYS": "db"
                                },
                                {
                                    "kat_id": "NULL",
                                    "(No column name)": "106",
                                    "RAKTAR_KOD": "6",
                                    "MEGYS": "NULL"
                                },
                                {
                                    "kat_id": "NULL",
                                    "(No column name)": "9",
                                    "RAKTAR_KOD": "7",
                                    "MEGYS": "csomag"
                                },
                                {
                                    "kat_id": "NULL",
                                    "(No column name)": "88",
                                    "RAKTAR_KOD": "7",
                                    "MEGYS": "db"
                                },
                                {
                                    "kat_id": "NULL",
                                    "(No column name)": "100",
                                    "RAKTAR_KOD": "7",
                                    "MEGYS": "NULL"
                                },
                                {
                                    "kat_id": "NULL",
                                    "(No column name)": "8",
                                    "RAKTAR_KOD": "8",
                                    "MEGYS": "csomag"
                                },
                                {
                                    "kat_id": "NULL",
                                    "(No column name)": "109",
                                    "RAKTAR_KOD": "8",
                                    "MEGYS": "db"
                                },
                                {
                                    "kat_id": "NULL",
                                    "(No column name)": "6",
                                    "RAKTAR_KOD": "8",
                                    "MEGYS": "ív"
                                },
                                {
                                    "kat_id": "NULL",
                                    "(No column name)": "123",
                                    "RAKTAR_KOD": "8",
                                    "MEGYS": "NULL"
                                },
                                {
                                    "kat_id": "NULL",
                                    "(No column name)": "11",
                                    "RAKTAR_KOD": "9",
                                    "MEGYS": "csomag"
                                },
                                {
                                    "kat_id": "NULL",
                                    "(No column name)": "86",
                                    "RAKTAR_KOD": "9",
                                    "MEGYS": "db"
                                },
                                {
                                    "kat_id": "NULL",
                                    "(No column name)": "102",
                                    "RAKTAR_KOD": "9",
                                    "MEGYS": "NULL"
                                },
                                {
                                    "kat_id": "4",
                                    "(No column name)": "15",
                                    "RAKTAR_KOD": "NULL",
                                    "MEGYS": "NULL"
                                },
                                {
                                    "kat_id": "6",
                                    "(No column name)": "20",
                                    "RAKTAR_KOD": "NULL",
                                    "MEGYS": "NULL"
                                },
                                {
                                    "kat_id": "16",
                                    "(No column name)": "7",
                                    "RAKTAR_KOD": "NULL",
                                    "MEGYS": "NULL"
                                },
                                {
                                    "kat_id": "19",
                                    "(No column name)": "19",
                                    "RAKTAR_KOD": "NULL",
                                    "MEGYS": "NULL"
                                },
                                {
                                    "kat_id": "24",
                                    "(No column name)": "7",
                                    "RAKTAR_KOD": "NULL",
                                    "MEGYS": "NULL"
                                },
                                {
                                    "kat_id": "30",
                                    "(No column name)": "7",
                                    "RAKTAR_KOD": "NULL",
                                    "MEGYS": "NULL"
                                },
                                {
                                    "kat_id": "35",
                                    "(No column name)": "7",
                                    "RAKTAR_KOD": "NULL",
                                    "MEGYS": "NULL"
                                },
                                {
                                    "kat_id": "41",
                                    "(No column name)": "13",
                                    "RAKTAR_KOD": "NULL",
                                    "MEGYS": "NULL"
                                },
                                {
                                    "kat_id": "45",
                                    "(No column name)": "11",
                                    "RAKTAR_KOD": "NULL",
                                    "MEGYS": "NULL"
                                },
                                {
                                    "kat_id": "46",
                                    "(No column name)": "7",
                                    "RAKTAR_KOD": "NULL",
                                    "MEGYS": "NULL"
                                },
                                {
                                    "kat_id": "52",
                                    "(No column name)": "26",
                                    "RAKTAR_KOD": "NULL",
                                    "MEGYS": "NULL"
                                },
                                {
                                    "kat_id": "54",
                                    "(No column name)": "6",
                                    "RAKTAR_KOD": "NULL",
                                    "MEGYS": "NULL"
                                },
                                {
                                    "kat_id": "66",
                                    "(No column name)": "7",
                                    "RAKTAR_KOD": "NULL",
                                    "MEGYS": "NULL"
                                },
                                {
                                    "kat_id": "78",
                                    "(No column name)": "24",
                                    "RAKTAR_KOD": "NULL",
                                    "MEGYS": "NULL"
                                },
                                {
                                    "kat_id": "83",
                                    "(No column name)": "6",
                                    "RAKTAR_KOD": "NULL",
                                    "MEGYS": "NULL"
                                },
                                {
                                    "kat_id": "85",
                                    "(No column name)": "16",
                                    "RAKTAR_KOD": "NULL",
                                    "MEGYS": "NULL"
                                },
                                {
                                    "kat_id": "91",
                                    "(No column name)": "7",
                                    "RAKTAR_KOD": "NULL",
                                    "MEGYS": "NULL"
                                },
                                {
                                    "kat_id": "93",
                                    "(No column name)": "7",
                                    "RAKTAR_KOD": "NULL",
                                    "MEGYS": "NULL"
                                },
                                {
                                    "kat_id": "96",
                                    "(No column name)": "9",
                                    "RAKTAR_KOD": "NULL",
                                    "MEGYS": "NULL"
                                },
                                {
                                    "kat_id": "97",
                                    "(No column name)": "10",
                                    "RAKTAR_KOD": "NULL",
                                    "MEGYS": "NULL"
                                },
                                {
                                    "kat_id": "100",
                                    "(No column name)": "9",
                                    "RAKTAR_KOD": "NULL",
                                    "MEGYS": "NULL"
                                },
                                {
                                    "kat_id": "118",
                                    "(No column name)": "9",
                                    "RAKTAR_KOD": "NULL",
                                    "MEGYS": "NULL"
                                },
                                {
                                    "kat_id": "122",
                                    "(No column name)": "7",
                                    "RAKTAR_KOD": "NULL",
                                    "MEGYS": "NULL"
                                },
                                {
                                    "kat_id": "124",
                                    "(No column name)": "10",
                                    "RAKTAR_KOD": "NULL",
                                    "MEGYS": "NULL"
                                },
                                {
                                    "kat_id": "133",
                                    "(No column name)": "6",
                                    "RAKTAR_KOD": "NULL",
                                    "MEGYS": "NULL"
                                },
                                {
                                    "kat_id": "145",
                                    "(No column name)": "18",
                                    "RAKTAR_KOD": "NULL",
                                    "MEGYS": "NULL"
                                },
                                {
                                    "kat_id": "146",
                                    "(No column name)": "7",
                                    "RAKTAR_KOD": "NULL",
                                    "MEGYS": "NULL"
                                },
                                {
                                    "kat_id": "149",
                                    "(No column name)": "6",
                                    "RAKTAR_KOD": "NULL",
                                    "MEGYS": "NULL"
                                },
                                {
                                    "kat_id": "152",
                                    "(No column name)": "6",
                                    "RAKTAR_KOD": "NULL",
                                    "MEGYS": "NULL"
                                }
                            ]
                        },
                        "text/html": [
                            "<table>",
                            "<tr><th>kat_id</th><th>(No column name)</th><th>RAKTAR_KOD</th><th>MEGYS</th></tr>",
                            "<tr><td>NULL</td><td>11</td><td>1</td><td>db</td></tr>",
                            "<tr><td>NULL</td><td>11</td><td>1</td><td>NULL</td></tr>",
                            "<tr><td>NULL</td><td>14</td><td>3</td><td>db</td></tr>",
                            "<tr><td>NULL</td><td>14</td><td>3</td><td>NULL</td></tr>",
                            "<tr><td>NULL</td><td>7</td><td>5</td><td>csomag</td></tr>",
                            "<tr><td>NULL</td><td>72</td><td>5</td><td>db</td></tr>",
                            "<tr><td>NULL</td><td>86</td><td>5</td><td>NULL</td></tr>",
                            "<tr><td>NULL</td><td>9</td><td>6</td><td>csomag</td></tr>",
                            "<tr><td>NULL</td><td>94</td><td>6</td><td>db</td></tr>",
                            "<tr><td>NULL</td><td>106</td><td>6</td><td>NULL</td></tr>",
                            "<tr><td>NULL</td><td>9</td><td>7</td><td>csomag</td></tr>",
                            "<tr><td>NULL</td><td>88</td><td>7</td><td>db</td></tr>",
                            "<tr><td>NULL</td><td>100</td><td>7</td><td>NULL</td></tr>",
                            "<tr><td>NULL</td><td>8</td><td>8</td><td>csomag</td></tr>",
                            "<tr><td>NULL</td><td>109</td><td>8</td><td>db</td></tr>",
                            "<tr><td>NULL</td><td>6</td><td>8</td><td>ív</td></tr>",
                            "<tr><td>NULL</td><td>123</td><td>8</td><td>NULL</td></tr>",
                            "<tr><td>NULL</td><td>11</td><td>9</td><td>csomag</td></tr>",
                            "<tr><td>NULL</td><td>86</td><td>9</td><td>db</td></tr>",
                            "<tr><td>NULL</td><td>102</td><td>9</td><td>NULL</td></tr>",
                            "<tr><td>4</td><td>15</td><td>NULL</td><td>NULL</td></tr>",
                            "<tr><td>6</td><td>20</td><td>NULL</td><td>NULL</td></tr>",
                            "<tr><td>16</td><td>7</td><td>NULL</td><td>NULL</td></tr>",
                            "<tr><td>19</td><td>19</td><td>NULL</td><td>NULL</td></tr>",
                            "<tr><td>24</td><td>7</td><td>NULL</td><td>NULL</td></tr>",
                            "<tr><td>30</td><td>7</td><td>NULL</td><td>NULL</td></tr>",
                            "<tr><td>35</td><td>7</td><td>NULL</td><td>NULL</td></tr>",
                            "<tr><td>41</td><td>13</td><td>NULL</td><td>NULL</td></tr>",
                            "<tr><td>45</td><td>11</td><td>NULL</td><td>NULL</td></tr>",
                            "<tr><td>46</td><td>7</td><td>NULL</td><td>NULL</td></tr>",
                            "<tr><td>52</td><td>26</td><td>NULL</td><td>NULL</td></tr>",
                            "<tr><td>54</td><td>6</td><td>NULL</td><td>NULL</td></tr>",
                            "<tr><td>66</td><td>7</td><td>NULL</td><td>NULL</td></tr>",
                            "<tr><td>78</td><td>24</td><td>NULL</td><td>NULL</td></tr>",
                            "<tr><td>83</td><td>6</td><td>NULL</td><td>NULL</td></tr>",
                            "<tr><td>85</td><td>16</td><td>NULL</td><td>NULL</td></tr>",
                            "<tr><td>91</td><td>7</td><td>NULL</td><td>NULL</td></tr>",
                            "<tr><td>93</td><td>7</td><td>NULL</td><td>NULL</td></tr>",
                            "<tr><td>96</td><td>9</td><td>NULL</td><td>NULL</td></tr>",
                            "<tr><td>97</td><td>10</td><td>NULL</td><td>NULL</td></tr>",
                            "<tr><td>100</td><td>9</td><td>NULL</td><td>NULL</td></tr>",
                            "<tr><td>118</td><td>9</td><td>NULL</td><td>NULL</td></tr>",
                            "<tr><td>122</td><td>7</td><td>NULL</td><td>NULL</td></tr>",
                            "<tr><td>124</td><td>10</td><td>NULL</td><td>NULL</td></tr>",
                            "<tr><td>133</td><td>6</td><td>NULL</td><td>NULL</td></tr>",
                            "<tr><td>145</td><td>18</td><td>NULL</td><td>NULL</td></tr>",
                            "<tr><td>146</td><td>7</td><td>NULL</td><td>NULL</td></tr>",
                            "<tr><td>149</td><td>6</td><td>NULL</td><td>NULL</td></tr>",
                            "<tr><td>152</td><td>6</td><td>NULL</td><td>NULL</td></tr>",
                            "</table>"
                        ]
                    }
                }
            ],
            "execution_count": 19
        },
        {
            "cell_type": "markdown",
            "source": [
                "```\n",
                "3. Készítsünk listát az egyes termékkategóriákban lévő termékek számáról! \n",
                "\n",
                "```\n",
                "\n",
                "a. Elég megjeleníteni a kategóriák azonosítóit és a darabszámokat!   \n",
                "<span style=\"color: var(--vscode-foreground);\">b. A lista megfelelően jelölve tartalmazza a végösszeget is!&nbsp;<br></span> <span style=\"color: var(--vscode-foreground);\">c. Az oszlopokat nevezzük el értelemszerűen!&nbsp;<br></span> <span style=\"color: var(--vscode-foreground);\">d. A listát rendezzük a darabszám szerint növekvő sorrendbe!</span>\n",
                "\n",
                "  \n",
                "\n",
                "![](https://moodle.uni-corvinus.hu/theme/image.php/adaptable/atto_h5p/1709548862/icon)"
            ],
            "metadata": {
                "azdata_cell_guid": "d7876bb9-76d0-4d07-baed-3cb17b2f96c3"
            },
            "attachments": {}
        },
        {
            "cell_type": "code",
            "source": [
                "SELECT IIF(kat_id IS NULL,'Összesen', kat_id),CAST(kat_id AS NVARCHAR(5)) ,Count(termekkod) --IIF(Grouping_ID(Kat_ID)=1,'Összesen',CAst...)-->mindig 0, kivéve ha van részösszeg vagy végösszeg\r\n",
                "From Termek\r\n",
                "Group by ROLLUP (KAT_ID) --egy oszlopnál a rollup meg a cube ugyanazt csinálja\r\n",
                "Order by Count(TERMEKKOD) "
            ],
            "metadata": {
                "azdata_cell_guid": "56ec19ce-e249-4551-b2a8-f17569765acc",
                "language": "sql",
                "tags": []
            },
            "outputs": [
                {
                    "output_type": "display_data",
                    "data": {
                        "text/html": "Total execution time: 00:00:00.036"
                    },
                    "metadata": {}
                },
                {
                    "output_type": "execute_result",
                    "metadata": {},
                    "execution_count": 15,
                    "data": {
                        "application/vnd.dataresource+json": {
                            "schema": {
                                "fields": [
                                    {
                                        "name": "(No column name)"
                                    },
                                    {
                                        "name": "(No column name)"
                                    },
                                    {
                                        "name": "(No column name)"
                                    }
                                ]
                            },
                            "data": [
                                {
                                    "(No column name)": "1"
                                },
                                {
                                    "(No column name)": "1"
                                },
                                {
                                    "(No column name)": "1"
                                },
                                {
                                    "(No column name)": "1"
                                },
                                {
                                    "(No column name)": "1"
                                },
                                {
                                    "(No column name)": "1"
                                },
                                {
                                    "(No column name)": "1"
                                },
                                {
                                    "(No column name)": "1"
                                },
                                {
                                    "(No column name)": "1"
                                },
                                {
                                    "(No column name)": "1"
                                },
                                {
                                    "(No column name)": "1"
                                },
                                {
                                    "(No column name)": "1"
                                },
                                {
                                    "(No column name)": "1"
                                },
                                {
                                    "(No column name)": "1"
                                },
                                {
                                    "(No column name)": "1"
                                },
                                {
                                    "(No column name)": "1"
                                },
                                {
                                    "(No column name)": "1"
                                },
                                {
                                    "(No column name)": "1"
                                },
                                {
                                    "(No column name)": "1"
                                },
                                {
                                    "(No column name)": "1"
                                },
                                {
                                    "(No column name)": "1"
                                },
                                {
                                    "(No column name)": "1"
                                },
                                {
                                    "(No column name)": "1"
                                },
                                {
                                    "(No column name)": "1"
                                },
                                {
                                    "(No column name)": "1"
                                },
                                {
                                    "(No column name)": "1"
                                },
                                {
                                    "(No column name)": "1"
                                },
                                {
                                    "(No column name)": "1"
                                },
                                {
                                    "(No column name)": "1"
                                },
                                {
                                    "(No column name)": "1"
                                },
                                {
                                    "(No column name)": "1"
                                },
                                {
                                    "(No column name)": "1"
                                },
                                {
                                    "(No column name)": "1"
                                },
                                {
                                    "(No column name)": "1"
                                },
                                {
                                    "(No column name)": "1"
                                },
                                {
                                    "(No column name)": "1"
                                },
                                {
                                    "(No column name)": "1"
                                },
                                {
                                    "(No column name)": "1"
                                },
                                {
                                    "(No column name)": "1"
                                },
                                {
                                    "(No column name)": "1"
                                },
                                {
                                    "(No column name)": "1"
                                },
                                {
                                    "(No column name)": "1"
                                },
                                {
                                    "(No column name)": "1"
                                },
                                {
                                    "(No column name)": "1"
                                },
                                {
                                    "(No column name)": "2"
                                },
                                {
                                    "(No column name)": "2"
                                },
                                {
                                    "(No column name)": "2"
                                },
                                {
                                    "(No column name)": "2"
                                },
                                {
                                    "(No column name)": "2"
                                },
                                {
                                    "(No column name)": "2"
                                },
                                {
                                    "(No column name)": "2"
                                },
                                {
                                    "(No column name)": "2"
                                },
                                {
                                    "(No column name)": "2"
                                },
                                {
                                    "(No column name)": "2"
                                },
                                {
                                    "(No column name)": "2"
                                },
                                {
                                    "(No column name)": "2"
                                },
                                {
                                    "(No column name)": "2"
                                },
                                {
                                    "(No column name)": "2"
                                },
                                {
                                    "(No column name)": "2"
                                },
                                {
                                    "(No column name)": "2"
                                },
                                {
                                    "(No column name)": "2"
                                },
                                {
                                    "(No column name)": "2"
                                },
                                {
                                    "(No column name)": "2"
                                },
                                {
                                    "(No column name)": "2"
                                },
                                {
                                    "(No column name)": "2"
                                },
                                {
                                    "(No column name)": "2"
                                },
                                {
                                    "(No column name)": "2"
                                },
                                {
                                    "(No column name)": "2"
                                },
                                {
                                    "(No column name)": "2"
                                },
                                {
                                    "(No column name)": "2"
                                },
                                {
                                    "(No column name)": "2"
                                },
                                {
                                    "(No column name)": "2"
                                },
                                {
                                    "(No column name)": "2"
                                },
                                {
                                    "(No column name)": "2"
                                },
                                {
                                    "(No column name)": "2"
                                },
                                {
                                    "(No column name)": "2"
                                },
                                {
                                    "(No column name)": "2"
                                },
                                {
                                    "(No column name)": "2"
                                },
                                {
                                    "(No column name)": "2"
                                },
                                {
                                    "(No column name)": "2"
                                },
                                {
                                    "(No column name)": "2"
                                },
                                {
                                    "(No column name)": "3"
                                },
                                {
                                    "(No column name)": "3"
                                },
                                {
                                    "(No column name)": "3"
                                },
                                {
                                    "(No column name)": "3"
                                },
                                {
                                    "(No column name)": "3"
                                },
                                {
                                    "(No column name)": "3"
                                },
                                {
                                    "(No column name)": "3"
                                },
                                {
                                    "(No column name)": "3"
                                },
                                {
                                    "(No column name)": "3"
                                },
                                {
                                    "(No column name)": "3"
                                },
                                {
                                    "(No column name)": "3"
                                },
                                {
                                    "(No column name)": "3"
                                },
                                {
                                    "(No column name)": "3"
                                },
                                {
                                    "(No column name)": "3"
                                },
                                {
                                    "(No column name)": "3"
                                },
                                {
                                    "(No column name)": "4"
                                },
                                {
                                    "(No column name)": "4"
                                },
                                {
                                    "(No column name)": "4"
                                },
                                {
                                    "(No column name)": "4"
                                },
                                {
                                    "(No column name)": "4"
                                },
                                {
                                    "(No column name)": "4"
                                },
                                {
                                    "(No column name)": "4"
                                },
                                {
                                    "(No column name)": "4"
                                },
                                {
                                    "(No column name)": "4"
                                },
                                {
                                    "(No column name)": "4"
                                },
                                {
                                    "(No column name)": "4"
                                },
                                {
                                    "(No column name)": "5"
                                },
                                {
                                    "(No column name)": "5"
                                },
                                {
                                    "(No column name)": "5"
                                },
                                {
                                    "(No column name)": "5"
                                },
                                {
                                    "(No column name)": "5"
                                },
                                {
                                    "(No column name)": "5"
                                },
                                {
                                    "(No column name)": "5"
                                },
                                {
                                    "(No column name)": "6"
                                },
                                {
                                    "(No column name)": "6"
                                },
                                {
                                    "(No column name)": "6"
                                },
                                {
                                    "(No column name)": "6"
                                },
                                {
                                    "(No column name)": "6"
                                },
                                {
                                    "(No column name)": "7"
                                },
                                {
                                    "(No column name)": "7"
                                },
                                {
                                    "(No column name)": "7"
                                },
                                {
                                    "(No column name)": "7"
                                },
                                {
                                    "(No column name)": "7"
                                },
                                {
                                    "(No column name)": "7"
                                },
                                {
                                    "(No column name)": "7"
                                },
                                {
                                    "(No column name)": "7"
                                },
                                {
                                    "(No column name)": "7"
                                },
                                {
                                    "(No column name)": "7"
                                },
                                {
                                    "(No column name)": "9"
                                },
                                {
                                    "(No column name)": "9"
                                },
                                {
                                    "(No column name)": "9"
                                },
                                {
                                    "(No column name)": "10"
                                },
                                {
                                    "(No column name)": "10"
                                },
                                {
                                    "(No column name)": "11"
                                },
                                {
                                    "(No column name)": "13"
                                },
                                {
                                    "(No column name)": "15"
                                },
                                {
                                    "(No column name)": "16"
                                },
                                {
                                    "(No column name)": "18"
                                },
                                {
                                    "(No column name)": "19"
                                },
                                {
                                    "(No column name)": "20"
                                },
                                {
                                    "(No column name)": "24"
                                },
                                {
                                    "(No column name)": "26"
                                }
                            ]
                        },
                        "text/html": [
                            "<table>",
                            "<tr><th>(No column name)</th><th>(No column name)</th><th>(No column name)</th></tr>",
                            "<tr><td>10</td><td>10</td><td>1</td></tr>",
                            "<tr><td>11</td><td>11</td><td>1</td></tr>",
                            "<tr><td>12</td><td>12</td><td>1</td></tr>",
                            "<tr><td>15</td><td>15</td><td>1</td></tr>",
                            "<tr><td>17</td><td>17</td><td>1</td></tr>",
                            "<tr><td>26</td><td>26</td><td>1</td></tr>",
                            "<tr><td>29</td><td>29</td><td>1</td></tr>",
                            "<tr><td>31</td><td>31</td><td>1</td></tr>",
                            "<tr><td>33</td><td>33</td><td>1</td></tr>",
                            "<tr><td>34</td><td>34</td><td>1</td></tr>",
                            "<tr><td>37</td><td>37</td><td>1</td></tr>",
                            "<tr><td>38</td><td>38</td><td>1</td></tr>",
                            "<tr><td>40</td><td>40</td><td>1</td></tr>",
                            "<tr><td>42</td><td>42</td><td>1</td></tr>",
                            "<tr><td>44</td><td>44</td><td>1</td></tr>",
                            "<tr><td>50</td><td>50</td><td>1</td></tr>",
                            "<tr><td>53</td><td>53</td><td>1</td></tr>",
                            "<tr><td>61</td><td>61</td><td>1</td></tr>",
                            "<tr><td>74</td><td>74</td><td>1</td></tr>",
                            "<tr><td>80</td><td>80</td><td>1</td></tr>",
                            "<tr><td>82</td><td>82</td><td>1</td></tr>",
                            "<tr><td>84</td><td>84</td><td>1</td></tr>",
                            "<tr><td>86</td><td>86</td><td>1</td></tr>",
                            "<tr><td>99</td><td>99</td><td>1</td></tr>",
                            "<tr><td>101</td><td>101</td><td>1</td></tr>",
                            "<tr><td>103</td><td>103</td><td>1</td></tr>",
                            "<tr><td>105</td><td>105</td><td>1</td></tr>",
                            "<tr><td>107</td><td>107</td><td>1</td></tr>",
                            "<tr><td>108</td><td>108</td><td>1</td></tr>",
                            "<tr><td>109</td><td>109</td><td>1</td></tr>",
                            "<tr><td>114</td><td>114</td><td>1</td></tr>",
                            "<tr><td>115</td><td>115</td><td>1</td></tr>",
                            "<tr><td>126</td><td>126</td><td>1</td></tr>",
                            "<tr><td>130</td><td>130</td><td>1</td></tr>",
                            "<tr><td>131</td><td>131</td><td>1</td></tr>",
                            "<tr><td>132</td><td>132</td><td>1</td></tr>",
                            "<tr><td>135</td><td>135</td><td>1</td></tr>",
                            "<tr><td>139</td><td>139</td><td>1</td></tr>",
                            "<tr><td>140</td><td>140</td><td>1</td></tr>",
                            "<tr><td>142</td><td>142</td><td>1</td></tr>",
                            "<tr><td>147</td><td>147</td><td>1</td></tr>",
                            "<tr><td>148</td><td>148</td><td>1</td></tr>",
                            "<tr><td>153</td><td>153</td><td>1</td></tr>",
                            "<tr><td>155</td><td>155</td><td>1</td></tr>",
                            "<tr><td>150</td><td>150</td><td>2</td></tr>",
                            "<tr><td>144</td><td>144</td><td>2</td></tr>",
                            "<tr><td>141</td><td>141</td><td>2</td></tr>",
                            "<tr><td>136</td><td>136</td><td>2</td></tr>",
                            "<tr><td>123</td><td>123</td><td>2</td></tr>",
                            "<tr><td>134</td><td>134</td><td>2</td></tr>",
                            "<tr><td>127</td><td>127</td><td>2</td></tr>",
                            "<tr><td>128</td><td>128</td><td>2</td></tr>",
                            "<tr><td>129</td><td>129</td><td>2</td></tr>",
                            "<tr><td>116</td><td>116</td><td>2</td></tr>",
                            "<tr><td>117</td><td>117</td><td>2</td></tr>",
                            "<tr><td>112</td><td>112</td><td>2</td></tr>",
                            "<tr><td>121</td><td>121</td><td>2</td></tr>",
                            "<tr><td>110</td><td>110</td><td>2</td></tr>",
                            "<tr><td>104</td><td>104</td><td>2</td></tr>",
                            "<tr><td>94</td><td>94</td><td>2</td></tr>",
                            "<tr><td>95</td><td>95</td><td>2</td></tr>",
                            "<tr><td>88</td><td>88</td><td>2</td></tr>",
                            "<tr><td>90</td><td>90</td><td>2</td></tr>",
                            "<tr><td>92</td><td>92</td><td>2</td></tr>",
                            "<tr><td>71</td><td>71</td><td>2</td></tr>",
                            "<tr><td>72</td><td>72</td><td>2</td></tr>",
                            "<tr><td>73</td><td>73</td><td>2</td></tr>",
                            "<tr><td>75</td><td>75</td><td>2</td></tr>",
                            "<tr><td>62</td><td>62</td><td>2</td></tr>",
                            "<tr><td>55</td><td>55</td><td>2</td></tr>",
                            "<tr><td>65</td><td>65</td><td>2</td></tr>",
                            "<tr><td>67</td><td>67</td><td>2</td></tr>",
                            "<tr><td>68</td><td>68</td><td>2</td></tr>",
                            "<tr><td>57</td><td>57</td><td>2</td></tr>",
                            "<tr><td>48</td><td>48</td><td>2</td></tr>",
                            "<tr><td>49</td><td>49</td><td>2</td></tr>",
                            "<tr><td>39</td><td>39</td><td>2</td></tr>",
                            "<tr><td>22</td><td>22</td><td>2</td></tr>",
                            "<tr><td>18</td><td>18</td><td>2</td></tr>",
                            "<tr><td>9</td><td>9</td><td>2</td></tr>",
                            "<tr><td>13</td><td>13</td><td>2</td></tr>",
                            "<tr><td>5</td><td>5</td><td>3</td></tr>",
                            "<tr><td>7</td><td>7</td><td>3</td></tr>",
                            "<tr><td>8</td><td>8</td><td>3</td></tr>",
                            "<tr><td>20</td><td>20</td><td>3</td></tr>",
                            "<tr><td>27</td><td>27</td><td>3</td></tr>",
                            "<tr><td>32</td><td>32</td><td>3</td></tr>",
                            "<tr><td>43</td><td>43</td><td>3</td></tr>",
                            "<tr><td>58</td><td>58</td><td>3</td></tr>",
                            "<tr><td>51</td><td>51</td><td>3</td></tr>",
                            "<tr><td>70</td><td>70</td><td>3</td></tr>",
                            "<tr><td>89</td><td>89</td><td>3</td></tr>",
                            "<tr><td>111</td><td>111</td><td>3</td></tr>",
                            "<tr><td>119</td><td>119</td><td>3</td></tr>",
                            "<tr><td>137</td><td>137</td><td>3</td></tr>",
                            "<tr><td>143</td><td>143</td><td>3</td></tr>",
                            "<tr><td>151</td><td>151</td><td>4</td></tr>",
                            "<tr><td>154</td><td>154</td><td>4</td></tr>",
                            "<tr><td>125</td><td>125</td><td>4</td></tr>",
                            "<tr><td>79</td><td>79</td><td>4</td></tr>",
                            "<tr><td>98</td><td>98</td><td>4</td></tr>",
                            "<tr><td>56</td><td>56</td><td>4</td></tr>",
                            "<tr><td>64</td><td>64</td><td>4</td></tr>",
                            "<tr><td>59</td><td>59</td><td>4</td></tr>",
                            "<tr><td>47</td><td>47</td><td>4</td></tr>",
                            "<tr><td>25</td><td>25</td><td>4</td></tr>",
                            "<tr><td>14</td><td>14</td><td>4</td></tr>",
                            "<tr><td>21</td><td>21</td><td>5</td></tr>",
                            "<tr><td>36</td><td>36</td><td>5</td></tr>",
                            "<tr><td>28</td><td>28</td><td>5</td></tr>",
                            "<tr><td>60</td><td>60</td><td>5</td></tr>",
                            "<tr><td>76</td><td>76</td><td>5</td></tr>",
                            "<tr><td>106</td><td>106</td><td>5</td></tr>",
                            "<tr><td>138</td><td>138</td><td>5</td></tr>",
                            "<tr><td>133</td><td>133</td><td>6</td></tr>",
                            "<tr><td>152</td><td>152</td><td>6</td></tr>",
                            "<tr><td>149</td><td>149</td><td>6</td></tr>",
                            "<tr><td>83</td><td>83</td><td>6</td></tr>",
                            "<tr><td>54</td><td>54</td><td>6</td></tr>",
                            "<tr><td>46</td><td>46</td><td>7</td></tr>",
                            "<tr><td>66</td><td>66</td><td>7</td></tr>",
                            "<tr><td>24</td><td>24</td><td>7</td></tr>",
                            "<tr><td>30</td><td>30</td><td>7</td></tr>",
                            "<tr><td>35</td><td>35</td><td>7</td></tr>",
                            "<tr><td>16</td><td>16</td><td>7</td></tr>",
                            "<tr><td>146</td><td>146</td><td>7</td></tr>",
                            "<tr><td>122</td><td>122</td><td>7</td></tr>",
                            "<tr><td>93</td><td>93</td><td>7</td></tr>",
                            "<tr><td>91</td><td>91</td><td>7</td></tr>",
                            "<tr><td>100</td><td>100</td><td>9</td></tr>",
                            "<tr><td>96</td><td>96</td><td>9</td></tr>",
                            "<tr><td>118</td><td>118</td><td>9</td></tr>",
                            "<tr><td>97</td><td>97</td><td>10</td></tr>",
                            "<tr><td>124</td><td>124</td><td>10</td></tr>",
                            "<tr><td>45</td><td>45</td><td>11</td></tr>",
                            "<tr><td>41</td><td>41</td><td>13</td></tr>",
                            "<tr><td>4</td><td>4</td><td>15</td></tr>",
                            "<tr><td>85</td><td>85</td><td>16</td></tr>",
                            "<tr><td>145</td><td>145</td><td>18</td></tr>",
                            "<tr><td>19</td><td>19</td><td>19</td></tr>",
                            "<tr><td>6</td><td>6</td><td>20</td></tr>",
                            "<tr><td>78</td><td>78</td><td>24</td></tr>",
                            "<tr><td>52</td><td>52</td><td>26</td></tr>",
                            "</table>"
                        ]
                    }
                },
                {
                    "output_type": "error",
                    "evalue": "Msg 245, Level 16, State 1, Line 1\r\nConversion failed when converting the varchar value 'Összesen' to data type int.",
                    "ename": "",
                    "traceback": []
                }
            ],
            "execution_count": 15
        },
        {
            "cell_type": "markdown",
            "source": [
                "4. <span style=\"background-color: rgb(255, 255, 255); color: rgb(0, 0, 0); font-family: &quot;Open Sans&quot;, sans-serif; font-size: 14.44px;\">Készítsünk listát az ügyfelek számáról születési év szerint, azon belül nem szerinti bontásban!&nbsp;</span> \n",
                "\n",
                "a. A lista megfelelően jelölve tartalmazza a részösszegeket és a végösszeget is!  \n",
                "b. Az oszlopoknak adjunk nevet értelemszerűen!"
            ],
            "metadata": {
                "azdata_cell_guid": "8e7fef82-8022-49a0-8255-fc2846c2134b"
            },
            "attachments": {}
        },
        {
            "cell_type": "code",
            "source": [
                ""
            ],
            "metadata": {
                "azdata_cell_guid": "36f7b396-4a1f-45e5-8720-2302537c91bc",
                "language": "sql"
            },
            "outputs": [],
            "execution_count": null
        },
        {
            "cell_type": "markdown",
            "source": [
                "5. <span style=\"background-color: rgb(255, 255, 255); color: rgb(0, 0, 0); font-family: &quot;Open Sans&quot;, sans-serif; font-size: 14.44px;\">Készítsünk listát a termékek számáról a felvitel hónapja, azon belül napja szerint csoportosítva.&nbsp;</span> \n",
                "\n",
                "a. A lista csak a részösszegeket és a végösszeget tartalmazza!  \n",
                "b. Az oszlopoknak adjunk megfelelő nevet!  \n",
                "c. Ötlet: HAVING + GROUPING\\_ID fv együttes használata"
            ],
            "metadata": {
                "azdata_cell_guid": "84239ca2-6b5e-49f5-9860-d44c11d6de32"
            },
            "attachments": {}
        },
        {
            "cell_type": "code",
            "source": [
                "SELECT Month(Felvitel), Day(felvitel), Count(TERMEKKOD), GROUPING_ID(Month(Felvitel), Day(felvitel))\r\n",
                "From termek\r\n",
                "Group by Rollup(Month(Felvitel), Day(felvitel))\r\n",
                "HAving  GROUPING_ID(Month(Felvitel), Day(felvitel)) in (1,3)\r\n",
                ""
            ],
            "metadata": {
                "azdata_cell_guid": "06d9a62b-9430-424b-a135-d80e675f0eb3",
                "language": "sql"
            },
            "outputs": [
                {
                    "output_type": "display_data",
                    "data": {
                        "text/html": "(5 rows affected)"
                    },
                    "metadata": {}
                },
                {
                    "output_type": "display_data",
                    "data": {
                        "text/html": "Total execution time: 00:00:00.009"
                    },
                    "metadata": {}
                },
                {
                    "output_type": "execute_result",
                    "metadata": {},
                    "execution_count": 16,
                    "data": {
                        "application/vnd.dataresource+json": {
                            "schema": {
                                "fields": [
                                    {
                                        "name": "(No column name)"
                                    },
                                    {
                                        "name": "(No column name)"
                                    },
                                    {
                                        "name": "(No column name)"
                                    },
                                    {
                                        "name": "(No column name)"
                                    }
                                ]
                            },
                            "data": [
                                {
                                    "(No column name)": "1"
                                },
                                {
                                    "(No column name)": "1"
                                },
                                {
                                    "(No column name)": "1"
                                },
                                {
                                    "(No column name)": "1"
                                },
                                {
                                    "(No column name)": "3"
                                }
                            ]
                        },
                        "text/html": [
                            "<table>",
                            "<tr><th>(No column name)</th><th>(No column name)</th><th>(No column name)</th><th>(No column name)</th></tr>",
                            "<tr><td>7</td><td>NULL</td><td>355</td><td>1</td></tr>",
                            "<tr><td>8</td><td>NULL</td><td>194</td><td>1</td></tr>",
                            "<tr><td>9</td><td>NULL</td><td>1</td><td>1</td></tr>",
                            "<tr><td>12</td><td>NULL</td><td>1</td><td>1</td></tr>",
                            "<tr><td>NULL</td><td>NULL</td><td>551</td><td>3</td></tr>",
                            "</table>"
                        ]
                    }
                }
            ],
            "execution_count": 16
        }
    ]
}