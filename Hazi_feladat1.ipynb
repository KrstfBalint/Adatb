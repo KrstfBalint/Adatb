{
    "metadata": {
        "kernelspec": {
            "name": "SQL",
            "display_name": "SQL",
            "language": "sql"
        },
        "language_info": {
            "name": "sql",
            "version": ""
        }
    },
    "nbformat_minor": 2,
    "nbformat": 4,
    "cells": [
        {
            "cell_type": "code",
            "source": [
                "Select Min(LISTAAR) AS 'Minimum', MAX(LISTAAR) AS 'Maximum', AVG(LISTAAR) AS 'Átlag'\r\n",
                "From Termek\r\n",
                "Where LISTAAR Is not NULL"
            ],
            "metadata": {
                "azdata_cell_guid": "0677bea6-2965-43eb-9012-a521b4734818",
                "language": "sql"
            },
            "outputs": [
                {
                    "output_type": "display_data",
                    "data": {
                        "text/html": "(1 row affected)"
                    },
                    "metadata": {}
                },
                {
                    "output_type": "display_data",
                    "data": {
                        "text/html": "Total execution time: 00:00:00.014"
                    },
                    "metadata": {}
                },
                {
                    "output_type": "execute_result",
                    "metadata": {},
                    "execution_count": 2,
                    "data": {
                        "application/vnd.dataresource+json": {
                            "schema": {
                                "fields": [
                                    {
                                        "name": "Minimum"
                                    },
                                    {
                                        "name": "Maximum"
                                    },
                                    {
                                        "name": "Átlag"
                                    }
                                ]
                            },
                            "data": [
                                {
                                    "Minimum": "0",
                                    "Maximum": "46000",
                                    "Átlag": "786,2813067150635"
                                }
                            ]
                        },
                        "text/html": [
                            "<table>",
                            "<tr><th>Minimum</th><th>Maximum</th><th>Átlag</th></tr>",
                            "<tr><td>0</td><td>46000</td><td>786,2813067150635</td></tr>",
                            "</table>"
                        ]
                    }
                }
            ],
            "execution_count": 2
        },
        {
            "cell_type": "code",
            "source": [
                "DECLARE \r\n",
                "@min int=100,\r\n",
                "@max int =1000;\r\n",
                "Select \r\n",
                "SUM(CASE WHEN Keszlet<@min THEN 1 ELSE 0 END) AS 'Kevés van készleten(<100)',\r\n",
                "SUM(CASE WHEN Keszlet Between @min and @max THEN 1 ELSE 0 END) AS 'Közepes mennyiség van készleten',\r\n",
                "SUM(CASE WHEN Keszlet>@max THEN 1 ELSE 0 END) AS 'Sok van készleten(>1000)'\r\n",
                "From termek\r\n",
                ""
            ],
            "metadata": {
                "azdata_cell_guid": "ffb1e634-de6b-4c7a-8db1-1bfb32bb8ba3",
                "language": "sql"
            },
            "outputs": [
                {
                    "output_type": "display_data",
                    "data": {
                        "text/html": "(1 row affected)"
                    },
                    "metadata": {}
                },
                {
                    "output_type": "display_data",
                    "data": {
                        "text/html": "Total execution time: 00:00:00.013"
                    },
                    "metadata": {}
                },
                {
                    "output_type": "execute_result",
                    "metadata": {},
                    "execution_count": 18,
                    "data": {
                        "application/vnd.dataresource+json": {
                            "schema": {
                                "fields": [
                                    {
                                        "name": "Kevés van készleten(&lt;100)"
                                    },
                                    {
                                        "name": "Közepes mennyiség van készleten"
                                    },
                                    {
                                        "name": "Sok van készleten(&gt;1000)"
                                    }
                                ]
                            },
                            "data": [
                                {
                                    "Kevés van készleten(<100)": "6",
                                    "Közepes mennyiség van készleten": "399",
                                    "Sok van készleten(>1000)": "146"
                                }
                            ]
                        },
                        "text/html": [
                            "<table>",
                            "<tr><th>Kevés van készleten(&lt;100)</th><th>Közepes mennyiség van készleten</th><th>Sok van készleten(&gt;1000)</th></tr>",
                            "<tr><td>6</td><td>399</td><td>146</td></tr>",
                            "</table>"
                        ]
                    }
                }
            ],
            "execution_count": 18
        },
        {
            "cell_type": "code",
            "source": [
                "SELECT COUNT(Distinct KAT_ID) AS 'Kategóriák száma'\r\n",
                "From Termek\r\n",
                "Where Kat_ID IS NOT NULL"
            ],
            "metadata": {
                "azdata_cell_guid": "bba413fb-6c96-4f5c-aab1-c20fb553f573",
                "language": "sql"
            },
            "outputs": [
                {
                    "output_type": "display_data",
                    "data": {
                        "text/html": "(1 row affected)"
                    },
                    "metadata": {}
                },
                {
                    "output_type": "display_data",
                    "data": {
                        "text/html": "Total execution time: 00:00:00.021"
                    },
                    "metadata": {}
                },
                {
                    "output_type": "execute_result",
                    "metadata": {},
                    "execution_count": 19,
                    "data": {
                        "application/vnd.dataresource+json": {
                            "schema": {
                                "fields": [
                                    {
                                        "name": "Kategóriák száma"
                                    }
                                ]
                            },
                            "data": [
                                {
                                    "Kategóriák száma": "143"
                                }
                            ]
                        },
                        "text/html": [
                            "<table>",
                            "<tr><th>Kategóriák száma</th></tr>",
                            "<tr><td>143</td></tr>",
                            "</table>"
                        ]
                    }
                }
            ],
            "execution_count": 19
        },
        {
            "cell_type": "code",
            "source": [
                "SELECT COUNT (*) AS 'Termékek száma'\r\n",
                "From Termek"
            ],
            "metadata": {
                "azdata_cell_guid": "e360fe7b-273a-4f84-85ab-3e7fcdc03ae4",
                "language": "sql"
            },
            "outputs": [
                {
                    "output_type": "display_data",
                    "data": {
                        "text/html": "(1 row affected)"
                    },
                    "metadata": {}
                },
                {
                    "output_type": "display_data",
                    "data": {
                        "text/html": "Total execution time: 00:00:00.011"
                    },
                    "metadata": {}
                },
                {
                    "output_type": "execute_result",
                    "metadata": {},
                    "execution_count": 4,
                    "data": {
                        "application/vnd.dataresource+json": {
                            "schema": {
                                "fields": [
                                    {
                                        "name": "Termékek száma"
                                    }
                                ]
                            },
                            "data": [
                                {
                                    "Termékek száma": "551"
                                }
                            ]
                        },
                        "text/html": [
                            "<table>",
                            "<tr><th>Termékek száma</th></tr>",
                            "<tr><td>551</td></tr>",
                            "</table>"
                        ]
                    }
                }
            ],
            "execution_count": 4
        },
        {
            "cell_type": "code",
            "source": [
                "SELECT TOP 3 Felvitte AS 'Leggyakoribb felvivők', Count(*) AS 'Felvitelek száma'\r\n",
                "From Termek\r\n",
                "Where Felvitte is not NULL\r\n",
                "Group by FELVITTE\r\n",
                "Order by Count(*) Desc"
            ],
            "metadata": {
                "azdata_cell_guid": "9658eb8e-ca17-45e8-86f8-4be4fd74f47c",
                "language": "sql"
            },
            "outputs": [
                {
                    "output_type": "display_data",
                    "data": {
                        "text/html": "(3 rows affected)"
                    },
                    "metadata": {}
                },
                {
                    "output_type": "display_data",
                    "data": {
                        "text/html": "Total execution time: 00:00:00.397"
                    },
                    "metadata": {}
                },
                {
                    "output_type": "execute_result",
                    "metadata": {},
                    "execution_count": 21,
                    "data": {
                        "application/vnd.dataresource+json": {
                            "schema": {
                                "fields": [
                                    {
                                        "name": "Leggyakoribb felvivők"
                                    },
                                    {
                                        "name": "Felvitelek száma"
                                    }
                                ]
                            },
                            "data": [
                                {
                                    "Leggyakoribb felvivők": "Béla",
                                    "Felvitelek száma": "189"
                                },
                                {
                                    "Leggyakoribb felvivők": "Sára",
                                    "Felvitelek száma": "188"
                                },
                                {
                                    "Leggyakoribb felvivők": "Mari",
                                    "Felvitelek száma": "174"
                                }
                            ]
                        },
                        "text/html": [
                            "<table>",
                            "<tr><th>Leggyakoribb felvivők</th><th>Felvitelek száma</th></tr>",
                            "<tr><td>Béla</td><td>189</td></tr>",
                            "<tr><td>Sára</td><td>188</td></tr>",
                            "<tr><td>Mari</td><td>174</td></tr>",
                            "</table>"
                        ]
                    }
                }
            ],
            "execution_count": 21
        }
    ]
}